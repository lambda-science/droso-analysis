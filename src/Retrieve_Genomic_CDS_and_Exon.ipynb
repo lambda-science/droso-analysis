{
 "cells": [
  {
   "cell_type": "markdown",
   "execution_count": null,
   "metadata": {},
   "outputs": [],
   "source": [
    "# Script permettant de récupérer les séquences genomiques/CDS des transcript d'intéret (sequence/id) ainsi que les positiosn des exons (lookup/id)\n",
    "\n",
    "Input: fichier transcript_ensembl.tab tableau de correspondance Uniprot AC/ID -> Ensembl Transcript téléchargé sur https://www.uniprot.org/uploadlists/  \n",
    "Output:  \n",
    "    genomic_new.fa / cds_new.fa fichier contenant toute les séquences fasta (génomique ou CDS) pour nos protéines d'intérêt  \n",
    "    lookup_newline.json fichier JSON contenant les coordonées exonique de toute les séquences à traiter pour générer les exon map."
   ]
  },
  {
   "cell_type": "code",
   "execution_count": 1,
   "metadata": {},
   "outputs": [],
   "source": [
    "# Importation des lib et data \n",
    "\n",
    "import pandas as pd\n",
    "import requests, sys\n",
    "import grequests\n",
    "import json\n",
    "ID_file = pd.read_csv(\"../raw/uniprot-exon-map/transcript_ensembl.tab\", sep = \"\\t\")"
   ]
  },
  {
   "cell_type": "code",
   "execution_count": 3,
   "metadata": {},
   "outputs": [
    {
     "name": "stderr",
     "output_type": "stream",
     "text": "C:\\ProgramData\\Anaconda3\\lib\\site-packages\\gevent\\hub.py:154: UserWarning: libuv only supports millisecond timer resolution; all times less will be set to 1 ms\n  with loop.timer(seconds, ref=ref) as t:\n"
    }
   ],
   "source": [
    "# Création des requêtes parallèles sur les serveur de ensembl pour récupérer les séquences génomique ou CDS (changer type: genomic ou cds)\n",
    "# Peut etre assez long (1h - 1H30), changer le paramètre size pour faire plus de requête simultanée\n",
    "# Check en printant all_response si toute les réponses sont 200, dans le cas contraire certaines données sont perdues / sont à refaire\n",
    "url = \"https://rest.ensembl.org/sequence/id\"\n",
    "headers={ \"Content-Type\" : \"application/json\", \"Accept\" : \"application/json\"}\n",
    "\n",
    "params = []\n",
    "for i in range(0, 9960, 50):\n",
    "    try:\n",
    "        params.append({\"ids\": ID_file.iloc[i:i+50,1].tolist(), \"type\":\"genomic\"})\n",
    "    except:\n",
    "        params.append({\"ids\": ID_file.iloc[i:,1].tolist(), \"type\":\"genomic\"})\n",
    "\n",
    "        \n",
    "rs = [grequests.post(url, headers=headers, data=json.dumps(i)) for i in params]\n",
    "all_response = grequests.map(rs, size=50)"
   ]
  },
  {
   "cell_type": "code",
   "execution_count": 6,
   "metadata": {},
   "outputs": [
    {
     "name": "stderr",
     "output_type": "stream",
     "text": "C:\\ProgramData\\Anaconda3\\lib\\site-packages\\gevent\\hub.py:154: UserWarning: libuv only supports millisecond timer resolution; all times less will be set to 1 ms\n  with loop.timer(seconds, ref=ref) as t:\n"
    }
   ],
   "source": [
    "# Ecriture des résultats des réponses dans un fichier fasta. Penser à changer le nom du fichier et le header par le bon type CDS/GENOMIC\n",
    "f = open(\"../raw/uniprot-exon-map/genomic_new.fa\", \"w\")\n",
    "indice = 0\n",
    "for response in all_response:\n",
    "    j = 0\n",
    "    try:\n",
    "        for entry in response.json():\n",
    "            f.write(\">\"+entry['query']+\" \"+str(ID_file.iloc[indice*50+j,0]) + \" GENOMIC\\n\")\n",
    "            f.write(entry['seq']+\"\\n\")\n",
    "            j = j+1\n",
    "    except:\n",
    "        pass\n",
    "    indice = indice + 1\n",
    "\n",
    "f.close()"
   ]
  },
  {
   "cell_type": "code",
   "execution_count": 2,
   "metadata": {},
   "outputs": [
    {
     "name": "stderr",
     "output_type": "stream",
     "text": [
      "C:\\ProgramData\\Anaconda3\\lib\\site-packages\\gevent\\hub.py:154: UserWarning: libuv only supports millisecond timer resolution; all times less will be set to 1 ms\n",
      "  with loop.timer(seconds, ref=ref) as t:\n"
     ]
    }
   ],
   "source": [
    "# Création des requêtes parallèles sur les serveur de ensembl pour récupérer les séquences informations de localisation des exons\n",
    "# Peut etre assez long (1h)\n",
    "# Check en printant all_response si toute les réponses sont 200, dans le cas contraire certaines données sont perdues / sont à refaire\n",
    "url = \"https://rest.ensembl.org/lookup/id/\"\n",
    "headers={ \"Content-Type\" : \"application/json\", \"Accept\" : \"application/json\"}\n",
    "\n",
    "params = []\n",
    "for i in range(0, 9960, 1000):\n",
    "    try:\n",
    "        params.append({\"ids\": ID_file.iloc[i:i+1000,1].tolist(), \"expand\":\"1\"})\n",
    "    except:\n",
    "        params.append({\"ids\": ID_file.iloc[i:,1].tolist(), \"expand\":\"1\"})\n",
    "\n",
    "rs = [grequests.post(url, headers=headers, data=json.dumps(i)) for i in params]\n",
    "all_response = grequests.map(rs)"
   ]
  },
  {
   "cell_type": "code",
   "execution_count": 67,
   "metadata": {},
   "outputs": [],
   "source": [
    "# Ecriture des résultats des réponses dans un fichier json.\n",
    "f = open(\"../uniprot-to-exon/lookup_newline.json\", \"a\")\n",
    "for response in all_response_V2:\n",
    "    try:\n",
    "        f.write(json.dumps(response.json())+\"\\n\")\n",
    "    except:\n",
    "        pass\n",
    "f.close()"
   ]
  }
 ],
 "metadata": {
  "kernelspec": {
   "display_name": "Python 3",
   "language": "python",
   "name": "python3"
  },
  "language_info": {
   "codemirror_mode": {
    "name": "ipython",
    "version": 3
   },
   "file_extension": ".py",
   "mimetype": "text/x-python",
   "name": "python",
   "nbconvert_exporter": "python",
   "pygments_lexer": "ipython3",
   "version": "3.7.6-final"
  }
 },
 "nbformat": 4,
 "nbformat_minor": 2
}