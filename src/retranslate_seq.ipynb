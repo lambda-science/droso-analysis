{
 "nbformat": 4,
 "nbformat_minor": 2,
 "metadata": {
  "language_info": {
   "name": "python",
   "codemirror_mode": {
    "name": "ipython",
    "version": 3
   },
   "version": "3.7.6-final"
  },
  "orig_nbformat": 2,
  "file_extension": ".py",
  "mimetype": "text/x-python",
  "name": "python",
  "npconvert_exporter": "python",
  "pygments_lexer": "ipython3",
  "version": 3,
  "kernelspec": {
   "name": "python3",
   "display_name": "Python 3"
  }
 },
 "cells": [
  {
   "cell_type": "code",
   "execution_count": 1,
   "metadata": {},
   "outputs": [],
   "source": [
    "# Importer les données: json + correspondance uniprot/refseq + genomic\n",
    "import json\n",
    "import pandas as pd\n",
    "\n",
    "def fasta2List(pathFasta):\n",
    "    f = open(pathFasta, \"r\")\n",
    "    title = []\n",
    "    seq = []\n",
    "    seq_temp = []\n",
    "    for line in f:\n",
    "        if line[0] == \">\":\n",
    "            seq.append(''.join(seq_temp).replace(\"\\n\", \"\"))\n",
    "            title.append(line.replace(\"\\n\", \"\"))\n",
    "            seq_temp = []\n",
    "        else:\n",
    "            seq_temp.append(line)\n",
    "    seq.append(''.join(seq_temp).replace(\"\\n\", \"\"))\n",
    "    seq.pop(0)\n",
    "    dictionary = dict(zip(title, seq))\n",
    "    return dictionary"
   ]
  },
  {
   "cell_type": "code",
   "execution_count": 2,
   "metadata": {},
   "outputs": [],
   "source": [
    "ID_file = pd.read_csv(\"../uniprot-to-exon/transcript_ensembl.tab\", sep = \"\\t\")\n",
    "Error_file = pd.read_csv(\"../uniprot-to-exon/uniprot_new_errors_filt.txt\", sep=\" \", header=None)\n",
    "Exon_file = pd.read_csv(\"../uniprot-to-exon/Exon_map.tab\", sep=\"\\t\", header=None)\n",
    "my_Genomic = fasta2List(\"../uniprot-to-exon/genomics_new.fa\")\n",
    "my_cDNA = fasta2List(\"../uniprot-to-exon/cdna_seq.fa\")\n",
    "my_CDS = fasta2List(\"../uniprot-to-exon/cds_new.fa\")\n"
   ]
  },
  {
   "cell_type": "code",
   "execution_count": 9,
   "metadata": {},
   "outputs": [
    {
     "name": "stderr",
     "output_type": "stream",
     "text": "ist index out of range\nlist index out of range\nlist index out of range\nlist index out of range\nlist index out of range\nlist index out of range\nlist index out of range\nlist index out of range\nlist index out of range\nlist index out of range\nlist index out of range\nlist index out of range\nlist index out of range\nlist index out of range\nlist index out of range\nlist index out of range\nlist index out of range\nlist index out of range\nlist index out of range\nlist index out of range\nlist index out of range\nlist index out of range\nlist index out of range\nlist index out of range\nlist index out of range\nlist index out of range\nlist index out of range\nlist index out of range\nlist index out of range\nlist index out of range\nlist index out of range\nlist index out of range\nlist index out of range\nlist index out of range\nlist index out of range\nlist index out of range\nlist index out of range\nlist index out of range\nlist index out of range\nlist index out of range\nlist index out of range\nlist index out of range\nlist index out of range\nlist index out of range\nlist index out of range\nlist index out of range\nlist index out of range\nlist index out of range\nlist index out of range\nlist index out of range\nlist index out of range\nlist index out of range\nlist index out of range\nlist index out of range\nlist index out of range\nlist index out of range\nlist index out of range\nlist index out of range\nlist index out of range\nlist index out of range\nlist index out of range\nlist index out of range\nlist index out of range\nlist index out of range\nlist index out of range\nlist index out of range\nlist index out of range\nlist index out of range\nlist index out of range\nlist index out of range\nlist index out of range\nlist index out of range\nlist index out of range\nlist index out of range\nlist index out of range\nlist index out of range\nlist index out of range\nlist index out of range\nlist index out of range\nlist index out of range\nlist index out of range\nlist index out of range\nlist index out of range\nlist index out of range\nlist index out of range\nlist index out of range\nlist index out of range\nlist index out of range\nlist index out of range\nlist index out of range\nlist index out of range\nlist index out of range\nlist index out of range\nlist index out of range\nlist index out of range\nlist index out of range\nlist index out of range\nlist index out of range\nlist index out of range\nlist index out of range\nlist index out of range\nlist index out of range\nlist index out of range\nlist index out of range\nlist index out of range\nlist index out of range\nlist index out of range\nlist index out of range\nlist index out of range\nlist index out of range\nlist index out of range\nlist index out of range\nlist index out of range\nlist index out of range\nlist index out of range\nlist index out of range\nlist index out of range\nlist index out of range\nlist index out of range\nlist index out of range\nlist index out of range\nlist index out of range\nlist index out of range\nlist index out of range\nlist index out of range\nlist index out of range\nlist index out of range\nlist index out of range\nlist index out of range\nlist index out of range\nlist index out of range\nlist index out of range\nlist index out of range\nlist index out of range\nlist index out of range\nlist index out of range\nlist index out of range\nlist index out of range\nlist index out of range\nlist index out of range\nlist index out of range\nlist index out of range\nlist index out of range\nlist index out of range\nlist index out of range\nlist index out of range\nlist index out of range\nlist index out of range\nlist index out of range\nlist index out of range\nlist index out of range\nlist index out of range\nlist index out of range\nlist index out of range\nlist index out of range\nlist index out of range\nlist index out of range\nlist index out of range\nlist index out of range\nlist index out of range\nlist index out of range\nlist index out of range\nlist index out of range\nlist index out of range\nlist index out of range\nlist index out of range\nlist index out of range\nlist index out of range\nlist index out of range\nlist index out of range\nlist index out of range\nlist index out of range\nlist index out of range\nlist index out of range\nlist index out of range\nlist index out of range\nlist index out of range\nlist index out of range\nlist index out of range\nlist index out of range\nlist index out of range\nlist index out of range\nlist index out of range\nlist index out of range\nlist index out of range\nlist index out of range\nlist index out of range\nlist index out of range\nlist index out of range\nlist index out of range\nlist index out of range\nlist index out of range\nlist index out of range\nlist index out of range\nlist index out of range\nlist index out of range\nlist index out of range\nlist index out of range\nlist index out of range\nlist index out of range\nlist index out of range\nlist index out of range\nlist index out of range\nlist index out of range\nlist index out of range\nlist index out of range\nlist index out of range\nlist index out of range\nlist index out of range\nlist index out of range\nlist index out of range\nlist index out of range\nlist index out of range\nlist index out of range\nlist index out of range\nlist index out of range\nlist index out of range\nlist index out of range\nlist index out of range\nlist index out of range\nlist index out of range\nlist index out of range\nlist index out of range\nlist index out of range\nlist index out of range\nlist index out of range\nlist index out of range\nlist index out of range\nlist index out of range\nlist index out of range\nlist index out of range\nlist index out of range\nlist index out of range\nlist index out of range\nlist index out of range\nlist index out of range\nlist index out of range\nlist index out of range\nlist index out of range\nlist index out of range\nlist index out of range\nlist index out of range\nlist index out of range\nlist index out of range\nlist index out of range\nlist index out of range\nlist index out of range\nlist index out of range\nlist index out of range\nlist index out of range\nlist index out of range\nlist index out of range\nlist index out of range\nlist index out of range\nlist index out of range\nlist index out of range\nlist index out of range\nlist index out of range\nlist index out of range\nlist index out of range\nlist index out of range\nlist index out of range\nlist index out of range\nlist index out of range\nlist index out of range\nlist index out of range\nlist index out of range\nlist index out of range\nlist index out of range\nlist index out of range\nlist index out of range\nlist index out of range\nlist index out of range\nlist index out of range\nlist index out of range\nlist index out of range\nlist index out of range\nlist index out of range\nlist index out of range\nlist index out of range\nlist index out of range\nlist index out of range\nlist index out of range\nlist index out of range\nlist index out of range\nlist index out of range\nlist index out of range\nlist index out of range\nlist index out of range\nlist index out of range\nlist index out of range\nlist index out of range\nlist index out of range\nlist index out of range\nlist index out of range\nlist index out of range\nlist index out of range\nlist index out of range\nlist index out of range\nlist index out of range\nlist index out of range\nlist index out of range\nlist index out of range\nlist index out of range\nlist index out of range\nlist index out of range\nlist index out of range\nlist index out of range\nlist index out of range\nlist index out of range\nlist index out of range\nlist index out of range\nlist index out of range\nlist index out of range\nlist index out of range\nlist index out of range\nlist index out of range\nlist index out of range\nlist index out of range\nlist index out of range\nlist index out of range\nlist index out of range\nlist index out of range\nlist index out of range\nlist index out of range\nlist index out of range\nlist index out of range\nlist index out of range\nlist index out of range\nlist index out of range\nlist index out of range\nlist index out of range\nlist index out of range\nlist index out of range\nlist index out of range\nlist index out of range\nlist index out of range\nlist index out of range\nlist index out of range\nlist index out of range\nlist index out of range\nlist index out of range\nlist index out of range\nlist index out of range\nlist index out of range\nlist index out of range\nlist index out of range\nlist index out of range\nlist index out of range\nlist index out of range\nlist index out of range\nlist index out of range\nlist index out of range\nlist index out of range\nlist index out of range\nlist index out of range\nlist index out of range\nlist index out of range\nlist index out of range\nlist index out of range\nlist index out of range\nlist index out of range\nlist index out of range\nlist index out of range\nlist index out of range\nlist index out of range\nlist index out of range\nlist index out of range\nlist index out of range\nlist index out of range\nlist index out of range\nlist index out of range\nlist index out of range\nlist index out of range\nlist index out of range\nlist index out of range\nlist index out of range\nlist index out of range\nlist index out of range\nlist index out of range\nlist index out of range\nlist index out of range\nlist index out of range\nlist index out of range\nlist index out of range\nlist index out of range\nlist index out of range\nlist index out of range\nlist index out of range\nlist index out of range\nlist index out of range\nlist index out of range\nlist index out of range\nlist index out of range\nlist index out of range\nlist index out of range\nlist index out of range\nlist index out of range\nlist index out of range\nlist index out of range\nlist index out of range\nlist index out of range\nlist index out of range\nlist index out of range\nlist index out of range\nlist index out of range\nlist index out of range\nlist index out of range\nlist index out of range\nlist index out of range\nlist index out of range\nlist index out of range\nlist index out of range\nlist index out of range\nlist index out of range\nlist index out of range\nlist index out of range\nlist index out of range\nlist index out of range\nlist index out of range\nlist index out of range\nlist index out of range\nlist index out of range\nlist index out of range\nlist index out of range\nlist index out of range\nlist index out of range\nlist index out of range\nlist index out of range\nlist index out of range\nlist index out of range\nlist index out of range\nlist index out of range\nlist index out of range\nlist index out of range\nlist index out of range\nlist index out of range\nlist index out of range\nlist index out of range\nlist index out of range\nlist index out of range\nlist index out of range\nlist index out of range\nlist index out of range\nlist index out of range\nlist index out of range\nlist index out of range\nlist index out of range\nlist index out of range\nlist index out of range\nlist index out of range\nlist index out of range\nlist index out of range\nlist index out of range\nlist index out of range\nlist index out of range\nlist index out of range\nlist index out of range\nlist index out of range\nlist index out of range\nlist index out of range\nlist index out of range\nlist index out of range\nlist index out of range\nlist index out of range\nlist index out of range\nlist index out of range\nlist index out of range\nlist index out of range\nlist index out of range\nlist index out of range\nlist index out of range\nlist index out of range\nlist index out of range\nlist index out of range\nlist index out of range\nlist index out of range\nlist index out of range\nlist index out of range\nlist index out of range\nlist index out of range\nlist index out of range\nlist index out of range\nlist index out of range\nlist index out of range\nlist index out of range\nlist index out of range\nlist index out of range\nlist index out of range\nlist index out of range\nlist index out of range\nlist index out of range\nlist index out of range\nlist index out of range\nlist index out of range\nlist index out of range\nlist index out of range\nlist index out of range\nlist index out of range\nlist index out of range\nlist index out of range\nlist index out of range\nlist index out of range\nlist index out of range\nlist index out of range\nlist index out of range\nlist index out of range\nlist index out of range\nlist index out of range\nlist index out of range\nlist index out of range\nlist index out of range\nlist index out of range\nlist index out of range\nlist index out of range\nlist index out of range\nlist index out of range\nlist index out of range\nlist index out of range\nlist index out of range\nlist index out of range\nlist index out of range\nlist index out of range\nlist index out of range\nlist index out of range\nlist index out of range\nlist index out of range\nlist index out of range\nlist index out of range\nlist index out of range\nlist index out of range\nlist index out of range\nlist index out of range\nlist index out of range\nlist index out of range\nlist index out of range\nlist index out of range\nlist index out of range\nlist index out of range\nlist index out of range\nlist index out of range\nlist index out of range\nlist index out of range\nlist index out of range\nlist index out of range\nlist index out of range\nlist index out of range\nlist index out of range\nlist index out of range\nlist index out of range\nlist index out of range\nlist index out of range\nlist index out of range\nlist index out of range\nlist index out of range\nlist index out of range\nlist index out of range\nlist index out of range\nlist index out of range\nlist index out of range\nlist index out of range\nlist index out of range\nlist index out of range\nlist index out of range\nlist index out of range\nlist index out of range\nlist index out of range\nlist index out of range\nlist index out of range\nlist index out of range\nlist index out of range\nlist index out of range\nlist index out of range\nlist index out of range\nlist index out of range\nlist index out of range\nlist index out of range\nlist index out of range\nlist index out of range\nlist index out of range\nlist index out of range\nlist index out of range\nlist index out of range\nlist index out of range\nlist index out of range\nlist index out of range\nlist index out of range\nlist index out of range\nlist index out of range\nlist index out of range\nlist index out of range\nlist index out of range\nlist index out of range\nlist index out of range\nlist index out of range\nlist index out of range\nlist index out of range\nlist index out of range\nlist index out of range\nlist index out of range\nlist index out of range\nlist index out of range\nlist index out of range\nlist index out of range\nlist index out of range\nlist index out of range\nlist index out of range\nlist index out of range\nlist index out of range\nlist index out of range\nlist index out of range\nlist index out of range\nlist index out of range\nlist index out of range\nlist index out of range\nlist index out of range\nlist index out of range\nlist index out of range\nlist index out of range\nlist index out of range\nlist index out of range\nlist index out of range\nlist index out of range\nlist index out of range\nlist index out of range\nlist index out of range\nlist index out of range\nlist index out of range\nlist index out of range\nlist index out of range\nlist index out of range\nlist index out of range\nlist index out of range\nlist index out of range\nlist index out of range\nlist index out of range\nlist index out of range\nlist index out of range\nlist index out of range\nlist index out of range\nlist index out of range\nlist index out of range\nlist index out of range\nlist index out of range\nlist index out of range\nlist index out of range\nlist index out of range\nlist index out of range\nlist index out of range\nlist index out of range\nlist index out of range\nlist index out of range\nlist index out of range\nlist index out of range\nlist index out of range\nlist index out of range\nlist index out of range\nlist index out of range\nlist index out of range\nlist index out of range\nlist index out of range\nlist index out of range\nlist index out of range\nlist index out of range\nlist index out of range\nlist index out of range\nlist index out of range\nlist index out of range\nlist index out of range\nlist index out of range\nlist index out of range\nlist index out of range\nlist index out of range\nlist index out of range\nlist index out of range\nlist index out of range\nlist index out of range\nlist index out of range\nlist index out of range\nlist index out of range\nlist index out of range\nlist index out of range\nlist index out of range\nlist index out of range\nlist index out of range\nlist index out of range\nlist index out of range\nlist index out of range\nlist index out of range\nlist index out of range\nlist index out of range\nlist index out of range\nlist index out of range\nlist index out of range\nlist index out of range\nlist index out of range\nlist index out of range\nlist index out of range\nlist index out of range\nlist index out of range\nlist index out of range\nlist index out of range\nlist index out of range\nlist index out of range\nlist index out of range\nlist index out of range\nlist index out of range\nlist index out of range\nlist index out of range\nlist index out of range\nlist index out of range\nlist index out of range\nlist index out of range\nlist index out of range\nlist index out of range\nlist index out of range\nlist index out of range\nlist index out of range\nlist index out of range\nlist index out of range\nlist index out of range\nlist index out of range\nlist index out of range\nlist index out of range\nlist index out of range\nlist index out of range\nlist index out of range\nlist index out of range\nlist index out of range\nlist index out of range\nlist index out of range\nlist index out of range\nlist index out of range\nlist index out of range\nlist index out of range\nlist index out of range\nlist index out of range\nlist index out of range\nlist index out of range\nlist index out of range\nlist index out of range\nlist index out of range\nlist index out of range\nlist index out of range\nlist index out of range\nlist index out of range\nlist index out of range\nlist index out of range\nlist index out of range\nlist index out of range\nlist index out of range\nlist index out of range\nlist index out of range\nlist index out of range\nlist index out of range\nlist index out of range\nlist index out of range\nlist index out of range\nlist index out of range\nlist index out of range\nlist index out of range\nlist index out of range\nlist index out of range\nlist index out of range\nlist index out of range\nlist index out of range\nlist index out of range\nlist index out of range\nlist index out of range\nlist index out of range\nlist index out of range\nlist index out of range\nlist index out of range\nlist index out of range\nlist index out of range\nlist index out of range\nlist index out of range\nlist index out of range\nlist index out of range\nlist index out of range\nlist index out of range\nlist index out of range\nlist index out of range\nlist index out of range\nlist index out of range\nlist index out of range\nlist index out of range\nlist index out of range\nlist index out of range\nlist index out of range\nlist index out of range\nlist index out of range\nlist index out of range\nlist index out of range\nlist index out of range\nlist index out of range\nlist index out of range\nlist index out of range\nlist index out of range\nlist index out of range\nlist index out of range\nlist index out of range\nlist index out of range\nlist index out of range\nlist index out of range\nlist index out of range\nlist index out of range\nlist index out of range\nlist index out of range\nlist index out of range\nlist index out of range\nlist index out of range\nlist index out of range\nlist index out of range\nlist index out of range\nlist index out of range\nlist index out of range\nlist index out of range\nlist index out of range\nlist index out of range\nlist index out of range\nlist index out of range\nlist index out of range\nlist index out of range\nlist index out of range\nlist index out of range\nlist index out of range\nlist index out of range\nlist index out of range\nlist index out of range\nlist index out of range\nlist index out of range\nlist index out of range\n1785\n625\n"
    }
   ],
   "source": [
    "from Bio.Seq import Seq\n",
    "from Bio.Alphabet import generic_dna\n",
    "# To do: importer fichier d'erreure. \n",
    "# Localiser l'erreur sur fichier CDS -> 1/ regarder si N ? 2/ récupérer sur quels exons map l'erreur. \n",
    "# Récupérer le couple seq humaine + seq primate -> traduire fichier genomique 3 frames et cherche itérativement le peptide\n",
    "errorr = 0\n",
    "match_counter = 0\n",
    "\n",
    "f = open(\"../missing-human/missing_human_seq.id\", \"w\")\n",
    "ff = open(\"../translation-match/translation_mismatch.tab\", \"w\")\n",
    "ff.write(\"Match\\tPrimate\\tHuman\\tStartPos\\tStopPos\\tSequence\\n\")\n",
    "for index, row in Error_file.iloc[:,:].iterrows():\n",
    "    fasta_name = row[0][20:-6]\n",
    "    prot_name = row[2]\n",
    "    error_start = row[3]\n",
    "    error_stop = row[4]\n",
    "    human_start = row[5]\n",
    "    human_stop = row[6]\n",
    "    Prot_list = fasta2List(\"uniprot/\"+fasta_name)\n",
    "    prot_Primate = [val for key, val in Prot_list.items() if prot_name in key]\n",
    "    prot_HumanRef = [val for key, val in Prot_list.items() if row[0][20:-15] in key]\n",
    "    genomic_Seq = [val for key, val in my_Genomic.items() if prot_name in key]\n",
    "    \n",
    "    if prot_HumanRef == []:\n",
    "        f.write(row[0][20:-15]+\"\\n\")\n",
    "    try:\n",
    "        peptide_Error = (prot_name, prot_Primate[0][error_start:error_stop])\n",
    "        peptide_Ref = (row[0][20:-15], prot_HumanRef[0][human_start:human_stop])\n",
    "        \n",
    "        # Translation part\n",
    "        querySeq = Seq(peptide_Ref[1])\n",
    "        for i in range(3):\n",
    "            genomic_prot = Seq(genomic_Seq[0][i:], generic_dna)\n",
    "            prot_trial = genomic_prot.translate()\n",
    "            if (querySeq in prot_trial):\n",
    "                start = prot_trial.find(querySeq)*3\n",
    "                stop = start+len(querySeq)*3\n",
    "                ff.write(\"Match\\t\"+prot_name+\"\\t\"+row[0][20:-15]+\"\\t\"+str(start)+\"\\t\"+str(stop)+\"\\t\"+str(querySeq)+\"\\n\")\n",
    "                match_counter +=1\n",
    "    \n",
    "    except Exception as error:\n",
    "        print(error)\n",
    "        errorr +=1\n",
    "\n",
    "f.close()\n",
    "ff.close()\n",
    "print(errorr)\n",
    "print(match_counter)"
   ]
  }
 ]
}