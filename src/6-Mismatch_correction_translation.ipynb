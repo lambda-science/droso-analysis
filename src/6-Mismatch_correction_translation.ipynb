{
 "nbformat": 4,
 "nbformat_minor": 2,
 "metadata": {
  "language_info": {
   "name": "python",
   "codemirror_mode": {
    "name": "ipython",
    "version": 3
   },
   "version": "3.7.6-final"
  },
  "orig_nbformat": 2,
  "file_extension": ".py",
  "mimetype": "text/x-python",
  "name": "python",
  "npconvert_exporter": "python",
  "pygments_lexer": "ipython3",
  "version": 3,
  "kernelspec": {
   "name": "python3",
   "display_name": "Python 3"
  }
 },
 "cells": [
  {
   "cell_type": "markdown",
   "execution_count": null,
   "metadata": {},
   "outputs": [],
   "source": [
    "# Script permettant de tenter de corriger un mismatch en cherchant le peptide human dans la séquence génomique de la protéine mal prédite\n",
    "Input:   \n",
    "    ID_file fichier de correspondance UniprotID - Ensembl Trasncript ID  \n",
    "    Error_file fichier contenant toute les erreurs de type mismatch (script julie)  \n",
    "    Exon_file fichier contenant les informations sur les positions des exons des transcripts  \n",
    "    my_Genomic fichier fasta contenant les séquences génomiques des transcripts  \n",
    "    my_cDNA fichier fasta contenant les séquences cDNA des transcripts  \n",
    "    my_CDS fichier fasta contenant les séquences CDS des transcripts "
   ]
  },
  {
   "cell_type": "code",
   "execution_count": null,
   "metadata": {},
   "outputs": [],
   "source": [
    "# Importer les lib et fonction\n",
    "import json\n",
    "import pandas as pd\n",
    "\n",
    "def fasta2List(pathFasta):\n",
    "    f = open(pathFasta, \"r\")\n",
    "    title = []\n",
    "    seq = []\n",
    "    seq_temp = []\n",
    "    for line in f:\n",
    "        if line[0] == \">\":\n",
    "            seq.append(''.join(seq_temp).replace(\"\\n\", \"\"))\n",
    "            title.append(line.replace(\"\\n\", \"\"))\n",
    "            seq_temp = []\n",
    "        else:\n",
    "            seq_temp.append(line)\n",
    "    seq.append(''.join(seq_temp).replace(\"\\n\", \"\"))\n",
    "    seq.pop(0)\n",
    "    dictionary = dict(zip(title, seq))\n",
    "    return dictionary"
   ]
  },
  {
   "cell_type": "code",
   "execution_count": null,
   "metadata": {},
   "outputs": [],
   "source": [
    "# Importation de toutes les données utilisées\n",
    "ID_file = pd.read_csv(\"../raw/uniprot-exon-map/transcript_ensembl.tab\", sep = \"\\t\")\n",
    "Error_file = pd.read_csv(\"../raw/uniprot-exon-map/uniprot_new_errors_filt.txt\", sep=\" \", header=None)\n",
    "Exon_file = pd.read_csv(\"../raw/uniprot-exon-map/Exon_map.tab\", sep=\"\\t\", header=None)\n",
    "my_Genomic = fasta2List(\"../raw/uniprot-exon-map/genomics_new.fa\")\n",
    "my_cDNA = fasta2List(\"../raw/uniprot-exon-map/cdna_seq.fa\")\n",
    "my_CDS = fasta2List(\"../raw/uniprot-exon-map/cds_new.fa\")"
   ]
  },
  {
   "cell_type": "code",
   "execution_count": null,
   "metadata": {},
   "outputs": [],
   "source": [
    "# Pour chaque mismatch du fichier d'erreur: on cherche la séquence humaine en face du mismatch. On prend le séquence génomique de la protéine du primate\n",
    "# concerné et on la traduit dans les trois cadre de lecture. On cherche si la séquence humaine peut être trouvée dans une des séquence génomique traduite\n",
    "# Si oui on écrit dans un fichier  les informations du mismatch et la position génomique permetttant de le régler. \n",
    "from Bio.Seq import Seq\n",
    "from Bio.Alphabet import generic_dna\n",
    "\n",
    "ff = open(\"../raw/uniprot-translation-correction/translation_mismatch.tab\", \"w\")\n",
    "ff.write(\"Match\\tPrimate\\tHuman\\tStartPos\\tStopPos\\tSequence\\n\")\n",
    "for index, row in Error_file.iloc[:,:].iterrows():\n",
    "    fasta_name = row[0][20:-6]\n",
    "    prot_name = row[2]\n",
    "    error_start = row[3]\n",
    "    error_stop = row[4]\n",
    "    human_start = row[5]\n",
    "    human_stop = row[6]\n",
    "\n",
    "    Prot_list = fasta2List(\"uniprot/\"+fasta_name)\n",
    "    prot_HumanRef = [val for key, val in Prot_list.items() if row[0][20:-15] in key]\n",
    "    genomic_Seq = [val for key, val in my_Genomic.items() if prot_name in key]\n",
    "    \n",
    "    if prot_HumanRef == []:\n",
    "        pass\n",
    "    else:\n",
    "        peptide_Ref = (row[0][20:-15], prot_HumanRef[0][human_start:human_stop])\n",
    "        # Translation part\n",
    "        querySeq = Seq(peptide_Ref[1])\n",
    "        for i in range(3):\n",
    "            genomic_prot = Seq(genomic_Seq[0][i:], generic_dna)\n",
    "            prot_trial = genomic_prot.translate()\n",
    "            if (querySeq in prot_trial):\n",
    "                start = prot_trial.find(querySeq)*3\n",
    "                stop = start+len(querySeq)*3\n",
    "                ff.write(\"Match\\t\"+prot_name+\"\\t\"+row[0][20:-15]+\"\\t\"+str(start)+\"\\t\"+str(stop)+\"\\t\"+str(querySeq)+\"\\n\")\n",
    "                match_counter +=1\n",
    "\n",
    "ff.close()"
   ]
  }
 ]
}