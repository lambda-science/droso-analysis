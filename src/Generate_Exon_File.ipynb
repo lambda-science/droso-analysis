{
 "nbformat": 4,
 "nbformat_minor": 2,
 "metadata": {
  "language_info": {
   "name": "python",
   "codemirror_mode": {
    "name": "ipython",
    "version": 3
   },
   "version": "3.7.6-final"
  },
  "orig_nbformat": 2,
  "file_extension": ".py",
  "mimetype": "text/x-python",
  "name": "python",
  "npconvert_exporter": "python",
  "pygments_lexer": "ipython3",
  "version": 3,
  "kernelspec": {
   "name": "python3",
   "display_name": "Python 3"
  }
 },
 "cells": [
  {
   "cell_type": "code",
   "execution_count": 23,
   "metadata": {},
   "outputs": [],
   "source": [
    "# Importer les données: json + correspondance uniprot/refseq + genomic\n",
    "import json\n",
    "import pandas as pd\n",
    "\n",
    "def merge_two_dicts(x, y):\n",
    "    z = x.copy()\n",
    "    z.update(y)    \n",
    "    return z\n",
    "\n",
    "def importJson(filePath):\n",
    "    data_dict = []\n",
    "    with open(filePath) as json_data:\n",
    "        for i in json_data:\n",
    "            data_dict.append(json.loads(i))\n",
    "    MyJsonFull = data_dict[0]\n",
    "    for i in data_dict[1:]:\n",
    "        MyJsonFull = merge_two_dicts(MyJsonFull, i)\n",
    "    return MyJsonFull\n",
    "\n",
    "def catExonPos(MyJsonFull, seqID, dict_Genomic):\n",
    "    exonString = []\n",
    "    if MyJsonFull[seqID][\"strand\"] == -1:\n",
    "        ABSOLUTE_POST = MyJsonFull[seqID][\"end\"]\n",
    "        exon_list = MyJsonFull[seqID][\"Exon\"]\n",
    "        counter = 1\n",
    "        for i in exon_list:\n",
    "            stop = str(abs(i['end']-ABSOLUTE_POST))\n",
    "            start = str(abs(i['start']-ABSOLUTE_POST)+1)\n",
    "            res = [val for key, val in my_Genomic.items() if seqID in key]\n",
    "            exonString.append(seqID+ \"\\tExon\\t\"+str(counter)+\"\\t\"+stop+\"\\t\"+start+\"\\t\"+res[0][int(stop):int(start)])\n",
    "            counter+=1\n",
    "\n",
    "    if MyJsonFull[seqID][\"strand\"] == 1:\n",
    "        ABSOLUTE_POST = MyJsonFull[seqID][\"start\"]\n",
    "        exon_list = MyJsonFull[seqID][\"Exon\"]\n",
    "        counter = 1\n",
    "        for i in exon_list:\n",
    "            start = str(abs(i['start']-ABSOLUTE_POST))\n",
    "            stop = str(abs(i['end']-ABSOLUTE_POST)+1)\n",
    "            res = [val for key, val in dict_Genomic.items() if seqID in key]\n",
    "            exonString.append(seqID+ \"\\tExon\\t\"+str(counter)+\"\\t\"+start+\"\\t\"+stop+\"\\t\"+res[0][int(start):int(stop)])\n",
    "            counter+=1\n",
    "    return(exonString)\n",
    "    \n",
    "def fasta2List(pathFasta):\n",
    "    f = open(pathFasta, \"r\")\n",
    "    title = []\n",
    "    seq = []\n",
    "    seq_temp = []\n",
    "    for line in f:\n",
    "        if line[0] == \">\":\n",
    "            seq.append(''.join(seq_temp).replace(\"\\n\", \"\"))\n",
    "            title.append(line.replace(\"\\n\", \"\"))\n",
    "            seq_temp = []\n",
    "        else:\n",
    "            seq_temp.append(line)\n",
    "    seq.append(''.join(seq_temp).replace(\"\\n\", \"\"))\n",
    "    seq.pop(0)\n",
    "    dictionary = dict(zip(title, seq))\n",
    "    return dictionary"
   ]
  },
  {
   "cell_type": "code",
   "execution_count": 3,
   "metadata": {},
   "outputs": [],
   "source": [
    "ID_file = pd.read_csv(\"../uniprot-to-exon/transcript_ensembl.tab\", sep = \"\\t\")\n",
    "jsonFile = importJson('C:/Users/Glados/Documents/stage-thompson/uniprot-to-exon/lookup_newline.json')\n",
    "my_Genomic = fasta2List(\"../uniprot-to-exon/genomics_new.fa\")"
   ]
  },
  {
   "cell_type": "code",
   "execution_count": 24,
   "metadata": {},
   "outputs": [],
   "source": [
    "with open(\"../uniprot-to-exon/Exon_map.tab\", \"w\") as exon_file:\n",
    "    for i in ID_file.iloc[:,1]:\n",
    "        uniprot_name = ID_file.loc[ID_file[\"To\"] == i].iloc[0,0]\n",
    "        for exon in catExonPos(jsonFile, i, my_Genomic):\n",
    "            exon_file.write(uniprot_name+\"\\t\"+exon+\"\\n\")"
   ]
  },
  {
   "cell_type": "code",
   "execution_count": 22,
   "metadata": {},
   "outputs": [
    {
     "name": "stdout",
     "output_type": "stream",
     "text": "ENSPPYT00000024082\tExon\t1\t19\t443\tATGCGTCCTAAGAACCCCTTACACTCGCGGCACAGGCTGACAGTATTGTCGGGGGCTATTCTCTCTCCCAGGAACATGGCGGCGAGTCAGGGAGGAGGTGGTAACAGTGGGGGCGGCGGTTGTGGTGGAGGTGGAAGTAGCGGTGGCTGTGGCACGGCTGGAGGGGGAGGTGGCGGGACTGGAGGGGGAGGCGGCGGCGGCGGCGGGACCCTGGTGGTCCCCATCCCGGTACCGACTCTTTTCGGTCAGCCGTTCCCCAACGGGCCGCCGTGGAACCCGGGGAGCCTGCAGCCTCAGCACACCGTGAGGAGCCTGGACCGGGCCCTGGAAGAGGCGGGCAGCTCCGGTATTCTGAGCCTCAGTGGTCGGAAACTCCGAGACTTCCCGGGCAGCGGCTACGACCTGACGGACACCACCCAAGCAG\nENSPPYT00000024082\tExon\t2\t44602\t44747\tATCTTTCCAGAAATCGTTTTACAGAAATCCCTTCTGATGTCTGGTTATTTGCACCCCTTGAAACATTAAATTTATATCATAATTGCATCAAAACCATTCCTGAAGCCATTAAAAATCTGCAGATGTTAACATACCTTAACATTAG\nENSPPYT00000024082\tExon\t3\t48437\t48564\tCCGAAATCTTTTATCAACATTGCCAAAATACCTATTTGATCTTCCCCTTAAAGTTTTGGTCATCAGTAATAATAAACTGGTATCCATTCCAGAAGAAATTGGGAAGTTAAAAGATTTAATGGAATTG\nENSPPYT00000024082\tExon\t4\t53258\t53364\tGATATTAGCTGCAATGAGATTCAAGTCCTTCCCCAACAAATGGGAAAATTACATTCACTTAGAGAGCTAAATATAAGAAGAAATAATCTTCGTGTTTTGCCAGATG\nENSPPYT00000024082\tExon\t5\t53446\t53583\tAATTAGGAGACCTTCCCTTAGTCAAGCTGGATTTCTCTTGTAATAAAGTGACCGAAATTCCAGTTTGTTACAGAAAGCTGCATCATTTACAAGTAATAATTTTGGATAACAATCCATTGCAAGTACCACCAGCACAG\nENSPPYT00000024082\tExon\t6\t63782\t63916\tATATGTTTAAAGGGTAAGGTGCACATATTTAAGTACTTAAATATTCAAGCATGTTGCAGAATGGATAAGAAACCAGATTCTCTGGATCTTCCATCATTGAGTAAACGAATGCCCTCTCAGCCTCTCACAGACAG\nENSPPYT00000024082\tExon\t7\t67856\t67944\tTATGGAAGATTTTTATCCAAATAAAAATCATGGCCCTGACTCTGGAATTGGAAGTGATAATGGAGAGAAACGATTATCCACAACAGAA\nENSPPYT00000024082\tExon\t8\t68246\t68358\tCCATCAGATGATGACACAGTCAGCCTTCATTCTCAAGTCTCAGAATCAAATAGAGAGCAGACATCAAGAAATGACAGTCACATAATAGGAAGTAAGACTGATTCTCAGAAAG\nENSPPYT00000024082\tExon\t9\t68543\t68641\tACCAGGAGGTATATGATTTTGTTGACCCCAACACAGAAGATGTAGCAGTTCCTGAACAGGGAGATGCACATATTGGATCATTTGCATCATTCTTTAAG\nENSPPYT00000024082\tExon\t10\t68735\t68794\tGGAAAAGAAAAATGTTCTGAAAAATCTCAGAAAAATGAAGAATTAGGTGATGAAAAAAG\nENSPPYT00000024082\tExon\t11\t70415\t70523\tACTTGAGAAAGAACAGTTACTGGCAGAGGAAGAGGATGATGATTTGAAGGAAGTAACTGATTTGAGGAAAATAGCTGCTCAGTTATTGCAGCAAGAACAGAAGAACAG\nENSPPYT00000024082\tExon\t12\t77538\t77604\tGATTCTTAATCATACAACTTCTGTGATGAGAAACAAGCCAAAACAAACTGTGGAATGTGAAAAGAG\nENSPPYT00000024082\tExon\t13\t84545\t84594\tTGTCTCAGCAGATGAAGTTAATTCACCATTATTACCCCTCACCTGGCAG\nENSPPYT00000024082\tExon\t14\t84672\t84789\tCCCTTAGAAAATCAGAAGGATCAAATAGATGAAAAACCGTGGCCAGAATCTCACCCTATAATCTGGCAGAGTGAAGAAAGGAGGCGGAGCAAACAGATTAGAAAAGAATATTTCAAG\nENSPPYT00000024082\tExon\t15\t105422\t105467\tTATAAATCAATGAGGAAGAGTTCAAGTGGCAATGAAAATGATGAG\nENSPPYT00000024082\tExon\t16\t108735\t108786\tCAAGACAGTGATAATGCTAATATGTCACCACAATCTCCAGTATCATCTGAG\nENSPPYT00000024082\tExon\t17\t111686\t111744\tGAATATGACAGAACTGATGGTTTCTCACACAGTCCCTTTGGCTTGAAGCCTAGATCAG\nENSPPYT00000024082\tExon\t18\t112770\t112883\tCTTTTAGCCGCTCATCTCGCCAAGAATATGGGGCAGCAGATCCAGGATTTACAATGAGAAGAAAGATGGAACATTTACGGGAAGAGCGAGAGCAAATACGACAACTTCGCAAT\nENSPPYT00000024082\tExon\t19\t113061\t113199\tAATCTTGAATCCAGGTTAAAAGTAATTTTGCCTGATGACATTGGAGCTGCACTGATGGATGGGGTTGTTCTTTGCCATTTAGCCAATCATATAAGGCCACGTTCTGTTGCTAGTATTCATGTACCATCACCAGCAGTG\nENSPPYT00000024082\tExon\t20\t113354\t113432\tCCCAAACTGAGCATGGCAAAATGTCGAAGAAATGTAGAAAATTTTCTTGATGCTTGTAAAAAGTTGGGTGTCTCACAG\nENSPPYT00000024082\tExon\t21\t119591\t119642\tAGGAAAGACTTTGTTTGCCTCATCATATTTTGGAAGAACGAGGACTTGTGA\n"
    },
    {
     "data": {
      "text/plain": "{'id': 'ENSPPYP00000023112',\n 'Parent': 'ENSPPYT00000024082',\n 'length': 767,\n 'db_type': 'core',\n 'start': 114060524,\n 'species': 'pongo_abelii',\n 'end': 114180146,\n 'object_type': 'Translation'}"
     },
     "execution_count": 22,
     "metadata": {},
     "output_type": "execute_result"
    }
   ],
   "source": [
    "jsonFile[\"ENSPPYT00000024082\"]\n",
    "\n",
    "for i in catExonPos(jsonFile, \"ENSPPYT00000024082\", my_Genomic):\n",
    "    print(i)\n",
    "\n",
    "jsonFile[\"ENSPPYT00000024082\"][\"Translation\"]"
   ]
  }
 ]
}