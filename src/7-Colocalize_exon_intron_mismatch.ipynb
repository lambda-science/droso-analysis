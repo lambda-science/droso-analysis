{
 "nbformat": 4,
 "nbformat_minor": 2,
 "metadata": {
  "language_info": {
   "name": "python",
   "codemirror_mode": {
    "name": "ipython",
    "version": 3
   },
   "version": "3.7.6-final"
  },
  "orig_nbformat": 2,
  "file_extension": ".py",
  "mimetype": "text/x-python",
  "name": "python",
  "npconvert_exporter": "python",
  "pygments_lexer": "ipython3",
  "version": 3,
  "kernelspec": {
   "name": "python3",
   "display_name": "Python 3"
  }
 },
 "cells": [
  {
   "cell_type": "markdown",
   "execution_count": null,
   "metadata": {},
   "outputs": [],
   "source": [
    "# Script permettant de co-localiser les petit exons/introns avec la zone génomique du mismatch"
   ]
  },
  {
   "cell_type": "code",
   "execution_count": 2,
   "metadata": {},
   "outputs": [],
   "source": [
    "def fasta2List(pathFasta):\n",
    "    f = open(pathFasta, \"r\")\n",
    "    title = []\n",
    "    seq = []\n",
    "    seq_temp = []\n",
    "    for line in f:\n",
    "        if line[0] == \">\":\n",
    "            seq.append(''.join(seq_temp).replace(\"\\n\", \"\"))\n",
    "            title.append(line.replace(\"\\n\", \"\"))\n",
    "            seq_temp = []\n",
    "        else:\n",
    "            seq_temp.append(line)\n",
    "    seq.append(''.join(seq_temp).replace(\"\\n\", \"\"))\n",
    "    seq.pop(0)\n",
    "    dictionary = dict(zip(title, seq))\n",
    "    return dictionary"
   ]
  },
  {
   "cell_type": "code",
   "execution_count": 6,
   "metadata": {},
   "outputs": [],
   "source": [
    "# Importation de toutes les données utilisées\n",
    "import pandas as pd \n",
    "intron_file = pd.read_csv(\"../raw/uniprot-exon-map/Intron_map.tab\", sep=\"\\t\", header=None)\n",
    "exon_file = pd.read_csv(\"../raw/uniprot-exon-map/Exon_map.tab\", sep=\"\\t\", header=None)\n",
    "ID_file = pd.read_csv(\"../raw/uniprot-exon-map/transcript_ensembl.tab\", sep = \"\\t\")\n",
    "Error_file = pd.read_csv(\"../raw/uniprot-exon-map/uniprot_new_errors_filt.txt\", sep=\" \", header=None)\n",
    "my_Genomic = fasta2List(\"../raw/uniprot-exon-map/genomics_new.fa\")\n",
    "my_CDS = fasta2List(\"../raw/uniprot-exon-map/cds_new.fa\")"
   ]
  },
  {
   "cell_type": "code",
   "execution_count": 57,
   "metadata": {},
   "outputs": [],
   "source": [
    "# Génération du fichier qui map chaque mismatch à un exon de début et de fin de mismatch\n",
    "f = open(\"../raw/uniprot-mismatch-colocalize/mismatch_exon_pos.tab\", \"w\")\n",
    "f.write(\"Alignement\\tError\\tUniprotID\\tPosStartError\\tPosStopError\\tFirstExonError\\tLastExonError\\n\")\n",
    "for index, row in Error_file.iloc[:,:].iterrows():\n",
    "    fasta_name = row[0][20:-6]\n",
    "    prot_name = row[2]\n",
    "    error_start = row[3]\n",
    "    error_stop = row[4]\n",
    "\n",
    "    Prot_list = fasta2List(\"../raw/uniprot-sequence/\"+fasta_name)\n",
    "    CDS = [val for key, val in my_CDS.items() if prot_name in key]\n",
    "    if CDS == []:\n",
    "        continue\n",
    "    mismtach_CDS = CDS[0][error_start*3:error_stop*3+3]\n",
    "    subset = exon_file.loc[exon_file[0]==prot_name]\n",
    "    exon_number_list = subset[3].to_list()\n",
    "    exon_seq_list = subset[6].to_list()\n",
    "    \n",
    "    # Interaive pop of exon list : seq. Check CDS in exon joint: TRUE = pop if False = seq important\n",
    "    fini = False\n",
    "    while fini != True:\n",
    "        exon_tuple = [ (exon_number_list[i], exon_seq_list[i]) for i in range(len(exon_number_list))]\n",
    "        for j in range(0,len(exon_tuple), 1):\n",
    "            popped_exon = exon_tuple.pop(0)\n",
    "            testing_condition = (''.join(mismtach_CDS) in ''.join( [ exon_tuple[i][1] for i in range(len(exon_tuple)) ]))\n",
    "            if testing_condition == False:\n",
    "                start_exon = popped_exon[0]\n",
    "                break\n",
    "\n",
    "        exon_tuple = [ (exon_number_list[i], exon_seq_list[i]) for i in range(len(exon_number_list))]\n",
    "        for k in range(len(exon_tuple), 0, -1):\n",
    "            popped_exon = exon_tuple.pop(len(exon_tuple)-1)\n",
    "            testing_condition = (''.join(mismtach_CDS) in ''.join( [ exon_tuple[i][1] for i in range(len(exon_tuple)) ]))\n",
    "            if testing_condition == False:\n",
    "                stop_exon = popped_exon[0]\n",
    "                break\n",
    "        f.write(row[0]+\"\\t\"+row[1]+\"\\t\"+row[2]+\"\\t\"+str(row[3])+\"\\t\"+str(row[4])+\"\\t\"+str(start_exon)+\"\\t\"+str(stop_exon)+\"\\n\")\n",
    "        fini = True\n",
    "f.close()"
   ]
  },
  {
   "cell_type": "code",
   "execution_count": 58,
   "metadata": {},
   "outputs": [],
   "source": [
    "# Importation de tout les introns / exons présent dans les mismatch pour regarder la distribution des tailles\n",
    "mismatch_pos = pd.read_csv(\"../raw/uniprot-mismatch-colocalize/mismatch_exon_pos.tab\", sep=\"\\t\")\n"
   ]
  }
 ]
}