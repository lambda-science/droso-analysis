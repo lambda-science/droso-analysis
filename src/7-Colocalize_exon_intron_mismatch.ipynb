{
 "nbformat": 4,
 "nbformat_minor": 2,
 "metadata": {
  "language_info": {
   "name": "python",
   "codemirror_mode": {
    "name": "ipython",
    "version": 3
   },
   "version": "3.7.6-final"
  },
  "orig_nbformat": 2,
  "file_extension": ".py",
  "mimetype": "text/x-python",
  "name": "python",
  "npconvert_exporter": "python",
  "pygments_lexer": "ipython3",
  "version": 3,
  "kernelspec": {
   "name": "python3",
   "display_name": "Python 3"
  }
 },
 "cells": [
  {
   "cell_type": "markdown",
   "execution_count": null,
   "metadata": {},
   "outputs": [],
   "source": [
    "# Script permettant de co-localiser les petit exons/introns avec la zone génomique du mismatch"
   ]
  },
  {
   "cell_type": "code",
   "execution_count": 2,
   "metadata": {},
   "outputs": [],
   "source": [
    "def fasta2List(pathFasta):\n",
    "    f = open(pathFasta, \"r\")\n",
    "    title = []\n",
    "    seq = []\n",
    "    seq_temp = []\n",
    "    for line in f:\n",
    "        if line[0] == \">\":\n",
    "            seq.append(''.join(seq_temp).replace(\"\\n\", \"\"))\n",
    "            title.append(line.replace(\"\\n\", \"\"))\n",
    "            seq_temp = []\n",
    "        else:\n",
    "            seq_temp.append(line)\n",
    "    seq.append(''.join(seq_temp).replace(\"\\n\", \"\"))\n",
    "    seq.pop(0)\n",
    "    dictionary = dict(zip(title, seq))\n",
    "    return dictionary"
   ]
  },
  {
   "cell_type": "code",
   "execution_count": 6,
   "metadata": {},
   "outputs": [],
   "source": [
    "# Importation de toutes les données utilisées\n",
    "import pandas as pd \n",
    "intron_file = pd.read_csv(\"../raw/uniprot-exon-map/Intron_map.tab\", sep=\"\\t\", header=None)\n",
    "exon_file = pd.read_csv(\"../raw/uniprot-exon-map/Exon_map.tab\", sep=\"\\t\", header=None)\n",
    "ID_file = pd.read_csv(\"../raw/uniprot-exon-map/transcript_ensembl.tab\", sep = \"\\t\")\n",
    "Error_file = pd.read_csv(\"../raw/uniprot-exon-map/uniprot_new_errors_filt.txt\", sep=\" \", header=None)\n",
    "my_Genomic = fasta2List(\"../raw/uniprot-exon-map/genomics_new.fa\")\n",
    "my_CDS = fasta2List(\"../raw/uniprot-exon-map/cds_new.fa\")"
   ]
  },
  {
   "cell_type": "code",
   "execution_count": 46,
   "metadata": {},
   "outputs": [
    {
     "name": "stdout",
     "output_type": "stream",
     "text": "H0WKS4\nStart exon:  1\nStop exon:  3\nH0WKS4\nStart exon:  3\nStop exon:  3\nG3QIT3\nStart exon:  2\nStop exon:  3\nA0A0D9RMQ9\nStart exon:  2\nStop exon:  2\nA0A096NSB3\nStart exon:  2\nStop exon:  2\nH0XPV0\nStart exon:  2\nStop exon:  2\nH0XPV0\nStart exon:  2\nStop exon:  2\nG3QUE3\nStart exon:  1\nStop exon:  1\nA0A0D9R5W5\nStart exon:  2\nStop exon:  2\nF7HD17\nStart exon:  1\nStop exon:  2\nH0X1J5\nStart exon:  2\nStop exon:  2\nH0WH62\nStart exon:  1\nStop exon:  1\nH0WH62\nStart exon:  5\nStop exon:  5\nH0WH62\nStart exon:  6\nStop exon:  7\nH0WH62\nStart exon:  7\nStop exon:  7\nA0A0D9RC82\nStart exon:  7\nStop exon:  8\nF7DW02\nStart exon:  7\nStop exon:  7\nG3RW35\nStart exon:  1\nStop exon:  1\nG3RW35\nStart exon:  1\nStop exon:  2\nH2R2S0\nStart exon:  3\nStop exon:  3\nH2R2S0\nStart exon:  3\nStop exon:  3\nH2PUE8\nStart exon:  2\nStop exon:  2\nH2PUE8\nStart exon:  2\nStop exon:  2\nH0XBM5\nStart exon:  1\nStop exon:  1\nH2RG02\nStart exon:  2\nStop exon:  2\nH0WZZ3\nStart exon:  1\nStop exon:  2\nH0WZZ3\nStart exon:  2\nStop exon:  2\nH2PP11\nStart exon:  1\nStop exon:  1\nA0A0D9S6L1\nStart exon:  1\nStop exon:  1\nA0A0D9S6L1\nStart exon:  2\nStop exon:  2\nA0A0D9S6L1\nStart exon:  5\nStop exon:  9\nA0A0D9S6L1\nStart exon:  9\nStop exon:  10\nA0A0D9S6L1\nStart exon:  10\nStop exon:  11\nA0A0D9S6L1\nStart exon:  11\nStop exon:  12\nA0A0D9S6L1\nStart exon:  12\nStop exon:  13\nA0A0D9S6L1\nStart exon:  14\nStop exon:  14\nA0A0D9S6L1\nStart exon:  14\nStop exon:  15\nA0A0D9S6L1\nStart exon:  15\nStop exon:  16\nA0A0D9S6L1\nStart exon:  16\nStop exon:  16\nH2P532\nStart exon:  1\nStop exon:  1\nH2P532\nStart exon:  1\nStop exon:  1\nG1RKH6\nStart exon:  1\nStop exon:  1\nG3QVN1\nStart exon:  1\nStop exon:  2\nA0A0D9R1I5\nStart exon:  2\nStop exon:  2\nA0A0D9R1I5\nStart exon:  8\nStop exon:  10\nG3QVN1\nStart exon:  1\nStop exon:  2\nH0XH99\nStart exon:  2\nStop exon:  3\nH0X7G0\nStart exon:  10\nStop exon:  12\nA0A0D9R8Y8\nStart exon:  3\nStop exon:  7\nM3Z9A7\nStart exon:  6\nStop exon:  7\nM3Z9A7\nStart exon:  7\nStop exon:  8\nM3Z9A7\nStart exon:  12\nStop exon:  12\nM3Z9A7\nStart exon:  13\nStop exon:  14\nA0A096NCT3\nStart exon:  13\nStop exon:  14\nF7GSJ5\nStart exon:  1\nStop exon:  1\nF7GSJ5\nStart exon:  1\nStop exon:  2\nG3QVN1\nStart exon:  1\nStop exon:  2\nH0WQM3\nStart exon:  1\nStop exon:  1\nH0WQM3\nStart exon:  5\nStop exon:  5\nH0WQM3\nStart exon:  5\nStop exon:  7\nH0WQM3\nStart exon:  9\nStop exon:  9\nG1S165\nStart exon:  6\nStop exon:  7\nG3QVN1\nStart exon:  1\nStop exon:  2\nH0XD40\nStart exon:  5\nStop exon:  5\nH2P0M0\nStart exon:  6\nStop exon:  6\nG7PCD9\nStart exon:  2\nStop exon:  2\nG3SAQ4\nStart exon:  1\nStop exon:  1\nH0XKG9\nStart exon:  1\nStop exon:  3\nH0XU57\nStart exon:  1\nStop exon:  2\nH0XU57\nStart exon:  2\nStop exon:  2\nH0XU57\nStart exon:  3\nStop exon:  4\nH0XU57\nStart exon:  7\nStop exon:  7\nH0XU57\nStart exon:  7\nStop exon:  7\nH0XU57\nStart exon:  7\nStop exon:  8\nH0XU57\nStart exon:  8\nStop exon:  8\nH0XU57\nStart exon:  8\nStop exon:  8\nH0XU57\nStart exon:  8\nStop exon:  8\nH0XU57\nStart exon:  11\nStop exon:  11\nG1RCF6\nStart exon:  6\nStop exon:  11\nF7CP03\nStart exon:  8\nStop exon:  9\nA0A096NRT4\nStart exon:  8\nStop exon:  9\nA0A0D9RIB8\nStart exon:  7\nStop exon:  7\nG1QMF0\nStart exon:  7\nStop exon:  9\nG1QMF0\nStart exon:  10\nStop exon:  12\nA0A096MNA7\nStart exon:  7\nStop exon:  7\nH2P7E0\nStart exon:  8\nStop exon:  8\nA0A096NN21\nStart exon:  1\nStop exon:  1\nF6X6T7\nStart exon:  1\nStop exon:  1\nF6X6T7\nStart exon:  3\nStop exon:  3\nG1QSM5\nStart exon:  1\nStop exon:  1\nH2QL41\nStart exon:  18\nStop exon:  19\nG3S1A2\nStart exon:  1\nStop exon:  1\n"
    }
   ],
   "source": [
    "for index, row in Error_file.iloc[:100,:].iterrows():\n",
    "    fasta_name = row[0][20:-6]\n",
    "    prot_name = row[2]\n",
    "    error_start = row[3]\n",
    "    error_stop = row[4]\n",
    "\n",
    "    Prot_list = fasta2List(\"../raw/uniprot-sequence/\"+fasta_name)\n",
    "    CDS = [val for key, val in my_CDS.items() if prot_name in key]\n",
    "    if CDS == []:\n",
    "        continue\n",
    "    mismtach_CDS = CDS[0][error_start*3:error_stop*3+3]\n",
    "    subset = exon_file.loc[exon_file[0]==prot_name]\n",
    "    exon_number_list = subset[3].to_list()\n",
    "    exon_seq_list = subset[6].to_list()\n",
    "    \n",
    "    # Interaive pop of exon list : seq. Check CDS in exon joint: TRUE = pop if False = seq important\n",
    "    print(prot_name)\n",
    "    fini = False\n",
    "    while fini != True:\n",
    "        exon_tuple = [ (exon_number_list[i], exon_seq_list[i]) for i in range(len(exon_number_list))]\n",
    "        for j in range(0,len(exon_tuple), 1):\n",
    "            popped_exon = exon_tuple.pop(0)\n",
    "            testing_condition = (''.join(mismtach_CDS) in ''.join( [ exon_tuple[i][1] for i in range(len(exon_tuple)) ]))\n",
    "            if testing_condition == False:\n",
    "                print(\"Start exon: \", popped_exon[0])\n",
    "                break\n",
    "\n",
    "        exon_tuple = [ (exon_number_list[i], exon_seq_list[i]) for i in range(len(exon_number_list))]\n",
    "        for k in range(len(exon_tuple), 0, -1):\n",
    "            popped_exon = exon_tuple.pop(len(exon_tuple)-1)\n",
    "            testing_condition = (''.join(mismtach_CDS) in ''.join( [ exon_tuple[i][1] for i in range(len(exon_tuple)) ]))\n",
    "            if testing_condition == False:\n",
    "                print(\"Stop exon: \", popped_exon[0])\n",
    "                break\n",
    "        fini = True"
   ]
  }
 ]
}