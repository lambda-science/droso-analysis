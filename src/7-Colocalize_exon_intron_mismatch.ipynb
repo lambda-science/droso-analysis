{
 "nbformat": 4,
 "nbformat_minor": 2,
 "metadata": {
  "language_info": {
   "name": "python",
   "codemirror_mode": {
    "name": "ipython",
    "version": 3
   },
   "version": "3.7.6-final"
  },
  "orig_nbformat": 2,
  "file_extension": ".py",
  "mimetype": "text/x-python",
  "name": "python",
  "npconvert_exporter": "python",
  "pygments_lexer": "ipython3",
  "version": 3,
  "kernelspec": {
   "name": "python3",
   "display_name": "Python 3"
  }
 },
 "cells": [
  {
   "cell_type": "markdown",
   "execution_count": null,
   "metadata": {},
   "outputs": [],
   "source": [
    "# Script permettant de co-localiser les petit exons/introns avec la zone génomique du mismatch"
   ]
  },
  {
   "cell_type": "code",
   "execution_count": 1,
   "metadata": {},
   "outputs": [],
   "source": [
    "def fasta2List(pathFasta):\n",
    "    f = open(pathFasta, \"r\")\n",
    "    title = []\n",
    "    seq = []\n",
    "    seq_temp = []\n",
    "    for line in f:\n",
    "        if line[0] == \">\":\n",
    "            seq.append(''.join(seq_temp).replace(\"\\n\", \"\"))\n",
    "            title.append(line.replace(\"\\n\", \"\"))\n",
    "            seq_temp = []\n",
    "        else:\n",
    "            seq_temp.append(line)\n",
    "    seq.append(''.join(seq_temp).replace(\"\\n\", \"\"))\n",
    "    seq.pop(0)\n",
    "    dictionary = dict(zip(title, seq))\n",
    "    return dictionary"
   ]
  },
  {
   "cell_type": "code",
   "execution_count": 2,
   "metadata": {},
   "outputs": [],
   "source": [
    "# Importation de toutes les données utilisées\n",
    "import pandas as pd \n",
    "intron_file = pd.read_csv(\"../raw/uniprot-exon-map/Intron_map.tab\", sep=\"\\t\", header=None)\n",
    "exon_file = pd.read_csv(\"../raw/uniprot-exon-map/Exon_map.tab\", sep=\"\\t\", header=None)\n",
    "ID_file = pd.read_csv(\"../raw/uniprot-exon-map/transcript_ensembl.tab\", sep = \"\\t\")\n",
    "Error_file = pd.read_csv(\"../raw/uniprot-exon-map/uniprot_new_errors_filt.txt\", sep=\" \", header=None)\n",
    "my_Genomic = fasta2List(\"../raw/uniprot-exon-map/genomics_new.fa\")\n",
    "my_CDS = fasta2List(\"../raw/uniprot-exon-map/cds_new.fa\")"
   ]
  },
  {
   "cell_type": "code",
   "execution_count": 3,
   "metadata": {},
   "outputs": [],
   "source": [
    "# Génération du fichier qui map chaque mismatch à un exon de début et de fin de mismatch\n",
    "f = open(\"../raw/uniprot-mismatch-colocalize/mismatch_exon_pos.tab\", \"w\")\n",
    "f.write(\"Alignement\\tError\\tUniprotID\\tPosStartError\\tPosStopError\\tFirstExonError\\tLastExonError\\n\")\n",
    "for index, row in Error_file.iloc[:,:].iterrows():\n",
    "    fasta_name = row[0][20:-6]\n",
    "    prot_name = row[2]\n",
    "    error_start = row[3]\n",
    "    error_stop = row[4]\n",
    "\n",
    "    Prot_list = fasta2List(\"../raw/uniprot-sequence/\"+fasta_name)\n",
    "    CDS = [val for key, val in my_CDS.items() if prot_name in key]\n",
    "    if CDS == []:\n",
    "        continue\n",
    "    mismtach_CDS = CDS[0][error_start*3:error_stop*3+3]\n",
    "    subset = exon_file.loc[exon_file[0]==prot_name]\n",
    "    exon_number_list = subset[3].to_list()\n",
    "    exon_seq_list = subset[6].to_list()\n",
    "    \n",
    "    # Interaive pop of exon list : seq. Check CDS in exon joint: TRUE = pop if False = seq important\n",
    "    fini = False\n",
    "    while fini != True:\n",
    "        exon_tuple = [ (exon_number_list[i], exon_seq_list[i]) for i in range(len(exon_number_list))]\n",
    "        for j in range(0,len(exon_tuple), 1):\n",
    "            popped_exon = exon_tuple.pop(0)\n",
    "            testing_condition = (''.join(mismtach_CDS) in ''.join( [ exon_tuple[i][1] for i in range(len(exon_tuple)) ]))\n",
    "            if testing_condition == False:\n",
    "                start_exon = popped_exon[0]\n",
    "                break\n",
    "\n",
    "        exon_tuple = [ (exon_number_list[i], exon_seq_list[i]) for i in range(len(exon_number_list))]\n",
    "        for k in range(len(exon_tuple), 0, -1):\n",
    "            popped_exon = exon_tuple.pop(len(exon_tuple)-1)\n",
    "            testing_condition = (''.join(mismtach_CDS) in ''.join( [ exon_tuple[i][1] for i in range(len(exon_tuple)) ]))\n",
    "            if testing_condition == False:\n",
    "                stop_exon = popped_exon[0]\n",
    "                break\n",
    "        f.write(row[0]+\"\\t\"+row[1]+\"\\t\"+row[2]+\"\\t\"+str(row[3])+\"\\t\"+str(row[4])+\"\\t\"+str(start_exon)+\"\\t\"+str(stop_exon)+\"\\n\")\n",
    "        fini = True\n",
    "f.close()"
   ]
  },
  {
   "cell_type": "code",
   "execution_count": 3,
   "metadata": {},
   "outputs": [],
   "source": [
    "# Importation de tout les introns / exons présent dans les mismatch pour regarder la distribution des tailles\n",
    "mismatch_pos = pd.read_csv(\"../raw/uniprot-mismatch-colocalize/mismatch_exon_pos.tab\", sep=\"\\t\")"
   ]
  },
  {
   "cell_type": "code",
   "execution_count": 30,
   "metadata": {},
   "outputs": [],
   "source": [
    "# Récupération des séquences des exons introns localisés dans la zone du mismatch\n",
    "f = open(\"../raw/uniprot-mismatch-colocalize/mismatch_exon_seq.tab\", \"w\", newline='\\n')\n",
    "f2 = open(\"../raw/uniprot-mismatch-colocalize/mismatch_intron_seq.tab\", \"w\", newline='\\n')\n",
    "\n",
    "for index, row in mismatch_pos.iloc[:,:].iterrows():\n",
    "    subset_exon = exon_file.loc[exon_file[0]==row[2]]\n",
    "    subset_intron = intron_file.loc[intron_file[0]==row[2]]\n",
    "    for i in range(row[5], row[6]+1):\n",
    "        row_to_list = subset_exon.loc[subset_exon[3] == i].values.tolist()\n",
    "        row_to_list = row_to_list[0]\n",
    "        my_Str = '\\t'.join(map(str, row_to_list))\n",
    "        f.write(my_Str+\"\\n\")\n",
    "    for i in range(row[5], row[6]):\n",
    "        row_to_list = subset_intron.loc[subset_intron[3] == i].values.tolist()\n",
    "        row_to_list = row_to_list[0]\n",
    "        my_Str = '\\t'.join(map(str, row_to_list))\n",
    "        f2.write(my_Str+\"\\n\")\n",
    "        pass\n",
    "f.close()\n",
    "f2.close()"
   ]
  },
  {
   "cell_type": "code",
   "execution_count": 13,
   "metadata": {},
   "outputs": [],
   "source": [
    "# Récup CDS et genomic que au niveau du mismatch\n",
    "myExonicMap = pd.read_csv(\"../raw/uniprot-mismatch-colocalize/mismatch_exon_seq.tab\", sep=\"\\t\", header=None)\n",
    "UniprotID = set(myExonicMap.iloc[:,0].to_list())\n",
    "UniprotID = list(UniprotID)\n",
    "with open(\"../raw/uniprot-mismatch-colocalize/CDS_seq_mismatch.fa\", \"w\") as CDS_file:\n",
    "    for i in UniprotID:\n",
    "        subset = myExonicMap.loc[myExonicMap[0] == i]\n",
    "        myCDS = ''.join(subset[6].to_list())\n",
    "        CDS_file.write(\">\"+subset.iloc[0,1]+\" \"+i+\" CDS_mismatch\"+\"\\n\"+myCDS+\"\\n\")"
   ]
  },
  {
   "cell_type": "code",
   "execution_count": 12,
   "metadata": {},
   "outputs": [],
   "source": [
    "# Récup genomic que au niveau du mismatch\n",
    "myExonicMap = pd.read_csv(\"../raw/uniprot-mismatch-colocalize/mismatch_exon_seq.tab\", sep=\"\\t\", header=None)\n",
    "exon_file = pd.read_csv(\"../raw/uniprot-mismatch-colocalize/mismatch_exon_seq.tab\", sep=\"\\t\", header=None)\n",
    "intron_file = pd.read_csv(\"../raw/uniprot-mismatch-colocalize/mismatch_intron_seq.tab\", sep=\"\\t\", header=None)\n",
    "UniprotID = set(myExonicMap.iloc[:,0].to_list())\n",
    "UniprotID = list(UniprotID)\n",
    "\n",
    "with open(\"../raw/uniprot-mismatch-colocalize/genomic_seq_mismatch.fa\", \"w\") as CDS_file:\n",
    "    for i in UniprotID[:]:\n",
    "        my_CDS = []\n",
    "        subset_exon = exon_file.loc[exon_file[0]== i]\n",
    "        subset_intron = intron_file.loc[intron_file[0]== i]\n",
    "        for n in range(0, len(subset_exon.index)):\n",
    "            my_CDS.append(subset_exon.iloc[n,6])\n",
    "            try:\n",
    "                my_CDS.append(subset_intron.iloc[n,6])\n",
    "            except:\n",
    "                pass\n",
    "        CDS_file.write(\">\"+subset_exon.iloc[0,1]+\" \"+i+\" Genomic_mismatch\"+\"\\n\"+''.join(my_CDS)+\"\\n\")"
   ]
  }
 ]
}