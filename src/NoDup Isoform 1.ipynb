{
 "cells": [
  {
   "cell_type": "code",
   "execution_count": 1,
   "metadata": {},
   "outputs": [],
   "source": [
    "import pandas as pd \n",
    "\n",
    "def fasta2List(pathFasta):\n",
    "    f = open(pathFasta, \"r\")\n",
    "    title = []\n",
    "    seq = []\n",
    "    seq_temp = []\n",
    "    for line in f:\n",
    "        if line[0] == \">\":\n",
    "            seq.append(''.join(seq_temp).replace(\"\\n\", \"\"))\n",
    "            title.append(line.replace(\"\\n\", \"\"))\n",
    "            seq_temp = []\n",
    "        else:\n",
    "            seq_temp.append(line)\n",
    "    seq.append(''.join(seq_temp).replace(\"\\n\", \"\"))\n",
    "    seq.pop(0)\n",
    "    return [title, seq]\n",
    "\n",
    "def FindNotFound(pathID):\n",
    "    f = open(pathID, \"r\")\n",
    "    myID = []\n",
    "    IDfile = pd.read_csv(pathID, sep=\"\\t\", header=None)\n",
    "    geneListID = IDfile.iloc[:,0].tolist()\n",
    "    for i, j in enumerate(geneListID):\n",
    "        if j == 'Not Found - Error':\n",
    "            myID.append(i)\n",
    "    return myID\n",
    "\n",
    "def AlterFasta(fastaPath, idPath):\n",
    "    t, s = fasta2List(fastaPath)\n",
    "    error = FindNotFound(idPath)\n",
    "    for i in error:\n",
    "        t.insert(i, \">NaN\")\n",
    "        s.insert(i, \"XXX\")\n",
    "    f = open(fastaPath+\".modified\", \"w\")\n",
    "    for i in range(len(t)):\n",
    "        f.write(t[i]+\"\\n\")\n",
    "        f.write(s[i]+\"\\n\\n\")\n",
    "    f.close()"
   ]
  },
  {
   "cell_type": "code",
   "execution_count": null,
   "metadata": {},
   "outputs": [],
   "source": []
  }
 ],
 "metadata": {
  "kernelspec": {
   "display_name": "Python 3",
   "language": "python",
   "name": "python3"
  },
  "language_info": {
   "codemirror_mode": {
    "name": "ipython",
    "version": 3
   },
   "file_extension": ".py",
   "mimetype": "text/x-python",
   "name": "python",
   "nbconvert_exporter": "python",
   "pygments_lexer": "ipython3",
   "version": "3.7.1"
  }
 },
 "nbformat": 4,
 "nbformat_minor": 2
}
