{
 "nbformat": 4,
 "nbformat_minor": 2,
 "metadata": {
  "language_info": {
   "name": "python",
   "codemirror_mode": {
    "name": "ipython",
    "version": 3
   },
   "version": "3.7.6-final"
  },
  "orig_nbformat": 2,
  "file_extension": ".py",
  "mimetype": "text/x-python",
  "name": "python",
  "npconvert_exporter": "python",
  "pygments_lexer": "ipython3",
  "version": 3,
  "kernelspec": {
   "name": "python3",
   "display_name": "Python 3"
  }
 },
 "cells": [
  {
   "cell_type": "markdown",
   "execution_count": null,
   "metadata": {},
   "outputs": [],
   "source": [
    "# Script permettant de générer la carte exonique (exon map) des gènes d'intérêt\n",
    "Input: le json file génnéré à partir des réponse API Ensemble Lookup. Plusieurs réponse peuvent être dans un seul json, une par ligne, le json est mergé.  \n",
    "Output: exon_map.tab fichier texte tabulation contenant la position de chaque exon et la séquence pour chaque transcript d'intérêt"
   ]
  },
  {
   "cell_type": "code",
   "execution_count": null,
   "metadata": {},
   "outputs": [],
   "source": [
    "# Importer les données: json + correspondance uniprot/refseq + genomic\n",
    "import json\n",
    "import pandas as pd\n",
    "\n",
    "# Pour merger les json entre eux\n",
    "def merge_two_dicts(x, y):\n",
    "    z = x.copy()\n",
    "    z.update(y)    \n",
    "    return z\n",
    "\n",
    "# Pour importer les json\n",
    "def importJson(filePath):\n",
    "    data_dict = []\n",
    "    with open(filePath) as json_data:\n",
    "        for i in json_data:\n",
    "            data_dict.append(json.loads(i))\n",
    "    MyJsonFull = data_dict[0]\n",
    "    for i in data_dict[1:]:\n",
    "        MyJsonFull = merge_two_dicts(MyJsonFull, i)\n",
    "    return MyJsonFull\n",
    "\n",
    "# Renvoie une string contenant la ligne à écrire dans le fichier (position exon, séquence...)\n",
    "def catExonPos(MyJsonFull, seqID, dict_Genomic):\n",
    "    exonString = []\n",
    "    if MyJsonFull[seqID][\"strand\"] == -1:\n",
    "        ABSOLUTE_POST = MyJsonFull[seqID][\"end\"]\n",
    "        exon_list = MyJsonFull[seqID][\"Exon\"]\n",
    "        counter = 1\n",
    "        for i in exon_list:\n",
    "            stop = str(abs(i['end']-ABSOLUTE_POST))\n",
    "            start = str(abs(i['start']-ABSOLUTE_POST)+1)\n",
    "            res = [val for key, val in my_Genomic.items() if seqID in key]\n",
    "            exonString.append(seqID+ \"\\tExon\\t\"+str(counter)+\"\\t\"+stop+\"\\t\"+start+\"\\t\"+res[0][int(stop):int(start)])\n",
    "            counter+=1\n",
    "\n",
    "    if MyJsonFull[seqID][\"strand\"] == 1:\n",
    "        ABSOLUTE_POST = MyJsonFull[seqID][\"start\"]\n",
    "        exon_list = MyJsonFull[seqID][\"Exon\"]\n",
    "        counter = 1\n",
    "        for i in exon_list:\n",
    "            start = str(abs(i['start']-ABSOLUTE_POST))\n",
    "            stop = str(abs(i['end']-ABSOLUTE_POST)+1)\n",
    "            res = [val for key, val in dict_Genomic.items() if seqID in key]\n",
    "            exonString.append(seqID+ \"\\tExon\\t\"+str(counter)+\"\\t\"+start+\"\\t\"+stop+\"\\t\"+res[0][int(start):int(stop)])\n",
    "            counter+=1\n",
    "    return(exonString)\n",
    "\n",
    "# Importe un fichier fasta en dictionnaire titre:séquence\n",
    "def fasta2List(pathFasta):\n",
    "    f = open(pathFasta, \"r\")\n",
    "    title = []\n",
    "    seq = []\n",
    "    seq_temp = []\n",
    "    for line in f:\n",
    "        if line[0] == \">\":\n",
    "            seq.append(''.join(seq_temp).replace(\"\\n\", \"\"))\n",
    "            title.append(line.replace(\"\\n\", \"\"))\n",
    "            seq_temp = []\n",
    "        else:\n",
    "            seq_temp.append(line)\n",
    "    seq.append(''.join(seq_temp).replace(\"\\n\", \"\"))\n",
    "    seq.pop(0)\n",
    "    dictionary = dict(zip(title, seq))\n",
    "    return dictionary"
   ]
  },
  {
   "cell_type": "code",
   "execution_count": null,
   "metadata": {},
   "outputs": [],
   "source": [
    "ID_file = pd.read_csv(\"../raw/uniprot-exon-map/transcript_ensembl.tab\", sep = \"\\t\")\n",
    "jsonFile = importJson('../raw/uniprot-exon-map/lookup_newline.json')\n",
    "my_Genomic = fasta2List(\"../raw/uniprot-exon-map/genomics_new.fa\")"
   ]
  },
  {
   "cell_type": "code",
   "execution_count": null,
   "metadata": {},
   "outputs": [],
   "source": [
    "with open(\"../raw/uniprot-exon-map/Exon_map.tab\", \"w\") as exon_file:\n",
    "    for i in ID_file.iloc[:,1]:\n",
    "        uniprot_name = ID_file.loc[ID_file[\"To\"] == i].iloc[0,0]\n",
    "        for exon in catExonPos(jsonFile, i, my_Genomic):\n",
    "            exon_file.write(uniprot_name+\"\\t\"+exon+\"\\n\")"
   ]
  }
 ]
}