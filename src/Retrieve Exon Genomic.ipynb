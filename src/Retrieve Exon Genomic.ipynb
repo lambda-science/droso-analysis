{
 "cells": [
  {
   "cell_type": "code",
   "execution_count": 1,
   "metadata": {},
   "outputs": [],
   "source": [
    "import pandas as pd\n",
    "ID_file = pd.read_csv(\"../uniprot-to-exon/transcript_ensembl.tab\", sep = \"\\t\")"
   ]
  },
  {
   "cell_type": "code",
   "execution_count": 18,
   "metadata": {
    "collapsed": true
   },
   "outputs": [
    {
     "name": "stdout",
     "output_type": "stream",
     "text": [
      ">ENSOGAT00000002463.2\n",
      "GTGGCTGGGAACCCAGCCCAGCCCTCTCCGGGGAGGGAGAGCCTGGCGCGCAGTAAGGCG\n",
      "GCGCCTGGCGCCCCCTCGGGTCTGAGCTGTGCACAGCAAGGGTGCCGGGGGCGGCGCCCG\n",
      "GCCCTGCCCCTGGGGGGCCGTTCTTGGAGGCCAGAGGCGGGGCAGGGCGTTGAGACCCCT\n",
      "GAGCAAGAGAGCGAAGTCCTCCAGCCATCAGCCCCGCCTGCCGCGGCTGCAGGCTTTGTG\n",
      "CGTCCTAAGCCAGGCAGTGACGATCCTGGGCCGTCCGAAGCGAGAAGCGCAGAGGTCCAG\n",
      "GGGCAGTTTCCCCCTCCGGGCCCTAAGATCTCCTCTGGGTCAAGCCTGGAAACCCCGCAG\n",
      "CTGAGTTTTCTTCTGTGTCCCGAAGATCTCCAACCAGACCCAGAGGAGCTGCCCATGGAG\n",
      "ACGCCCATCGAGCGCGAAATCCGCCGCAGCTGCGAACGTGAAGAAAGCCTGCGGCGGAGC\n",
      "CGGGGCCTGAGCCCGGGCCGCGCGGGCCGCGAATTCGTGGAGTTGCGTGTGCGGCCAGTG\n",
      "CTCAGTCTGCCCGGCCCTGGCCCCGCGCCCACGCGCGCCTTGGAGCGCGCGCGCGCGGGT\n",
      "GCGCAGATGCAGCGAGACATCGAGCGGGAGGCCCACCGGCAGGCGGCGCTAATGCGCCCC\n",
      "GCGACCCCAGTCCCGCGCTCCGGGTCCCCGCCGCCGCTGGGTGAACTCAAGCGCTTCTTC\n",
      "GAGGCCGCGGCGGAGAGCGGTTCCTCCTCGGTGGCGGCGGAAGGCGGCGTGAGCCCGCAG\n",
      "TGGCGGCCAGAACCCGGAGGCCGTCCGCGCTCGGTAGTGCTGGCTCGCGCCCCGGCACCT\n",
      "ATCGCTCCGTCGCTGCTAGAGCAGGAGGTGCGCGAGGTGCGCGAGCGCGAGCGGGAGCTG\n",
      "CAGCGCCAGCGGCGCAGCGTCTACGGTACCGTAGACTTCAAGGACCCGGCGCCGAGCCTC\n",
      "ACCGCGAGCAGGGGCGATGGAAAGTTGGCGGTGATCTGGCCCCCCCGCAGAAAGGCTTCG\n",
      "GAGAACGGCCTGGAGCAGGAAGAGCACAAACCTTGA\n",
      "\n",
      ">ENSOGAT00000002463.2 scaffold:OtoGar3:GL873646.1:601952:604475:-1\n",
      "GTGGCTGGGAACCCAGCCCAGCCCTCTCCGGGGAGGGAGAGCCTGGCGCGCAGTAAGGCG\n",
      "GCGCCTGGCGCCCCCTCGGGTCTGAGCTGTGCACAGCAAGGGTGGAACCCAAAGGGAAGG\n",
      "CCCAAGGGCTCAGGGGCGTCGCGGCTGGCTGCCTCACGCCGGCTGGGCTGGCCTGGCCTG\n",
      "GCCAGGTGCTGGAAAGATGGCTTCGGAGGACACCCCCGACATGAGGACCAGTGGTTCAGA\n",
      "AGCCCAGCCCGGCGCACTACTGTGGTCAAGTCTCCTACGCAACGCCAGGGACACGGGTCC\n",
      "CAAAAGGTGCCAGGGTGCACTCATTGGTAAAACACCGCACCCAGAGTGCCTCCTAGGTAG\n",
      "TTGGCCAGGTCTAGAGAAGCTCTCTTGCAAGAAGTCCTGCTTCTTGAGCTGACCTGGACG\n",
      "CTCCAGTAGATGAAATTCTGTGCCCCGCCAACCCCGGCGAGGCATGGGTGTCCAGAGGGC\n",
      "GGGGCTGGAGTCCTCCTGGCAGGTGCCGGGGGCGGCGCCCGGCCCTGCCCCTGGGGGGCC\n",
      "GTTCTTGGAGGCCAGAGGCGGGTCAGAGAGAAGCGGCCAGTACGGGCGACGCCTTGGAAC\n",
      "CAAAGGGCGGCGACCACAGCCACAGGTGCCTCACAGAGCACTGTGTCCTAGCTCTGGGCA\n",
      "TCAAAATCCTGGCGAGGGGAACTGAGGGTTCCGAGTTGGTTCCAACCCTGGACACCGAGG\n",
      "CCCCCGTGCGAGAGAGTGGAACCCTGGGGTCGTCTGAAGCGTGGGGCCAAGAGCCCCCTG\n",
      "AGCCTCCTGTAGAGAAGCTTGAAGTCCCCTGGCAGAGCTGCGAGGTCCTTGTGCCCTCCA\n",
      "CAGGGCAGGGCGTTGAGACCCCTGAGCAAGAGAGCGAAGTCCTCCAGCCATCAGCCCCGC\n",
      "CTGCCGCGGCTGCAGGCTTTGTGCGTCCTAAGCCAGGCAGTGACGATCCTGGGCCGTCCG\n",
      "AAGCGAGAAGCGCAGAGGTCCAGGGGCAGTTTCCCCCTCCGGGCCCTAAGATCTCCTCTG\n",
      "GGTCAAGCCTGGAAACCCCGCAGCTGAGTTTTCTTCTGTGTCCCGAAGATCTCCAACCAG\n",
      "ACCCAGAGGAGCTGCCCATGGAGACGCCCATCGAGCGCGAAATCCGCCGCAGCTGCGAAC\n",
      "GTGAAGAAAGCCTGCGGCGGAGCCGGGGCCTGAGCCCGGGCCGCGCGGGCCGCGAATTCG\n",
      "TGGAGTTGCGTGTGCGGCCAGTGCTCAGTCTGCCCGGCCCTGGCCCCGCGCCCACGCGCG\n",
      "CCTTGGAGCGCGCGCGCGCGGGTGCGCAGATGCAGCGAGACATCGAGCGGGAGGCCCACC\n",
      "GGCAGGCGGCGCTAATGCGCCCCGCGACCCCAGTCCCGCGCTCCGGGTCCCCGCCGCCGC\n",
      "TGGGTGAACTCAAGCGCTTCTTCGAGGCCGCGGCGGAGAGCGGTTCCTCCTCGGTGGCGG\n",
      "CGGAAGGCGGCGTGAGCCCGCAGTGGCGGCCAGAACCCGGAGGCCGTCCGCGCTCGGTAG\n",
      "TGCTGGCTCGCGCCCCGGCACCTATCGCTCCGTCGCTGCTAGAGCAGGAGGTGCGCGAGG\n",
      "TGCGCGAGCGCGAGCGGGAGCTGCAGCGCCAGCGGCGCAGCGTCTACGGTACCGTAGACT\n",
      "TCAAGGACCCGGCGCCGAGCCTCACCGGTAAGGCGCCGCGACGCCGGGGACCCCCAGGCT\n",
      "TCCAGCGGTCCCCGCTGAAAGCCCAAGTCCAGTGGCTCCTTTTCTGGTTCTTGGATTCTC\n",
      "ACGGTCTCTCTTGAGGCTCCCAGACTCTCAGGACCTTATTCTCAATTTTCTGTCCTTTGC\n",
      "CCTACTACTTTGGGCTGCCCACTCCTTGCGCTCTACTTCCCACCCGAGTGATGGGTGGAC\n",
      "TACCAGACCCCCACCCTCTAGGTTGCGGAGGCTGGGTGGGGGAGGATTCCAGATGTCTTC\n",
      "CTGTTTGTCGAGTTCCAAGGAACCCTCTCTGGGTTCTTCCCTCTAAATTTTCGGGTTCCT\n",
      "GGCTCTCCTTCCTCCTTTGGTTCCTGGGTTCCCCGGAGCTGGATGAAGGCCTCCGTGGGA\n",
      "AAGAGAAGGGTGAACGCCTGTGTGTGTTTAAGGGGTGCGGCCGGCCTCTTTCATCCTGGC\n",
      "TGCCTCCACCTGGTGAAAGGAGGAGCAACCCCGGCTGAGCGCCCCTTCCCCCACAGCGAG\n",
      "CAGGGGCGATGGAAAGTTGGCGGTGATCTGGCCCCCCCGCAGAAAGGCTTCGGAGAACGG\n",
      "CCTGGAGCAGGTGGGAGTCCCCTTCCCCTGTGCCTAAAGCACTTGTCGCTGTCACACACA\n",
      "GCGTCCCCCGCCCCCCCCCACATTGCAGTGTCAGCACTTTGTGTATGGAAAGATGTATCT\n",
      "CCGCCCCCACCCCCTTGGAGCGCTACTGTGGCCAGAACTCTGTGGGCGCAGCCCGAGGGT\n",
      "GAGGAGGATGCAGTCGTCCAGCGGCCCAAACCGCCCCACCCTGCACCTGGGTGCGGTGCG\n",
      "CGGGTCACTGAGGGCCAGCCTAACCTCTAGCCCTCTCTTTCACTAGGAAGAGCACAAACC\n",
      "TTGA\n",
      "\n"
     ]
    }
   ],
   "source": [
    "import requests, sys\n",
    " \n",
    "server = \"https://rest.ensembl.org\"\n",
    "\n",
    "ext = \"/sequence/id/\"+ID_file.iloc[0,1]+\"?object_type=transcript;type=cds\"\n",
    "r = requests.get(server+ext, headers={ \"Content-Type\" : \"text/x-fasta\"})\n",
    "if not r.ok:\n",
    "  r.raise_for_status()\n",
    "print(r.text)\n",
    "\n",
    "ext2 = \"/sequence/id/\"+ID_file.iloc[0,1]+\"?object_type=transcript;type=genomic\"\n",
    "r2 = requests.get(server+ext2, headers={ \"Content-Type\" : \"text/x-fasta\"})\n",
    "if not r2.ok:\n",
    "  r2.raise_for_status()\n",
    "print(r2.text)"
   ]
  },
  {
   "cell_type": "code",
   "execution_count": 117,
   "metadata": {},
   "outputs": [
    {
     "data": {
      "text/plain": [
       "<function TextIOWrapper.close()>"
      ]
     },
     "execution_count": 117,
     "metadata": {},
     "output_type": "execute_result"
    }
   ],
   "source": [
    "import requests, sys\n",
    "import json\n",
    "\n",
    "server = \"https://rest.ensembl.org\"\n",
    "ext = \"/sequence/id\"\n",
    "headers={ \"Content-Type\" : \"application/json\", \"Accept\" : \"application/json\"}\n",
    "\n",
    "data = {\"ids\": ID_file.iloc[:1,1].tolist(), \"type\":\"genomic\"}\n",
    "data = json.dumps(data)\n",
    "r = requests.post(server+ext, headers=headers, data=data)\n",
    "if not r.ok:\n",
    "    print(r.text)\n",
    "    r.raise_for_status()\n",
    "    sys.exit()\n",
    "    \n",
    "decoded = r.json()\n",
    "\n",
    "f = open(\"../uniprot-to-exon/genomics.fa\", \"w\")\n",
    "j = 0\n",
    "for i in decoded:\n",
    "    f.write(\">\"+i['query']+\" \"+str(ID_file.iloc[j,0]) + \" GENOMIC\\n\")\n",
    "    f.write(i['seq']+\"\\n\")\n",
    "    j = j+1\n",
    "f.close"
   ]
  },
  {
   "cell_type": "code",
   "execution_count": 3,
   "metadata": {},
   "outputs": [
    {
     "name": "stderr",
     "output_type": "stream",
     "text": "C:\\ProgramData\\Anaconda3\\lib\\site-packages\\gevent\\hub.py:154: UserWarning: libuv only supports millisecond timer resolution; all times less will be set to 1 ms\n  with loop.timer(seconds, ref=ref) as t:\n"
    }
   ],
   "source": [
    "import grequests\n",
    "import json\n",
    "\n",
    "url = \"https://rest.ensembl.org/sequence/id\"\n",
    "headers={ \"Content-Type\" : \"application/json\", \"Accept\" : \"application/json\"}\n",
    "\n",
    "params = []\n",
    "for i in range(0, 9960, 50):\n",
    "    try:\n",
    "        params.append({\"ids\": ID_file.iloc[i:i+50,1].tolist(), \"type\":\"cds\"})\n",
    "    except:\n",
    "        params.append({\"ids\": ID_file.iloc[i:,1].tolist(), \"type\":\"cds\"})\n",
    "\n",
    "        \n",
    "rs = [grequests.post(url, headers=headers, data=json.dumps(i)) for i in params]\n",
    "all_response = grequests.map(rs, size=50)"
   ]
  },
  {
   "cell_type": "code",
   "execution_count": 6,
   "metadata": {},
   "outputs": [
    {
     "name": "stderr",
     "output_type": "stream",
     "text": "C:\\ProgramData\\Anaconda3\\lib\\site-packages\\gevent\\hub.py:154: UserWarning: libuv only supports millisecond timer resolution; all times less will be set to 1 ms\n  with loop.timer(seconds, ref=ref) as t:\n"
    }
   ],
   "source": [
    "f = open(\"../uniprot-to-exon/cds_new.fa\", \"w\")\n",
    "indice = 0\n",
    "for response in all_response:\n",
    "    j = 0\n",
    "    try:\n",
    "        for entry in response.json():\n",
    "            f.write(\">\"+entry['query']+\" \"+str(ID_file.iloc[indice*50+j,0]) + \" CDS\\n\")\n",
    "            f.write(entry['seq']+\"\\n\")\n",
    "            j = j+1\n",
    "    except:\n",
    "        pass\n",
    "    indice = indice + 1\n",
    "\n",
    "f.close()"
   ]
  },
  {
   "cell_type": "code",
   "execution_count": 2,
   "metadata": {},
   "outputs": [
    {
     "name": "stderr",
     "output_type": "stream",
     "text": [
      "C:\\ProgramData\\Anaconda3\\lib\\site-packages\\gevent\\hub.py:154: UserWarning: libuv only supports millisecond timer resolution; all times less will be set to 1 ms\n",
      "  with loop.timer(seconds, ref=ref) as t:\n"
     ]
    }
   ],
   "source": [
    "import grequests\n",
    "import requests, sys\n",
    "url = \"https://rest.ensembl.org/lookup/id/\"\n",
    "headers={ \"Content-Type\" : \"application/json\", \"Accept\" : \"application/json\"}\n",
    "\n",
    "params = []\n",
    "for i in range(0, 9960, 1000):\n",
    "    try:\n",
    "        params.append({\"ids\": ID_file.iloc[i:i+1000,1].tolist(), \"expand\":\"1\"})\n",
    "    except:\n",
    "        params.append({\"ids\": ID_file.iloc[i:,1].tolist(), \"expand\":\"1\"})\n",
    "\n",
    "rs = [grequests.post(url, headers=headers, data=json.dumps(i)) for i in params]\n",
    "all_response = grequests.map(rs)"
   ]
  },
  {
   "cell_type": "code",
   "execution_count": 58,
   "metadata": {},
   "outputs": [],
   "source": [
    "rs = [grequests.post(url, headers=headers, data=json.dumps(i)) for i in params]\n",
    "all_response_V2 = grequests.map(rs)"
   ]
  },
  {
   "cell_type": "code",
   "execution_count": 67,
   "metadata": {},
   "outputs": [],
   "source": [
    "f = open(\"../uniprot-to-exon/lookup_comma.json\", \"a\")\n",
    "for response in all_response_V2:\n",
    "    try:\n",
    "        f.write(json.dumps(response.json())+\",\")\n",
    "    except:\n",
    "        pass\n",
    "f.close()"
   ]
  },
  {
   "cell_type": "code",
   "execution_count": 2,
   "metadata": {},
   "outputs": [],
   "source": [
    "import json\n",
    "import pandas\n",
    "data_dict = []\n",
    "with open('C:/Users/Glados/Documents/stage-thompson/uniprot-to-exon/lookup_newline.json') as json_data:\n",
    "    for i in json_data:\n",
    "        data_dict.append(json.loads(i))\n",
    "\n",
    "def merge_two_dicts(x, y):\n",
    "    z = x.copy()\n",
    "    z.update(y)    \n",
    "    return z\n",
    "\n",
    "MyJsonFull = data_dict[0]\n",
    "for i in data_dict[1:]:\n",
    "    MyJsonFull = merge_two_dicts(MyJsonFull, i)"
   ]
  },
  {
   "cell_type": "code",
   "execution_count": 3,
   "metadata": {},
   "outputs": [
    {
     "name": "stdout",
     "output_type": "stream",
     "text": "Exon 1\nStart corrected:  0\nStop corrected:  14\nExon 2\nStart corrected:  239\nStop corrected:  315\nExon 3\nStart corrected:  1145\nStop corrected:  2105\nExon 4\nStart corrected:  6823\nStop corrected:  7043\nExon 5\nStart corrected:  7298\nStop corrected:  7491\nExon 6\nStart corrected:  9341\nStop corrected:  9441\n"
    }
   ],
   "source": [
    "ABSOLUTE_POST = MyJsonFull['ENSNLET00000002590'][\"start\"]\n",
    "exon_list = MyJsonFull['ENSNLET00000002590'][\"Exon\"]\n",
    "\n",
    "counter = 1\n",
    "for i in exon_list:\n",
    "    print(\"Exon \"+str(counter))\n",
    "    print(\"Start corrected: \",  abs(i['start']-ABSOLUTE_POST))\n",
    "    print(\"Stop corrected: \",  abs(i['end']-ABSOLUTE_POST))\n",
    "    counter+=1\n"
   ]
  },
  {
   "cell_type": "code",
   "execution_count": 4,
   "metadata": {},
   "outputs": [
    {
     "data": {
      "text/plain": "{'object_type': 'Exon',\n 'strand': 1,\n 'version': 1,\n 'db_type': 'core',\n 'seq_region_name': 'GL397444.1',\n 'assembly_name': 'Nleu_3.0',\n 'start': 295204,\n 'species': 'nomascus_leucogenys',\n 'id': 'ENSNLEE00000294789',\n 'end': 295218}"
     },
     "execution_count": 4,
     "metadata": {},
     "output_type": "execute_result"
    }
   ],
   "source": [
    "exon_list[0]"
   ]
  }
 ],
 "metadata": {
  "kernelspec": {
   "display_name": "Python 3",
   "language": "python",
   "name": "python3"
  },
  "language_info": {
   "codemirror_mode": {
    "name": "ipython",
    "version": 3
   },
   "file_extension": ".py",
   "mimetype": "text/x-python",
   "name": "python",
   "nbconvert_exporter": "python",
   "pygments_lexer": "ipython3",
   "version": "3.7.6-final"
  }
 },
 "nbformat": 4,
 "nbformat_minor": 2
}