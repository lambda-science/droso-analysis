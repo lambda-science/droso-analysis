{
 "cells": [
  {
   "cell_type": "markdown",
   "metadata": {},
   "source": [
    "##### Fusion des fichier traiter précédent pour passer d'un fichier par comparaison à un fichier pour toute les comparaison\n",
    "import pandas as pd\n",
    "from os import listdir\n",
    "from os.path import isfile, join\n",
    "import json\n",
    "\n",
    "myfiles2 = listdir(\"json-processed/\")\n",
    "main_df = pd.read_csv('json-processed/'+myfiles2[0], sep='\\t', header=0)\n",
    "for i in range(1, 10):\n",
    "    df_temp = pd.read_csv('json-processed/'+myfiles2[i], sep='\\t', header=0)\n",
    "    main_df = main_df.merge(df_temp, on=\"9606\", how=\"outer\")\n",
    "gene_names = main_df.copy()"
   ]
  },
  {
   "cell_type": "code",
   "execution_count": 2,
   "metadata": {
    "collapsed": true
   },
   "outputs": [
    {
     "name": "stdout",
     "output_type": "stream",
     "text": [
      "{'Count': '22', 'RetMax': '1', 'RetStart': '0', 'IdList': ['1034576182'], 'TranslationSet': [{'From': 'Homo sapiens', 'To': '\"Homo sapiens\"[Organism] OR Homo sapiens[All Fields]'}], 'TranslationStack': [{'Term': 'TSPAN18[All Fields]', 'Field': 'All Fields', 'Count': '837', 'Explode': 'N'}, {'Term': '\"Homo sapiens\"[Organism]', 'Field': 'Organism', 'Count': '1364990', 'Explode': 'Y'}, {'Term': 'Homo sapiens[All Fields]', 'Field': 'All Fields', 'Count': '145880762', 'Explode': 'N'}, 'OR', 'GROUP', 'AND', 'GROUP'], 'QueryTranslation': 'TSPAN18[All Fields] AND (\"Homo sapiens\"[Organism] OR Homo sapiens[All Fields])'}\n",
      "{'Count': '1', 'RetMax': '1', 'RetStart': '0', 'IdList': ['831211304'], 'TranslationSet': [{'From': 'Otolemur garnettii', 'To': '\"Otolemur garnettii\"[Organism] OR Otolemur garnettii[All Fields]'}], 'TranslationStack': [{'Term': 'TSPAN18[All Fields]', 'Field': 'All Fields', 'Count': '837', 'Explode': 'N'}, {'Term': '\"Otolemur garnettii\"[Organism]', 'Field': 'Organism', 'Count': '33099', 'Explode': 'Y'}, {'Term': 'Otolemur garnettii[All Fields]', 'Field': 'All Fields', 'Count': '33128', 'Explode': 'N'}, 'OR', 'GROUP', 'AND', 'GROUP'], 'QueryTranslation': 'TSPAN18[All Fields] AND (\"Otolemur garnettii\"[Organism] OR Otolemur garnettii[All Fields])'}\n",
      "{'Count': '5', 'RetMax': '1', 'RetStart': '0', 'IdList': ['635013979'], 'TranslationSet': [{'From': 'Chlorocebus sabaeus', 'To': '\"Chlorocebus sabaeus\"[Organism] OR Chlorocebus sabaeus[All Fields]'}], 'TranslationStack': [{'Term': 'TSPAN18[All Fields]', 'Field': 'All Fields', 'Count': '837', 'Explode': 'N'}, {'Term': '\"Chlorocebus sabaeus\"[Organism]', 'Field': 'Organism', 'Count': '62360', 'Explode': 'Y'}, {'Term': 'Chlorocebus sabaeus[All Fields]', 'Field': 'All Fields', 'Count': '64063', 'Explode': 'N'}, 'OR', 'GROUP', 'AND', 'GROUP'], 'QueryTranslation': 'TSPAN18[All Fields] AND (\"Chlorocebus sabaeus\"[Organism] OR Chlorocebus sabaeus[All Fields])'}\n",
      "{'Count': '4', 'RetMax': '1', 'RetStart': '0', 'IdList': ['1743162342'], 'TranslationSet': [{'From': 'Nomascus leucogenys', 'To': '\"Nomascus leucogenys\"[Organism] OR Nomascus leucogenys[All Fields]'}], 'TranslationStack': [{'Term': 'TSPAN18[All Fields]', 'Field': 'All Fields', 'Count': '837', 'Explode': 'N'}, {'Term': '\"Nomascus leucogenys\"[Organism]', 'Field': 'Organism', 'Count': '51648', 'Explode': 'Y'}, {'Term': 'Nomascus leucogenys[All Fields]', 'Field': 'All Fields', 'Count': '51699', 'Explode': 'N'}, 'OR', 'GROUP', 'AND', 'GROUP'], 'QueryTranslation': 'TSPAN18[All Fields] AND (\"Nomascus leucogenys\"[Organism] OR Nomascus leucogenys[All Fields])'}\n",
      "{'Count': '4', 'RetMax': '1', 'RetStart': '0', 'IdList': ['1060943320'], 'TranslationSet': [{'From': 'Callithrix jacchus', 'To': '\"Callithrix jacchus\"[Organism] OR Callithrix jacchus[All Fields]'}], 'TranslationStack': [{'Term': 'TSPAN18[All Fields]', 'Field': 'All Fields', 'Count': '837', 'Explode': 'N'}, {'Term': '\"Callithrix jacchus\"[Organism]', 'Field': 'Organism', 'Count': '98970', 'Explode': 'Y'}, {'Term': 'Callithrix jacchus[All Fields]', 'Field': 'All Fields', 'Count': '109478', 'Explode': 'N'}, 'OR', 'GROUP', 'AND', 'GROUP'], 'QueryTranslation': 'TSPAN18[All Fields] AND (\"Callithrix jacchus\"[Organism] OR Callithrix jacchus[All Fields])'}\n",
      "{'Count': '4', 'RetMax': '1', 'RetStart': '0', 'IdList': ['982294344'], 'TranslationSet': [{'From': 'Macaca fascicularis', 'To': '\"Macaca fascicularis\"[Organism] OR Macaca fascicularis[All Fields]'}], 'TranslationStack': [{'Term': 'TSPAN18[All Fields]', 'Field': 'All Fields', 'Count': '837', 'Explode': 'N'}, {'Term': '\"Macaca fascicularis\"[Organism]', 'Field': 'Organism', 'Count': '101243', 'Explode': 'Y'}, {'Term': 'Macaca fascicularis[All Fields]', 'Field': 'All Fields', 'Count': '120972', 'Explode': 'N'}, 'OR', 'GROUP', 'AND', 'GROUP'], 'QueryTranslation': 'TSPAN18[All Fields] AND (\"Macaca fascicularis\"[Organism] OR Macaca fascicularis[All Fields])'}\n",
      "{'Count': '11', 'RetMax': '1', 'RetStart': '0', 'IdList': ['388453697'], 'TranslationSet': [{'From': 'Macaca mulatta', 'To': '\"Macaca mulatta\"[Organism] OR Macaca mulatta[All Fields]'}], 'TranslationStack': [{'Term': 'TSPAN18[All Fields]', 'Field': 'All Fields', 'Count': '837', 'Explode': 'N'}, {'Term': '\"Macaca mulatta\"[Organism]', 'Field': 'Organism', 'Count': '136639', 'Explode': 'Y'}, {'Term': 'Macaca mulatta[All Fields]', 'Field': 'All Fields', 'Count': '275530', 'Explode': 'N'}, 'OR', 'GROUP', 'AND', 'GROUP'], 'QueryTranslation': 'TSPAN18[All Fields] AND (\"Macaca mulatta\"[Organism] OR Macaca mulatta[All Fields])'}\n",
      "{'Count': '5', 'RetMax': '1', 'RetStart': '0', 'IdList': ['1777265455'], 'TranslationSet': [{'From': 'Papio anubis', 'To': '\"Papio anubis\"[Organism] OR Papio anubis[All Fields]'}], 'TranslationStack': [{'Term': 'TSPAN18[All Fields]', 'Field': 'All Fields', 'Count': '837', 'Explode': 'N'}, {'Term': '\"Papio anubis\"[Organism]', 'Field': 'Organism', 'Count': '73616', 'Explode': 'Y'}, {'Term': 'Papio anubis[All Fields]', 'Field': 'All Fields', 'Count': '74906', 'Explode': 'N'}, 'OR', 'GROUP', 'AND', 'GROUP'], 'QueryTranslation': 'TSPAN18[All Fields] AND (\"Papio anubis\"[Organism] OR Papio anubis[All Fields])'}\n",
      "{'Count': '3', 'RetMax': '1', 'RetStart': '0', 'IdList': ['1753032398'], 'TranslationSet': [{'From': 'Gorilla gorilla gorilla', 'To': '\"Gorilla gorilla gorilla\"[Organism] OR Gorilla gorilla gorilla[All Fields]'}], 'TranslationStack': [{'Term': 'TSPAN18[All Fields]', 'Field': 'All Fields', 'Count': '837', 'Explode': 'N'}, {'Term': '\"Gorilla gorilla gorilla\"[Organism]', 'Field': 'Organism', 'Count': '52205', 'Explode': 'Y'}, {'Term': 'Gorilla gorilla gorilla[All Fields]', 'Field': 'All Fields', 'Count': '63057', 'Explode': 'N'}, 'OR', 'GROUP', 'AND', 'GROUP'], 'QueryTranslation': 'TSPAN18[All Fields] AND (\"Gorilla gorilla gorilla\"[Organism] OR Gorilla gorilla gorilla[All Fields])'}\n",
      "{'Count': '14', 'RetMax': '1', 'RetStart': '0', 'IdList': ['1034088016'], 'TranslationSet': [{'From': 'Pan troglodytes', 'To': '\"Pan troglodytes\"[Organism] OR Pan troglodytes[All Fields]'}], 'TranslationStack': [{'Term': 'TSPAN18[All Fields]', 'Field': 'All Fields', 'Count': '837', 'Explode': 'N'}, {'Term': '\"Pan troglodytes\"[Organism]', 'Field': 'Organism', 'Count': '227923', 'Explode': 'Y'}, {'Term': 'Pan troglodytes[All Fields]', 'Field': 'All Fields', 'Count': '283291', 'Explode': 'N'}, 'OR', 'GROUP', 'AND', 'GROUP'], 'QueryTranslation': 'TSPAN18[All Fields] AND (\"Pan troglodytes\"[Organism] OR Pan troglodytes[All Fields])'}\n",
      "{'Count': '13', 'RetMax': '1', 'RetStart': '0', 'IdList': ['1351394774'], 'TranslationSet': [{'From': 'Pongo abelii', 'To': '\"Pongo abelii\"[Organism] OR Pongo abelii[All Fields]'}], 'TranslationStack': [{'Term': 'TSPAN18[All Fields]', 'Field': 'All Fields', 'Count': '837', 'Explode': 'N'}, {'Term': '\"Pongo abelii\"[Organism]', 'Field': 'Organism', 'Count': '145779', 'Explode': 'Y'}, {'Term': 'Pongo abelii[All Fields]', 'Field': 'All Fields', 'Count': '149454', 'Explode': 'N'}, 'OR', 'GROUP', 'AND', 'GROUP'], 'QueryTranslation': 'TSPAN18[All Fields] AND (\"Pongo abelii\"[Organism] OR Pongo abelii[All Fields])'}\n",
      "{'Count': '101', 'RetMax': '1', 'RetStart': '0', 'IdList': ['161702986'], 'TranslationSet': [{'From': 'Homo sapiens', 'To': '\"Homo sapiens\"[Organism] OR Homo sapiens[All Fields]'}], 'TranslationStack': [{'Term': 'CLIP1[All Fields]', 'Field': 'All Fields', 'Count': '4387', 'Explode': 'N'}, {'Term': '\"Homo sapiens\"[Organism]', 'Field': 'Organism', 'Count': '1364990', 'Explode': 'Y'}, {'Term': 'Homo sapiens[All Fields]', 'Field': 'All Fields', 'Count': '145880762', 'Explode': 'N'}, 'OR', 'GROUP', 'AND', 'GROUP'], 'QueryTranslation': 'CLIP1[All Fields] AND (\"Homo sapiens\"[Organism] OR Homo sapiens[All Fields])'}\n",
      "{'Count': '1', 'RetMax': '1', 'RetStart': '0', 'IdList': ['1327810199'], 'TranslationSet': [{'From': 'Otolemur garnettii', 'To': '\"Otolemur garnettii\"[Organism] OR Otolemur garnettii[All Fields]'}], 'TranslationStack': [{'Term': 'CLIP1[All Fields]', 'Field': 'All Fields', 'Count': '4387', 'Explode': 'N'}, {'Term': '\"Otolemur garnettii\"[Organism]', 'Field': 'Organism', 'Count': '33099', 'Explode': 'Y'}, {'Term': 'Otolemur garnettii[All Fields]', 'Field': 'All Fields', 'Count': '33128', 'Explode': 'N'}, 'OR', 'GROUP', 'AND', 'GROUP'], 'QueryTranslation': 'CLIP1[All Fields] AND (\"Otolemur garnettii\"[Organism] OR Otolemur garnettii[All Fields])'}\n"
     ]
    },
    {
     "name": "stdout",
     "output_type": "stream",
     "text": [
      "{'Count': '18', 'RetMax': '1', 'RetStart': '0', 'IdList': ['635068886'], 'TranslationSet': [{'From': 'Chlorocebus sabaeus', 'To': '\"Chlorocebus sabaeus\"[Organism] OR Chlorocebus sabaeus[All Fields]'}], 'TranslationStack': [{'Term': 'CLIP1[All Fields]', 'Field': 'All Fields', 'Count': '4387', 'Explode': 'N'}, {'Term': '\"Chlorocebus sabaeus\"[Organism]', 'Field': 'Organism', 'Count': '62360', 'Explode': 'Y'}, {'Term': 'Chlorocebus sabaeus[All Fields]', 'Field': 'All Fields', 'Count': '64063', 'Explode': 'N'}, 'OR', 'GROUP', 'AND', 'GROUP'], 'QueryTranslation': 'CLIP1[All Fields] AND (\"Chlorocebus sabaeus\"[Organism] OR Chlorocebus sabaeus[All Fields])'}\n",
      "{'Count': '15', 'RetMax': '1', 'RetStart': '0', 'IdList': ['1743143720'], 'TranslationSet': [{'From': 'Nomascus leucogenys', 'To': '\"Nomascus leucogenys\"[Organism] OR Nomascus leucogenys[All Fields]'}], 'TranslationStack': [{'Term': 'CLIP1[All Fields]', 'Field': 'All Fields', 'Count': '4387', 'Explode': 'N'}, {'Term': '\"Nomascus leucogenys\"[Organism]', 'Field': 'Organism', 'Count': '51648', 'Explode': 'Y'}, {'Term': 'Nomascus leucogenys[All Fields]', 'Field': 'All Fields', 'Count': '51699', 'Explode': 'N'}, 'OR', 'GROUP', 'AND', 'GROUP'], 'QueryTranslation': 'CLIP1[All Fields] AND (\"Nomascus leucogenys\"[Organism] OR Nomascus leucogenys[All Fields])'}\n",
      "{'Count': '13', 'RetMax': '1', 'RetStart': '0', 'IdList': ['1061018449'], 'TranslationSet': [{'From': 'Callithrix jacchus', 'To': '\"Callithrix jacchus\"[Organism] OR Callithrix jacchus[All Fields]'}], 'TranslationStack': [{'Term': 'CLIP1[All Fields]', 'Field': 'All Fields', 'Count': '4387', 'Explode': 'N'}, {'Term': '\"Callithrix jacchus\"[Organism]', 'Field': 'Organism', 'Count': '98970', 'Explode': 'Y'}, {'Term': 'Callithrix jacchus[All Fields]', 'Field': 'All Fields', 'Count': '109478', 'Explode': 'N'}, 'OR', 'GROUP', 'AND', 'GROUP'], 'QueryTranslation': 'CLIP1[All Fields] AND (\"Callithrix jacchus\"[Organism] OR Callithrix jacchus[All Fields])'}\n",
      "{'Count': '17', 'RetMax': '1', 'RetStart': '0', 'IdList': ['982284119'], 'TranslationSet': [{'From': 'Macaca fascicularis', 'To': '\"Macaca fascicularis\"[Organism] OR Macaca fascicularis[All Fields]'}], 'TranslationStack': [{'Term': 'CLIP1[All Fields]', 'Field': 'All Fields', 'Count': '4387', 'Explode': 'N'}, {'Term': '\"Macaca fascicularis\"[Organism]', 'Field': 'Organism', 'Count': '101243', 'Explode': 'Y'}, {'Term': 'Macaca fascicularis[All Fields]', 'Field': 'All Fields', 'Count': '120972', 'Explode': 'N'}, 'OR', 'GROUP', 'AND', 'GROUP'], 'QueryTranslation': 'CLIP1[All Fields] AND (\"Macaca fascicularis\"[Organism] OR Macaca fascicularis[All Fields])'}\n",
      "{'Count': '29', 'RetMax': '1', 'RetStart': '0', 'IdList': ['1622847200'], 'TranslationSet': [{'From': 'Macaca mulatta', 'To': '\"Macaca mulatta\"[Organism] OR Macaca mulatta[All Fields]'}], 'TranslationStack': [{'Term': 'CLIP1[All Fields]', 'Field': 'All Fields', 'Count': '4387', 'Explode': 'N'}, {'Term': '\"Macaca mulatta\"[Organism]', 'Field': 'Organism', 'Count': '136639', 'Explode': 'Y'}, {'Term': 'Macaca mulatta[All Fields]', 'Field': 'All Fields', 'Count': '275530', 'Explode': 'N'}, 'OR', 'GROUP', 'AND', 'GROUP'], 'QueryTranslation': 'CLIP1[All Fields] AND (\"Macaca mulatta\"[Organism] OR Macaca mulatta[All Fields])'}\n",
      "{'Count': '15', 'RetMax': '1', 'RetStart': '0', 'IdList': ['1777351580'], 'TranslationSet': [{'From': 'Papio anubis', 'To': '\"Papio anubis\"[Organism] OR Papio anubis[All Fields]'}], 'TranslationStack': [{'Term': 'CLIP1[All Fields]', 'Field': 'All Fields', 'Count': '4387', 'Explode': 'N'}, {'Term': '\"Papio anubis\"[Organism]', 'Field': 'Organism', 'Count': '73616', 'Explode': 'Y'}, {'Term': 'Papio anubis[All Fields]', 'Field': 'All Fields', 'Count': '74906', 'Explode': 'N'}, 'OR', 'GROUP', 'AND', 'GROUP'], 'QueryTranslation': 'CLIP1[All Fields] AND (\"Papio anubis\"[Organism] OR Papio anubis[All Fields])'}\n",
      "{'Count': '8', 'RetMax': '1', 'RetStart': '0', 'IdList': ['1753036762'], 'TranslationSet': [{'From': 'Gorilla gorilla gorilla', 'To': '\"Gorilla gorilla gorilla\"[Organism] OR Gorilla gorilla gorilla[All Fields]'}], 'TranslationStack': [{'Term': 'CLIP1[All Fields]', 'Field': 'All Fields', 'Count': '4387', 'Explode': 'N'}, {'Term': '\"Gorilla gorilla gorilla\"[Organism]', 'Field': 'Organism', 'Count': '52205', 'Explode': 'Y'}, {'Term': 'Gorilla gorilla gorilla[All Fields]', 'Field': 'All Fields', 'Count': '63057', 'Explode': 'N'}, 'OR', 'GROUP', 'AND', 'GROUP'], 'QueryTranslation': 'CLIP1[All Fields] AND (\"Gorilla gorilla gorilla\"[Organism] OR Gorilla gorilla gorilla[All Fields])'}\n",
      "{'Count': '39', 'RetMax': '1', 'RetStart': '0', 'IdList': ['1367160410'], 'TranslationSet': [{'From': 'Pan troglodytes', 'To': '\"Pan troglodytes\"[Organism] OR Pan troglodytes[All Fields]'}], 'TranslationStack': [{'Term': 'CLIP1[All Fields]', 'Field': 'All Fields', 'Count': '4387', 'Explode': 'N'}, {'Term': '\"Pan troglodytes\"[Organism]', 'Field': 'Organism', 'Count': '227923', 'Explode': 'Y'}, {'Term': 'Pan troglodytes[All Fields]', 'Field': 'All Fields', 'Count': '283291', 'Explode': 'N'}, 'OR', 'GROUP', 'AND', 'GROUP'], 'QueryTranslation': 'CLIP1[All Fields] AND (\"Pan troglodytes\"[Organism] OR Pan troglodytes[All Fields])'}\n",
      "{'Count': '20', 'RetMax': '1', 'RetStart': '0', 'IdList': ['1351413918'], 'TranslationSet': [{'From': 'Pongo abelii', 'To': '\"Pongo abelii\"[Organism] OR Pongo abelii[All Fields]'}], 'TranslationStack': [{'Term': 'CLIP1[All Fields]', 'Field': 'All Fields', 'Count': '4387', 'Explode': 'N'}, {'Term': '\"Pongo abelii\"[Organism]', 'Field': 'Organism', 'Count': '145779', 'Explode': 'Y'}, {'Term': 'Pongo abelii[All Fields]', 'Field': 'All Fields', 'Count': '149454', 'Explode': 'N'}, 'OR', 'GROUP', 'AND', 'GROUP'], 'QueryTranslation': 'CLIP1[All Fields] AND (\"Pongo abelii\"[Organism] OR Pongo abelii[All Fields])'}\n"
     ]
    }
   ],
   "source": [
    "from Bio import Entrez\n",
    "from Bio import SeqIO\n",
    "import pandas as pd\n",
    "Entrez.email = \"corentin.meyer@etu.unistra.fr\"\n",
    "uni_gene_name = pd.read_csv(\"human_gene_name.txt\", sep=\"\\t\")\n",
    "species=[\"Homo sapiens\", \"Otolemur garnettii\", \"Chlorocebus sabaeus\", \"Nomascus leucogenys\", \"Callithrix jacchus\",\n",
    "         \"Macaca fascicularis\", \"Macaca mulatta\", \"Papio anubis\", \"Gorilla gorilla gorilla\",\n",
    "          \"Pan troglodytes\", \"Pongo abelii\"]\n",
    "\n",
    "##### Récupération du RefSeq ID à partir du Gene Name et de l'organisme d'intérêt\n",
    "for i in uni_gene_name.iloc[:2,1]:\n",
    "    #f = open(i+\".id\", \"a\"):\n",
    "    for j in species:\n",
    "        try:\n",
    "            handle = Entrez.esearch(db=\"protein\", term=i+\" \"+j, retmax=1)\n",
    "            record = Entrez.read(handle)\n",
    "            handle.close()\n",
    "            #f.write(record[\"IdList\"][0]+\"\\n\")\n",
    "            print(record)\n",
    "        except:\n",
    "            pass\n",
    "    #f.close()"
   ]
  },
  {
   "cell_type": "code",
   "execution_count": 4,
   "metadata": {},
   "outputs": [],
   "source": [
    "term = uni_gene_name.iloc[:,1].tolist()"
   ]
  },
  {
   "cell_type": "code",
   "execution_count": 23,
   "metadata": {
    "scrolled": true
   },
   "outputs": [
    {
     "name": "stdout",
     "output_type": "stream",
     "text": [
      "<?xml version=\"1.0\" encoding=\"UTF-8\" ?>\n",
      "<!DOCTYPE eSearchResult PUBLIC \"-//NLM//DTD esearch 20060628//EN\" \"https://eutils.ncbi.nlm.nih.gov/eutils/dtd/20060628/esearch.dtd\">\n",
      "<eSearchResult><Count>19</Count><RetMax>1</RetMax><RetStart>0</RetStart><IdList>\n",
      "<Id>187608777</Id>\n",
      "</IdList><TranslationSet><Translation>     <From>Homo sapiens</From>     <To>\"Homo sapiens\"[Organism] OR Homo sapiens[All Fields]</To>    </Translation></TranslationSet><TranslationStack>   <TermSet>    <Term>TONSL[All Fields]</Term>    <Field>All Fields</Field>    <Count>513</Count>    <Explode>N</Explode>   </TermSet>   <TermSet>    <Term>\"Homo sapiens\"[Organism]</Term>    <Field>Organism</Field>    <Count>1364990</Count>    <Explode>Y</Explode>   </TermSet>   <TermSet>    <Term>Homo sapiens[All Fields]</Term>    <Field>All Fields</Field>    <Count>145880762</Count>    <Explode>N</Explode>   </TermSet>   <OP>OR</OP>   <OP>GROUP</OP>   <OP>AND</OP>   <OP>GROUP</OP>  </TranslationStack><QueryTranslation>TONSL[All Fields] AND (\"Homo sapiens\"[Organism] OR Homo sapiens[All Fields])</QueryTranslation></eSearchResult>\n",
      "\n"
     ]
    }
   ],
   "source": [
    "import requests \n",
    "URL = \"https://eutils.ncbi.nlm.nih.gov/entrez/eutils/esearch\"\n",
    "\n",
    "##### Récupération du RefSeq ID à partir du Gene Name et de l'organisme d'intérêt\n",
    "#for j in range(1):\n",
    "term = uni_gene_name.iloc[:100,1].tolist()\n",
    "term = [mygene + \" \" + species[j] for mygene in term]\n",
    "myobj = {\n",
    "    \"retmax\":1,\n",
    "    \"db\":\"protein\",\n",
    "    \"term\":\"TONSL Homo sapiens\"\n",
    "}\n",
    "x = requests.post(URL, data=myobj)\n",
    "print(x.text)"
   ]
  },
  {
   "cell_type": "code",
   "execution_count": 26,
   "metadata": {},
   "outputs": [
    {
     "name": "stdout",
     "output_type": "stream",
     "text": [
      "Processing Homo sapiens\n",
      "Processing Otolemur garnettii\n",
      "Processing Chlorocebus sabaeus\n",
      "Processing Nomascus leucogenys\n",
      "Processing Callithrix jacchus\n",
      "Processing Macaca fascicularis\n",
      "Processing Macaca mulatta\n",
      "Processing Papio anubis\n",
      "Processing Gorilla gorilla gorilla\n",
      "Processing Pan troglodytes\n",
      "Processing Pongo abelii\n"
     ]
    }
   ],
   "source": [
    "from Bio import Entrez\n",
    "from Bio import SeqIO\n",
    "import pandas as pd\n",
    "Entrez.email = \"corentin.meyer@etu.unistra.fr\"\n",
    "uni_gene_name = pd.read_csv(\"human_gene_name.txt\", sep=\"\\t\")\n",
    "species=[\"Homo sapiens\", \"Otolemur garnettii\", \"Chlorocebus sabaeus\", \"Nomascus leucogenys\", \"Callithrix jacchus\",\n",
    "         \"Macaca fascicularis\", \"Macaca mulatta\", \"Papio anubis\", \"Gorilla gorilla gorilla\",\n",
    "          \"Pan troglodytes\", \"Pongo abelii\"]\n",
    "\n",
    "##### Récupération du RefSeq ID à partir du Gene Name et de l'organisme d'intérêt\n",
    "for j in species:\n",
    "    print(\"Processing \"+j)\n",
    "    f = open(\"results/\"+j+\".id\", \"w\")\n",
    "    for i in uni_gene_name.iloc[:,1]:\n",
    "        try:\n",
    "            handle = Entrez.esearch(db=\"protein\", term=i+\" \"+j, retmax=1)\n",
    "            record = Entrez.read(handle)\n",
    "            handle.close()\n",
    "            f.write(record[\"IdList\"][0]+\"\\n\")\n",
    "        except:\n",
    "            f.write(\"Not Found - Error\\n\")\n",
    "            pass\n",
    "    f.close()"
   ]
  },
  {
   "cell_type": "code",
   "execution_count": 2,
   "metadata": {},
   "outputs": [],
   "source": [
    "import pandas as pd\n",
    "from os import listdir\n",
    "from os.path import isfile, join\n",
    "\n",
    "myfiles2 = listdir(\"uniprot-mapping/\")\n",
    "main_df = pd.read_csv('json-processed/'+myfiles2[0]+\".txt\", sep='\\t', header=0)\n",
    "for i in range(1, 10):\n",
    "    df_temp = pd.read_csv('json-processed/'+myfiles2[i]+\".txt\", sep='\\t', header=0)\n",
    "    main_df = main_df.merge(df_temp, on=\"9606\", how=\"outer\")\n",
    "gene_names = main_df.copy()"
   ]
  },
  {
   "cell_type": "code",
   "execution_count": 3,
   "metadata": {},
   "outputs": [
    {
     "data": {
      "text/plain": [
       "['30611',\n",
       " '60711',\n",
       " '61853',\n",
       " '9483',\n",
       " '9541',\n",
       " '9544',\n",
       " '9555',\n",
       " '9595',\n",
       " '9598',\n",
       " '9601',\n",
       " '9606']"
      ]
     },
     "execution_count": 3,
     "metadata": {},
     "output_type": "execute_result"
    }
   ],
   "source": [
    "myfiles2.pop(11)\n",
    "myfiles2.pop(11)\n",
    "myfiles2"
   ]
  },
  {
   "cell_type": "code",
   "execution_count": 5,
   "metadata": {
    "scrolled": false
   },
   "outputs": [],
   "source": [
    "for i in myfiles2:\n",
    "    temp = pd.read_csv(\"uniprot-mapping/\"+i, sep=\"\\t\")\n",
    "    temp.columns = [i, i+\"_RefSeq\"]\n",
    "    temp = temp.groupby([i]).agg(lambda col: ' '.join(col))\n",
    "    temp = pd.DataFrame(temp)\n",
    "    gene_names = gene_names.merge(temp, right_on=i, left_on=i, how=\"left\")"
   ]
  },
  {
   "cell_type": "code",
   "execution_count": 6,
   "metadata": {},
   "outputs": [],
   "source": [
    "taxonID = [9606, 60711, 9541, 9544, 9555, 9595, 9598, 9601, 61853, 9483, 30611]\n",
    "taxonID = [str(i)+\"_RefSeq_x\" for i in taxonID]\n",
    "taxonID.insert(0, \"9606\")"
   ]
  },
  {
   "cell_type": "code",
   "execution_count": 7,
   "metadata": {},
   "outputs": [],
   "source": [
    "import math\n",
    "\n",
    "taxonID = [9606, 60711, 9541, 9544, 9555, 9595, 9598, 9601, 61853, 9483, 30611]\n",
    "taxonID = [str(i)+\"_RefSeq_x\" for i in taxonID]\n",
    "taxonID.insert(0, \"9606\")\n",
    "main_df = gene_names.iloc[:, [0, 11, 12, 13, 14, 15, 16, 17, 18, 19, 20, 21]]\n",
    "main_df = main_df[[i for i in taxonID]]\n",
    "\n",
    "for i in range(20265):\n",
    "    f = open(\"uniprot-mapping/results/\"+str(gene_names.iloc[i,0])+\".id\", \"w\", newline='\\n')\n",
    "    for j in range(1, 12):\n",
    "        query = str(main_df.iloc[i,j])\n",
    "        if query==\"nan\":\n",
    "            pass\n",
    "        else:\n",
    "            query = query.split(\" \")\n",
    "            for k in query:\n",
    "                if k[0:2] == \"NP\":\n",
    "                    f.write(str(k)+\"\\n\")\n",
    "                else:\n",
    "                    f.write(str(k)+\"\\n\")\n",
    "    f.close()"
   ]
  },
  {
   "cell_type": "code",
   "execution_count": 155,
   "metadata": {},
   "outputs": [
    {
     "ename": "ValueError",
     "evalue": "Duplicate key 'NP_003697.2'",
     "output_type": "error",
     "traceback": [
      "\u001b[1;31m---------------------------------------------------------------------------\u001b[0m",
      "\u001b[1;31mValueError\u001b[0m                                Traceback (most recent call last)",
      "\u001b[1;32m<ipython-input-155-1fa81984cb2c>\u001b[0m in \u001b[0;36m<module>\u001b[1;34m\u001b[0m\n\u001b[0;32m     12\u001b[0m \u001b[0mf\u001b[0m\u001b[1;33m.\u001b[0m\u001b[0mwrite\u001b[0m\u001b[1;33m(\u001b[0m\u001b[0mhandle\u001b[0m\u001b[1;33m.\u001b[0m\u001b[0mread\u001b[0m\u001b[1;33m(\u001b[0m\u001b[1;33m)\u001b[0m\u001b[1;33m)\u001b[0m\u001b[1;33m\u001b[0m\u001b[1;33m\u001b[0m\u001b[0m\n\u001b[0;32m     13\u001b[0m \u001b[0mf\u001b[0m\u001b[1;33m.\u001b[0m\u001b[0mclose\u001b[0m\u001b[1;33m(\u001b[0m\u001b[1;33m)\u001b[0m\u001b[1;33m\u001b[0m\u001b[1;33m\u001b[0m\u001b[0m\n\u001b[1;32m---> 14\u001b[1;33m \u001b[0mmyDICT\u001b[0m \u001b[1;33m=\u001b[0m \u001b[0mSeqIO\u001b[0m\u001b[1;33m.\u001b[0m\u001b[0mto_dict\u001b[0m\u001b[1;33m(\u001b[0m\u001b[0mSeqIO\u001b[0m\u001b[1;33m.\u001b[0m\u001b[0mparse\u001b[0m\u001b[1;33m(\u001b[0m\u001b[1;34m\"test.fasta\"\u001b[0m\u001b[1;33m,\u001b[0m \u001b[1;34m'fasta'\u001b[0m\u001b[1;33m)\u001b[0m\u001b[1;33m)\u001b[0m\u001b[1;33m\u001b[0m\u001b[1;33m\u001b[0m\u001b[0m\n\u001b[0m\u001b[0;32m     15\u001b[0m \"\"\"\n\u001b[0;32m     16\u001b[0m \u001b[0mrecords\u001b[0m \u001b[1;33m=\u001b[0m \u001b[0mEntrez\u001b[0m\u001b[1;33m.\u001b[0m\u001b[0mparse\u001b[0m\u001b[1;33m(\u001b[0m\u001b[0mhandle\u001b[0m\u001b[1;33m)\u001b[0m\u001b[1;33m\u001b[0m\u001b[1;33m\u001b[0m\u001b[0m\n",
      "\u001b[1;32mC:\\ProgramData\\Anaconda3\\lib\\site-packages\\Bio\\SeqIO\\__init__.py\u001b[0m in \u001b[0;36mto_dict\u001b[1;34m(sequences, key_function)\u001b[0m\n\u001b[0;32m    811\u001b[0m         \u001b[0mkey\u001b[0m \u001b[1;33m=\u001b[0m \u001b[0mkey_function\u001b[0m\u001b[1;33m(\u001b[0m\u001b[0mrecord\u001b[0m\u001b[1;33m)\u001b[0m\u001b[1;33m\u001b[0m\u001b[1;33m\u001b[0m\u001b[0m\n\u001b[0;32m    812\u001b[0m         \u001b[1;32mif\u001b[0m \u001b[0mkey\u001b[0m \u001b[1;32min\u001b[0m \u001b[0md\u001b[0m\u001b[1;33m:\u001b[0m\u001b[1;33m\u001b[0m\u001b[1;33m\u001b[0m\u001b[0m\n\u001b[1;32m--> 813\u001b[1;33m             \u001b[1;32mraise\u001b[0m \u001b[0mValueError\u001b[0m\u001b[1;33m(\u001b[0m\u001b[1;34m\"Duplicate key '%s'\"\u001b[0m \u001b[1;33m%\u001b[0m \u001b[0mkey\u001b[0m\u001b[1;33m)\u001b[0m\u001b[1;33m\u001b[0m\u001b[1;33m\u001b[0m\u001b[0m\n\u001b[0m\u001b[0;32m    814\u001b[0m         \u001b[0md\u001b[0m\u001b[1;33m[\u001b[0m\u001b[0mkey\u001b[0m\u001b[1;33m]\u001b[0m \u001b[1;33m=\u001b[0m \u001b[0mrecord\u001b[0m\u001b[1;33m\u001b[0m\u001b[1;33m\u001b[0m\u001b[0m\n\u001b[0;32m    815\u001b[0m     \u001b[1;32mreturn\u001b[0m \u001b[0md\u001b[0m\u001b[1;33m\u001b[0m\u001b[1;33m\u001b[0m\u001b[0m\n",
      "\u001b[1;31mValueError\u001b[0m: Duplicate key 'NP_003697.2'"
     ]
    }
   ],
   "source": [
    "from Bio import Entrez\n",
    "from Bio import SeqIO\n",
    "import pandas as pd\n",
    "Entrez.email = \"corentin.meyer@etu.unistra.fr\"\n",
    "uni_gene_name = pd.read_csv(\"../refseq-long/Homo_sapiens.id\", sep=\"\\t\", header=None)\n",
    "\n",
    "##### Récupération du RefSeq ID à partir du Gene Name et de l'organisme d'intérêt\n",
    "myFetchList =  uni_gene_name.iloc[:,0].tolist()\n",
    "handle = Entrez.efetch(db=\"protein\", id=myFetchList, retmax=len(myFetchList), rettype=\"fasta\", retmode=\"text\")\n",
    "f = open(\"test.fasta\", \"w\")\n",
    "f.write(handle.read())\n",
    "f.close()"
   ]
  },
  {
   "cell_type": "code",
   "execution_count": 29,
   "metadata": {},
   "outputs": [],
   "source": [
    "def fasta2List(pathFasta):\n",
    "    f = open(pathFasta, \"r\")\n",
    "    title = []\n",
    "    seq = []\n",
    "    seq_temp = []\n",
    "    for line in f:\n",
    "        if line[0] == \">\":\n",
    "            seq.append(''.join(seq_temp).replace(\"\\n\", \"\"))\n",
    "            title.append(line.replace(\"\\n\", \"\"))\n",
    "            seq_temp = []\n",
    "        else:\n",
    "            seq_temp.append(line)\n",
    "    seq.append(''.join(seq_temp).replace(\"\\n\", \"\"))\n",
    "    seq.pop(0)\n",
    "    return [title, seq]\n",
    "\n",
    "def FindNotFound(pathID):\n",
    "    f = open(pathID, \"r\")\n",
    "    myID = []\n",
    "    IDfile = pd.read_csv(pathID, sep=\"\\t\", header=None)\n",
    "    geneListID = IDfile.iloc[:,0].tolist()\n",
    "    for i, j in enumerate(geneListID):\n",
    "        if j == 'Not Found - Error':\n",
    "            myID.append(i)\n",
    "    return myID\n",
    "\n",
    "def AlterFasta(fastaPath, idPath):\n",
    "    t, s = fasta2List(fastaPath)\n",
    "    error = FindNotFound(idPath)\n",
    "    for i in error:\n",
    "        t.insert(i, \">NaN\")\n",
    "        s.insert(i, \"XXX\")\n",
    "    f = open(fastaPath+\".modified\", \"w\")\n",
    "    for i in range(len(t)):\n",
    "        f.write(t[i]+\"\\n\")\n",
    "        f.write(s[i]+\"\\n\\n\")\n",
    "    f.close()"
   ]
  },
  {
   "cell_type": "code",
   "execution_count": 50,
   "metadata": {},
   "outputs": [],
   "source": [
    "# RefSeq-Long -> Line per file\n",
    "fullTable = pd.read_csv(\"../refseq-long/fulltable.csv\", sep=\"\\t\", header=None)\n",
    "fullTable.columns = [\"Homo\", \"Callithrix\", \"Gorilla\", \"Macaca1\", \"Pan\", \"Chlorocebus\", \"Nomascus\", \"Papio\", \"Macaca2\", \"Otolemu\", \"Pongo\"]\n",
    "\n",
    "for i in range(20071):\n",
    "    f = open(\"../refseq-long/results/\"+str(fullTable.iloc[i,0])+\".id\", \"w\", newline='\\n')\n",
    "    query = fullTable.iloc[i,:].tolist()\n",
    "    for i in query:\n",
    "        f.write(str(i)+\"\\n\")\n",
    "    f.close()"
   ]
  },
  {
   "cell_type": "code",
   "execution_count": 51,
   "metadata": {},
   "outputs": [],
   "source": [
    "homo = fullTable.iloc[:,0]"
   ]
  }
 ],
 "metadata": {
  "kernelspec": {
   "display_name": "Python 3",
   "language": "python",
   "name": "python3"
  },
  "language_info": {
   "codemirror_mode": {
    "name": "ipython",
    "version": 3
   },
   "file_extension": ".py",
   "mimetype": "text/x-python",
   "name": "python",
   "nbconvert_exporter": "python",
   "pygments_lexer": "ipython3",
   "version": "3.7.1"
  }
 },
 "nbformat": 4,
 "nbformat_minor": 2
}
