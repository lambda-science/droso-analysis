{
 "nbformat": 4,
 "nbformat_minor": 2,
 "metadata": {
  "language_info": {
   "name": "python",
   "codemirror_mode": {
    "name": "ipython",
    "version": 3
   },
   "version": "3.7.6-final"
  },
  "orig_nbformat": 2,
  "file_extension": ".py",
  "mimetype": "text/x-python",
  "name": "python",
  "npconvert_exporter": "python",
  "pygments_lexer": "ipython3",
  "version": 3,
  "kernelspec": {
   "name": "python3",
   "display_name": "Python 3"
  }
 },
 "cells": [
  {
   "cell_type": "markdown",
   "execution_count": null,
   "metadata": {},
   "outputs": [],
   "source": [
    "# Script permettant de tenter de corriger un mismatch en alignant le peptide human a la seq génomic et en cherchant le meilleur match\n",
    "Input:   \n",
    "    ID_file fichier de correspondance UniprotID - Ensembl Trasncript ID  \n",
    "    Error_file fichier contenant toute les erreurs de type mismatch (script julie)  \n",
    "    Exon_file fichier contenant les informations sur les positions des exons des transcripts  \n",
    "    my_Genomic fichier fasta contenant les séquences génomiques des transcripts  \n",
    "    my_cDNA fichier fasta contenant les séquences cDNA des transcripts  \n",
    "    my_CDS fichier fasta contenant les séquences CDS des transcripts "
   ]
  },
  {
   "cell_type": "code",
   "execution_count": 1,
   "metadata": {},
   "outputs": [],
   "source": [
    "# Importer les lib et fonction\n",
    "import json\n",
    "import pandas as pd\n",
    "\n",
    "def fasta2List(pathFasta):\n",
    "    f = open(pathFasta, \"r\")\n",
    "    title = []\n",
    "    seq = []\n",
    "    seq_temp = []\n",
    "    for line in f:\n",
    "        if line[0] == \">\":\n",
    "            seq.append(''.join(seq_temp).replace(\"\\n\", \"\"))\n",
    "            title.append(line.replace(\"\\n\", \"\"))\n",
    "            seq_temp = []\n",
    "        else:\n",
    "            seq_temp.append(line)\n",
    "    seq.append(''.join(seq_temp).replace(\"\\n\", \"\"))\n",
    "    seq.pop(0)\n",
    "    dictionary = dict(zip(title, seq))\n",
    "    return dictionary"
   ]
  },
  {
   "cell_type": "code",
   "execution_count": 2,
   "metadata": {},
   "outputs": [],
   "source": [
    "# Importation de toutes les données utilisées\n",
    "ID_file = pd.read_csv(\"../raw/uniprot-exon-map/transcript_ensembl.tab\", sep = \"\\t\")\n",
    "Error_file = pd.read_csv(\"../raw/uniprot-exon-map/uniprot_new_errors_filt.txt\", sep=\" \", header=None)\n",
    "Exon_file = pd.read_csv(\"../raw/uniprot-exon-map/Exon_map.tab\", sep=\"\\t\", header=None)\n",
    "my_Genomic = fasta2List(\"../raw/uniprot-exon-map/genomics_new.fa\")\n",
    "my_cDNA = fasta2List(\"../raw/uniprot-exon-map/cdna_seq.fa\")\n",
    "my_CDS = fasta2List(\"../raw/uniprot-exon-map/cds_new.fa\")"
   ]
  },
  {
   "cell_type": "code",
   "execution_count": null,
   "metadata": {},
   "outputs": [],
   "source": []
  }
 ]
}