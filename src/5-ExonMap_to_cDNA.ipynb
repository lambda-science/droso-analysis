{
 "nbformat": 4,
 "nbformat_minor": 2,
 "metadata": {
  "language_info": {
   "name": "python",
   "codemirror_mode": {
    "name": "ipython",
    "version": 3
   },
   "version": "3.7.6-final"
  },
  "orig_nbformat": 2,
  "file_extension": ".py",
  "mimetype": "text/x-python",
  "name": "python",
  "npconvert_exporter": "python",
  "pygments_lexer": "ipython3",
  "version": 3,
  "kernelspec": {
   "name": "python3",
   "display_name": "Python 3"
  }
 },
 "cells": [
  {
   "cell_type": "markdown",
   "execution_count": null,
   "metadata": {},
   "outputs": [],
   "source": [
    "# Script permettant de générer les cDNA à partir de la carte exonique des gènes\n",
    "Input: Exon_map.tab  \n",
    "Output: cdna_seq.fa  \n"
   ]
  },
  {
   "cell_type": "code",
   "execution_count": null,
   "metadata": {},
   "outputs": [],
   "source": [
    "import pandas as pd \n",
    "myExonicMap = pd.read_csv(\"../uniprot-to-exon/Exon_map.tab\", sep=\"\\t\", header=None)"
   ]
  },
  {
   "cell_type": "code",
   "execution_count": null,
   "metadata": {},
   "outputs": [],
   "source": [
    "# Création de liste unique de nom de protéine\n",
    "UniprotID = set(myExonicMap.iloc[:,0].to_list())\n",
    "UniprotID = list(UniprotID)"
   ]
  },
  {
   "cell_type": "code",
   "execution_count": null,
   "metadata": {},
   "outputs": [],
   "source": [
    "with open(\"../uniprot-to-exon/cdna_seq.fa\", \"w\") as cdna_file:\n",
    "    for i in UniprotID:\n",
    "        subset = myExonicMap.loc[myExonicMap[0] == i]\n",
    "        myCDS = ''.join(subset[6].to_list())\n",
    "        cdna_file.write(\">\"+subset.iloc[0,1]+\" \"+i+\" cDNA\"+\"\\n\"+myCDS+\"\\n\")"
   ]
  }
 ]
}