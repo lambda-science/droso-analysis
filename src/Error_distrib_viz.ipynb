{
 "cells": [
  {
   "cell_type": "markdown",
   "execution_count": null,
   "metadata": {},
   "outputs": [],
   "source": [
    "# Script permettant de visualiser la répartition des erreurs et le nombre d'erreur par séquence\n",
    "Input: fichier liste d'erreur généré par le script de Julie (seqerrs)  \n",
    "Output: graph matplotlib  "
   ]
  },
  {
   "cell_type": "code",
   "execution_count": null,
   "metadata": {},
   "outputs": [],
   "source": [
    "import pandas as pd\n",
    "import seaborn as sns\n",
    "import matplotlib.pyplot as plt"
   ]
  },
  {
   "cell_type": "code",
   "execution_count": null,
   "metadata": {},
   "outputs": [],
   "source": [
    "error_file = pd.read_csv(\"../raw/uniprot-error-mismatch/uniprot_new_errors_filt.txt\", sep=\" \", header=None, names=list('abcdef'))\n",
    "Error_per_ID = error_file[\"b\"].value_counts()\n",
    "a = error_file[\"b\"].value_counts()\n",
    "Error_distrib = a.value_counts()\n",
    "N_seq = 171340\n",
    "N_error = a.value_counts().sum()\n",
    "N_no_error = N_seq - a.value_counts().sum()\n",
    "Error_distrib = Error_distrib.append(pd.Series([N_no_error], index=[0]))\n",
    "Error_distrib = Error_distrib.sort_index()\n"
   ]
  },
  {
   "cell_type": "code",
   "execution_count": null,
   "metadata": {},
   "outputs": [],
   "source": [
    "Error_distrib2 = Error_distrib.loc[Error_distrib.index < 10]\n",
    "Error_distrib2[10] = sum(Error_distrib.loc[Error_distrib.index >= 10])"
   ]
  },
  {
   "cell_type": "code",
   "execution_count": null,
   "metadata": {},
   "outputs": [],
   "source": [
    "print(N_seq, N_no_error, N_error)\n",
    "print(Error_distrib[Error_distrib.index==0])\n",
    "print(Error_distrib2.values.sum())\n",
    "print(Error_distrib2[0])\n",
    "print(Error_distrib2.values.sum()-Error_distrib2[0])"
   ]
  },
  {
   "cell_type": "code",
   "execution_count": null,
   "metadata": {},
   "outputs": [],
   "source": [
    "plt.bar(Error_distrib2.index, Error_distrib2.values)\n",
    "plt.title(\"Number of mismatch-error for each sequence using Uniprot ID\")\n",
    "plt.xlabel(\"Number of error per sequence (0 to 10+)\")\n",
    "plt.ylabel(\"Number of sequence\")"
   ]
  },
  {
   "cell_type": "code",
   "execution_count": null,
   "metadata": {},
   "outputs": [],
   "source": [
    "plt.bar(Error_distrib2.index[1:], Error_distrib2.values[1:])\n",
    "plt.title(\"Number of mismatch-error for each sequence using Uniprot ID\")\n",
    "plt.xlabel(\"Number of error per sequence (0 to 10+)\")\n",
    "plt.ylabel(\"Number of sequence\")"
   ]
  }
 ],
 "metadata": {
  "kernelspec": {
   "display_name": "Python 3",
   "language": "python",
   "name": "python3"
  },
  "language_info": {
   "codemirror_mode": {
    "name": "ipython",
    "version": 3
   },
   "file_extension": ".py",
   "mimetype": "text/x-python",
   "name": "python",
   "nbconvert_exporter": "python",
   "pygments_lexer": "ipython3",
   "version": "3.7.6-final"
  }
 },
 "nbformat": 4,
 "nbformat_minor": 2
}