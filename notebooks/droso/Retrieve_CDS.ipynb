{
 "cells": [
  {
   "cell_type": "code",
   "execution_count": 2,
   "metadata": {},
   "outputs": [],
   "source": [
    "import json\n",
    "import grequests\n",
    "import sys\n",
    "import requests\n",
    "import pandas as pd"
   ]
  },
  {
   "cell_type": "code",
   "execution_count": 3,
   "metadata": {},
   "outputs": [],
   "source": [
    "# Fly base accession Filter \n",
    "id_conv = pd.read_csv(\"/home/meyer/droso-analysis/data/flybase_conversion/fbgn_NAseq_Uniprot_fb_2020_02.tsv\", sep=\"\\t\", skiprows=4)\n",
    "id_mismatch = pd.read_csv(\"/home/meyer/droso-analysis/data/mismatch-analysis/mismatch.id\", header=None)\n",
    "id_tr = pd.read_csv(\"/home/meyer/droso-analysis/data/flybase_conversion/fbgn_fbtr_fbpp_fb_2020_02.tsv\", sep=\"\\t\", skiprows=4)\n",
    "id_merged = id_mismatch.merge(id_conv, how=\"left\", left_on=0, right_on=\"UniprotKB/Swiss-Prot/TrEMBL_accession\")\n",
    "id_merged = id_merged.iloc[:, [0, 3]]\n",
    "id_merged.columns = [\"From\", \"To\"]\n",
    "id_merged.dropna(inplace=True)\n",
    "#id_merged.to_csv(\"/home/meyer/droso-analysis/data/mismatch-analysis/transcript_fb.tab\", sep=\"\\t\", index=False)"
   ]
  },
  {
   "cell_type": "code",
   "execution_count": 20,
   "metadata": {},
   "outputs": [
    {
     "output_type": "execute_result",
     "data": {
      "text/plain": "          Uniprot    Gene Name   Transcript      FB prot\n0      A0A0Q9WFF6  FBgn0203889  FBtr0441813  FBpp0398324\n1          B4L587  FBgn0144410          NaN          NaN\n2          Q29MZ1  FBgn0076481  FBtr0368238  FBpp0331042\n3          Q29MZ1  FBgn0076481  FBtr0372119  FBpp0334173\n4          Q29MZ1  FBgn0076481  FBtr0373223  FBpp0335045\n...           ...          ...          ...          ...\n13184      B4M645  FBgn0197738  FBtr0442511  FBpp0398976\n13185      B4M645  FBgn0197738  FBtr0443330  FBpp0399735\n13186      B4HER4  FBgn0181308          NaN          NaN\n13187      B4N7Y2  FBgn0213149          NaN          NaN\n13188      B4G543  FBgn0160836          NaN          NaN\n\n[13189 rows x 4 columns]",
      "text/html": "<div>\n<style scoped>\n    .dataframe tbody tr th:only-of-type {\n        vertical-align: middle;\n    }\n\n    .dataframe tbody tr th {\n        vertical-align: top;\n    }\n\n    .dataframe thead th {\n        text-align: right;\n    }\n</style>\n<table border=\"1\" class=\"dataframe\">\n  <thead>\n    <tr style=\"text-align: right;\">\n      <th></th>\n      <th>Uniprot</th>\n      <th>Gene Name</th>\n      <th>Transcript</th>\n      <th>FB prot</th>\n    </tr>\n  </thead>\n  <tbody>\n    <tr>\n      <th>0</th>\n      <td>A0A0Q9WFF6</td>\n      <td>FBgn0203889</td>\n      <td>FBtr0441813</td>\n      <td>FBpp0398324</td>\n    </tr>\n    <tr>\n      <th>1</th>\n      <td>B4L587</td>\n      <td>FBgn0144410</td>\n      <td>NaN</td>\n      <td>NaN</td>\n    </tr>\n    <tr>\n      <th>2</th>\n      <td>Q29MZ1</td>\n      <td>FBgn0076481</td>\n      <td>FBtr0368238</td>\n      <td>FBpp0331042</td>\n    </tr>\n    <tr>\n      <th>3</th>\n      <td>Q29MZ1</td>\n      <td>FBgn0076481</td>\n      <td>FBtr0372119</td>\n      <td>FBpp0334173</td>\n    </tr>\n    <tr>\n      <th>4</th>\n      <td>Q29MZ1</td>\n      <td>FBgn0076481</td>\n      <td>FBtr0373223</td>\n      <td>FBpp0335045</td>\n    </tr>\n    <tr>\n      <th>...</th>\n      <td>...</td>\n      <td>...</td>\n      <td>...</td>\n      <td>...</td>\n    </tr>\n    <tr>\n      <th>13184</th>\n      <td>B4M645</td>\n      <td>FBgn0197738</td>\n      <td>FBtr0442511</td>\n      <td>FBpp0398976</td>\n    </tr>\n    <tr>\n      <th>13185</th>\n      <td>B4M645</td>\n      <td>FBgn0197738</td>\n      <td>FBtr0443330</td>\n      <td>FBpp0399735</td>\n    </tr>\n    <tr>\n      <th>13186</th>\n      <td>B4HER4</td>\n      <td>FBgn0181308</td>\n      <td>NaN</td>\n      <td>NaN</td>\n    </tr>\n    <tr>\n      <th>13187</th>\n      <td>B4N7Y2</td>\n      <td>FBgn0213149</td>\n      <td>NaN</td>\n      <td>NaN</td>\n    </tr>\n    <tr>\n      <th>13188</th>\n      <td>B4G543</td>\n      <td>FBgn0160836</td>\n      <td>NaN</td>\n      <td>NaN</td>\n    </tr>\n  </tbody>\n</table>\n<p>13189 rows × 4 columns</p>\n</div>"
     },
     "metadata": {},
     "execution_count": 20
    }
   ],
   "source": [
    "finaldf = id_merged.merge(id_tr, how=\"left\", left_on=\"To\", right_on=\"## FlyBase_FBgn\")\n",
    "finaldf.drop(labels=\"## FlyBase_FBgn\", axis=1, inplace=True)\n",
    "finaldf.columns = [\"Uniprot\", \"Gene Name\", \"Transcript\", \"FB prot\"]\n",
    "finaldf"
   ]
  },
  {
   "cell_type": "code",
   "execution_count": 80,
   "metadata": {},
   "outputs": [
    {
     "output_type": "stream",
     "name": "stdout",
     "text": "<Response [200]>\n"
    }
   ],
   "source": [
    "ID_file = pd.read_csv(\"../../data/mismatch-analysis/transcript_fb.tab\", sep=\"\\t\")\n",
    "url = \"https://api.flybase.org/api/v1.0/sequence/id/bulk\"\n",
    "headers = {\"Content-Type\": \"application/x-www-form-urlencoded\",\n",
    "            \"Accept\": \"text/plain\"}\n",
    "error = True\n",
    "params = []\n",
    "params.append({\"ids\": ID_file.iloc[:, 1].tolist(), \"type\": \"CDS\"})\n",
    "rs = [grequests.post(url, headers=headers, data=params[0])]\n",
    "all_response = grequests.map(rs, size=1)\n",
    "print(all_response[0])\n",
    "f = open(\"../../data/mismatch-analysis/CDS.fasta\", \"w\")\n",
    "f.write(all_response[0].text)\n",
    "f.close()"
   ]
  },
  {
   "cell_type": "code",
   "execution_count": 19,
   "metadata": {
    "tags": [
     "outputPrepend",
     "outputPrepend",
     "outputPrepend",
     "outputPrepend",
     "outputPrepend",
     "outputPrepend",
     "outputPrepend",
     "outputPrepend",
     "outputPrepend",
     "outputPrepend",
     "outputPrepend",
     "outputPrepend",
     "outputPrepend",
     "outputPrepend",
     "outputPrepend",
     "outputPrepend",
     "outputPrepend",
     "outputPrepend",
     "outputPrepend",
     "outputPrepend",
     "outputPrepend",
     "outputPrepend",
     "outputPrepend",
     "outputPrepend",
     "outputPrepend",
     "outputPrepend",
     "outputPrepend",
     "outputPrepend",
     "outputPrepend",
     "outputPrepend",
     "outputPrepend",
     "outputPrepend",
     "outputPrepend",
     "outputPrepend",
     "outputPrepend",
     "outputPrepend",
     "outputPrepend",
     "outputPrepend",
     "outputPrepend",
     "outputPrepend",
     "outputPrepend",
     "outputPrepend",
     "outputPrepend",
     "outputPrepend",
     "outputPrepend",
     "outputPrepend",
     "outputPrepend",
     "outputPrepend",
     "outputPrepend"
    ]
   },
   "outputs": [],
   "source": [
    "# IMPORTANT: you need to  meyer@milex:~/droso-analysis/data/raw/uniprot-blast/results$ cat *.fasta > all_sequence.fasta\n",
    "# in order to be able to do that\n",
    "import pandas as pd\n",
    "import sys\n",
    "import math\n",
    "try:\n",
    "    sys.path.append('~/droso-analysis/src/')\n",
    "    from Generate_Exon_Map_4 import *\n",
    "except:\n",
    "    pass\n",
    "\n",
    "ID_file = pd.read_csv(\"../../data/mismatch-analysis/transcript_fb.tab\", sep=\"\\t\")\n",
    "my_CDS = fasta2List(\"../../data/mismatch-analysis/CDS.fasta\")\n",
    "Prot_list = fasta2List(\"/home/meyer/droso-analysis/data/raw/uniprot-blast/results/all_sequence.fasta\")\n",
    "\n",
    "# Dataframe pour CDS\n",
    "CDS_ensembl_key = []\n",
    "CDS_uniprot_key = []\n",
    "CDS_seq = []\n",
    "for key, val in my_CDS.items():\n",
    "    myKey = key[1:].split(\" \")\n",
    "    CDS_ensembl_key.append(myKey[-4].split(\",\")[0][7:])\n",
    "    CDS_uniprot_key.append(ID_file.loc[ID_file[\"To\"] == myKey[-4].split(\",\")[0][7:]].iloc[0,0])\n",
    "    CDS_seq.append(val)\n",
    "dict = {\"CDS_ensembl_key\": CDS_ensembl_key,\n",
    "        \"CDS_uniprot_key\": CDS_uniprot_key, \"CDS_seq\": CDS_seq}\n",
    "df_CDS = pd.DataFrame(dict)\n",
    "\n",
    "# Dataframe pour Protein\n",
    "uniprot_ID = []\n",
    "uniprot_Seq = []\n",
    "for key, val in Prot_list.items():\n",
    "    myKey = key[1:].split(\" \")\n",
    "    uniprot_ID.append(myKey[0])\n",
    "    uniprot_Seq.append(val)\n",
    "dict = {\"uniprot_ID\": uniprot_ID, \"uniprot_Seq\": uniprot_Seq}\n",
    "df_prot = pd.DataFrame(dict)"
   ]
  },
  {
   "cell_type": "code",
   "execution_count": 33,
   "metadata": {},
   "outputs": [
    {
     "output_type": "execute_result",
     "data": {
      "text/plain": "8517"
     },
     "metadata": {},
     "execution_count": 33
    }
   ],
   "source": [
    "len(my_CDS)"
   ]
  },
  {
   "cell_type": "code",
   "execution_count": 20,
   "metadata": {},
   "outputs": [
    {
     "output_type": "execute_result",
     "data": {
      "text/plain": "     CDS_ensembl_key CDS_uniprot_key  \\\n0        FBgn0210482          B4LY15   \n1        FBgn0183340          B4QG40   \n2        FBgn0244037      A0A0R3P099   \n3        FBgn0244201      A0A0R3P0J9   \n4        FBgn0099929          B3MT55   \n...              ...             ...   \n8512     FBgn0207449          B4LIT0   \n8513     FBgn0205778          B4M2M8   \n8514     FBgn0194386          B4Q5L2   \n8515     FBgn0203396          B4MDA7   \n8516     FBgn0199189      A0A0Q9WUX1   \n\n                                                CDS_seq  \n0     ATGGCCGAGGATACCGAGTACAAAAAGTTACCCGTTGAGGAGCGCT...  \n1     ATGCCACAGTCAGAGGGCGGCTATGTATCGCTGCCGGCCGTCAATG...  \n2     ATGCCGAAGATCTTCCTGATCAAGAACCGCCTGCATCAGCAGCAAC...  \n3     ATGGATCGTAAGGCTGAGCTGGAACGAAAAAAGGCCAAATTGGCGG...  \n4     ATGCATTCCTTGGCAATAGTCGGACTTTTGTGGAGTGGCCTGATGG...  \n...                                                 ...  \n8512  ATGCATATGTATATATATCCACCACATCGACATCGATACATCTGGA...  \n8513  ATGTACAAACCTGACGGTATCACCCACGGTGGAGGCAACGGCAGCA...  \n8514  ATGAAGTATTCAACAAGTCGACTAAACATTCTGTGCCTGCTGGGAT...  \n8515  ATGTCGACAGCACAGAGATCGTTTGTACAAAAAGTTTCAAAGCAAC...  \n8516  ATGAATTCACATGATCGGACACATCCGTTTCGCTCGCATGTCGAGC...  \n\n[8517 rows x 3 columns]",
      "text/html": "<div>\n<style scoped>\n    .dataframe tbody tr th:only-of-type {\n        vertical-align: middle;\n    }\n\n    .dataframe tbody tr th {\n        vertical-align: top;\n    }\n\n    .dataframe thead th {\n        text-align: right;\n    }\n</style>\n<table border=\"1\" class=\"dataframe\">\n  <thead>\n    <tr style=\"text-align: right;\">\n      <th></th>\n      <th>CDS_ensembl_key</th>\n      <th>CDS_uniprot_key</th>\n      <th>CDS_seq</th>\n    </tr>\n  </thead>\n  <tbody>\n    <tr>\n      <th>0</th>\n      <td>FBgn0210482</td>\n      <td>B4LY15</td>\n      <td>ATGGCCGAGGATACCGAGTACAAAAAGTTACCCGTTGAGGAGCGCT...</td>\n    </tr>\n    <tr>\n      <th>1</th>\n      <td>FBgn0183340</td>\n      <td>B4QG40</td>\n      <td>ATGCCACAGTCAGAGGGCGGCTATGTATCGCTGCCGGCCGTCAATG...</td>\n    </tr>\n    <tr>\n      <th>2</th>\n      <td>FBgn0244037</td>\n      <td>A0A0R3P099</td>\n      <td>ATGCCGAAGATCTTCCTGATCAAGAACCGCCTGCATCAGCAGCAAC...</td>\n    </tr>\n    <tr>\n      <th>3</th>\n      <td>FBgn0244201</td>\n      <td>A0A0R3P0J9</td>\n      <td>ATGGATCGTAAGGCTGAGCTGGAACGAAAAAAGGCCAAATTGGCGG...</td>\n    </tr>\n    <tr>\n      <th>4</th>\n      <td>FBgn0099929</td>\n      <td>B3MT55</td>\n      <td>ATGCATTCCTTGGCAATAGTCGGACTTTTGTGGAGTGGCCTGATGG...</td>\n    </tr>\n    <tr>\n      <th>...</th>\n      <td>...</td>\n      <td>...</td>\n      <td>...</td>\n    </tr>\n    <tr>\n      <th>8512</th>\n      <td>FBgn0207449</td>\n      <td>B4LIT0</td>\n      <td>ATGCATATGTATATATATCCACCACATCGACATCGATACATCTGGA...</td>\n    </tr>\n    <tr>\n      <th>8513</th>\n      <td>FBgn0205778</td>\n      <td>B4M2M8</td>\n      <td>ATGTACAAACCTGACGGTATCACCCACGGTGGAGGCAACGGCAGCA...</td>\n    </tr>\n    <tr>\n      <th>8514</th>\n      <td>FBgn0194386</td>\n      <td>B4Q5L2</td>\n      <td>ATGAAGTATTCAACAAGTCGACTAAACATTCTGTGCCTGCTGGGAT...</td>\n    </tr>\n    <tr>\n      <th>8515</th>\n      <td>FBgn0203396</td>\n      <td>B4MDA7</td>\n      <td>ATGTCGACAGCACAGAGATCGTTTGTACAAAAAGTTTCAAAGCAAC...</td>\n    </tr>\n    <tr>\n      <th>8516</th>\n      <td>FBgn0199189</td>\n      <td>A0A0Q9WUX1</td>\n      <td>ATGAATTCACATGATCGGACACATCCGTTTCGCTCGCATGTCGAGC...</td>\n    </tr>\n  </tbody>\n</table>\n<p>8517 rows × 3 columns</p>\n</div>"
     },
     "metadata": {},
     "execution_count": 20
    }
   ],
   "source": [
    "df_CDS"
   ]
  },
  {
   "cell_type": "code",
   "execution_count": 37,
   "metadata": {
    "tags": [
     "outputPrepend",
     "outputPrepend",
     "outputPrepend",
     "outputPrepend",
     "outputPrepend",
     "outputPrepend",
     "outputPrepend",
     "outputPrepend",
     "outputPrepend",
     "outputPrepend",
     "outputPrepend",
     "outputPrepend",
     "outputPrepend",
     "outputPrepend",
     "outputPrepend",
     "outputPrepend",
     "outputPrepend",
     "outputPrepend",
     "outputPrepend",
     "outputPrepend",
     "outputPrepend",
     "outputPrepend",
     "outputPrepend",
     "outputPrepend",
     "outputPrepend",
     "outputPrepend",
     "outputPrepend",
     "outputPrepend",
     "outputPrepend",
     "outputPrepend",
     "outputPrepend",
     "outputPrepend",
     "outputPrepend",
     "outputPrepend",
     "outputPrepend",
     "outputPrepend",
     "outputPrepend",
     "outputPrepend",
     "outputPrepend",
     "outputPrepend",
     "outputPrepend",
     "outputPrepend",
     "outputPrepend",
     "outputPrepend",
     "outputPrepend",
     "outputPrepend",
     "outputPrepend",
     "outputPrepend",
     "outputPrepend",
     "outputPrepend",
     "outputPrepend",
     "outputPrepend",
     "outputPrepend",
     "outputPrepend",
     "outputPrepend",
     "outputPrepend",
     "outputPrepend",
     "outputPrepend",
     "outputPrepend",
     "outputPrepend",
     "outputPrepend",
     "outputPrepend",
     "outputPrepend",
     "outputPrepend",
     "outputPrepend",
     "outputPrepend",
     "outputPrepend",
     "outputPrepend",
     "outputPrepend",
     "outputPrepend",
     "outputPrepend",
     "outputPrepend",
     "outputPrepend",
     "outputPrepend",
     "outputPrepend",
     "outputPrepend",
     "outputPrepend",
     "outputPrepend",
     "outputPrepend",
     "outputPrepend",
     "outputPrepend",
     "outputPrepend",
     "outputPrepend",
     "outputPrepend",
     "outputPrepend",
     "outputPrepend",
     "outputPrepend",
     "outputPrepend",
     "outputPrepend",
     "outputPrepend",
     "outputPrepend",
     "outputPrepend",
     "outputPrepend",
     "outputPrepend",
     "outputPrepend",
     "outputPrepend",
     "outputPrepend",
     "outputPrepend",
     "outputPrepend",
     "outputPrepend",
     "outputPrepend",
     "outputPrepend",
     "outputPrepend",
     "outputPrepend",
     "outputPrepend",
     "outputPrepend",
     "outputPrepend",
     "outputPrepend",
     "outputPrepend",
     "outputPrepend",
     "outputPrepend",
     "outputPrepend",
     "outputPrepend",
     "outputPrepend",
     "outputPrepend",
     "outputPrepend",
     "outputPrepend",
     "outputPrepend"
    ]
   },
   "outputs": [
    {
     "output_type": "stream",
     "name": "stdout",
     "text": "217047\nA0A0Q9WXJ1\nFBgn0157269\nB4G810\nFBgn0140983\nA0A0Q9XDH0\nFBgn0164135\nB4GSK1\nFBgn0173128\nB4I2L5\nFBgn0164148\nB4GSM6\nFBgn0226452\nB4N0E4\nFBgn0164032\nB4GSP2\nFBgn0140621\nB4KLD4\nFBgn0134858\nB4KF94\nFBgn0226710\nB4N003\nFBgn0173286\nB4I2S9\nFBgn0173292\nB4I2U0\nFBgn0156922\nB4G8N3\nFBgn0173292\nB4I2U0\nFBgn0157173\nB4G6Z3\nFBgn0139842\nB4KIL4\nFBgn0173080\nB4I2U8\nFBgn0173306\nB4I2W4\nFBgn0173065\nB4I2X1\nFBgn0173064\nB4I2X3\nFBgn0173317\nB4I2Y3\nFBgn0217452\nB4MV76\nFBgn0173047\nB4I303\nFBgn0146622\nB4KJY7\nFBgn0173339\nB4I333\nFBgn0217490\nB4MVE3\nFBgn0140856\nB4KGR5\nFBgn0156433\nB4G8I3\nFBgn0139770\nB4KHD9\nFBgn0138852\nB4KFP8\nFBgn0226573\nB4N0N8\nFBgn0226655\nB4MZP4\nFBgn0153057\nB4GPW3\nFBgn0140708\nB4KES8\nFBgn0226654\nB4MZP3\nFBgn0173375\nB4I385\nFBgn0152724\nB4GPV7\nFBgn0225885\nB4MTX2\nFBgn0153629\nB4GQE8\nFBgn0140628\nB4KLF2\nFBgn0172985\nB4I3B7\nFBgn0153574\nB4GQC8\nFBgn0156969\nB4G8X4\nFBgn0156241\nB4G9J4\nFBgn0140851\nB4KGR0\nFBgn0226550\nA0A0Q9X1N6\nFBgn0157092\nB4G9J0\nFBgn0138197\nB4L2V1\nFBgn0166671\nB4ILD1\nFBgn0166668\nB4ILD2\nFBgn0137898\nB4L2V6\nFBgn0150903\nB4H2Z4\nFBgn0166676\nB4ILD9\nFBgn0150905\nB4H2Z1\nFBgn0137225\nB4L8U2\nFBgn0150907\nB4H2Y9\nFBgn0151030\nB4H2Y5\nFBgn0177882\nB4I651\nFBgn0212090\nB4NCN7\nFBgn0150516\nB4GV34\nFBgn0177893\nB4I669\nFBgn0222145\nB4MTF1\nFBgn0222141\nB4MTE3\nFBgn0164420\nB4H2G8\nFBgn0139054\nB4L654\nFBgn0138238\nB4L358\nFBgn0177922\nB4I6C1\nFBgn0153415\nB4H144\nFBgn0137066\nB4L8Q2\nFBgn0177508\nB4I6E3\nFBgn0177932\nB4I6E4\nFBgn0221938\nB4MSB9\nFBgn0157415\nB4GYE4\nFBgn0137491\nB4L1L2\nFBgn0158549\nB4HD31\nFBgn0144270\nB4L5D7\nFBgn0222578\nB4N5H7\nFBgn0134742\nB4KWZ6\nFBgn0149788\nB4H3B3\nFBgn0149810\nB4H3B6\nFBgn0149832\nB4H3C0\nFBgn0149679\nB4H3C7\nFBgn0219299\nB4MLS1\nFBgn0149593\nB4H3E0\nFBgn0219300\nB4MLS4\nFBgn0149582\nB4H3E1\nFBgn0219535\nB4MML7\nFBgn0134799\nB4KWC6\nFBgn0169661\nB4HUM4\nFBgn0219262\nB4MKZ1\nFBgn0160158\nB4H184\nFBgn0215607\nB4N3Y0\nFBgn0160116\nB4H189\nFBgn0215585\nB4N3X8\nFBgn0160113\nB4H192\nFBgn0135981\nB4KVQ1\nFBgn0134855\nB4KVG9\nFBgn0212236\nB4NDE8\nFBgn0157493\nB4GYD1\nFBgn0169715\nB4HUW6\nFBgn0150881\nB4H7B0\nFBgn0168747\nB4HUX9\nFBgn0214584\nB4N2W9\nFBgn0150837\nB4H7B2\nFBgn0135133\nA0A0Q9XBE7\nFBgn0152668\nB4HAY5\nFBgn0219196\nB4MKT8\nFBgn0135106\nB4KZX6\nFBgn0218656\nB4MML9\nFBgn0162617\nB4GR36\nFBgn0136053\nB4KWC3\nFBgn0184807\nB4QKA3\nFBgn0162492\nB4GRN0\nFBgn0218675\nB4MLD3\nFBgn0158775\nB4HAT0\nFBgn0158756\nB4HAT3\nFBgn0219523\nB4MLD9\nFBgn0139528\nB4L953\nFBgn0218670\nB4MLE2\nFBgn0158716\nB4HAU2\nFBgn0163924\nB4GUP1\nFBgn0135605\nB4KYP1\nFBgn0163934\nB4GUP4\nFBgn0219380\nB4ML76\nFBgn0169763\nB4HV66\nFBgn0219384\nB4ML83\nFBgn0164055\nB4GUR0\nFBgn0169776\nB4HV95\nFBgn0226208\nB4N6X0\nFBgn0179853\nB4HIV3\nFBgn0219736\nB4N6H0\nFBgn0160202\nB4H1H3\nFBgn0213999\nB4N4C6\nFBgn0160125\nB4H177\nFBgn0139516\nB4L927\nFBgn0067231\nB4L930\nFBgn0179891\nB4HJE6\nFBgn0179818\nB4HJE8\nFBgn0179907\nB4HJH0\nFBgn0219282\nB4MLN7\nFBgn0162162\nB4H636\nFBgn0219752\nB4N6D8\nFBgn0220040\nB4N6E0\nFBgn0162294\nB4H639\nFBgn0179798\nB4HJI9\nFBgn0222541\nB4N5B7\nFBgn0153175\nB4H6J8\nFBgn0137740\nB4L3T4\nFBgn0179935\nB4HK03\nFBgn0147934\nB4H9I4\nFBgn0219468\nB4MMD9\nFBgn0218749\nB4MMC2\nFBgn0214359\nB4N6N5\nFBgn0136582\nB4KVW5\nFBgn0218112\nB4MXU7\nFBgn0226282\nB4N6Z0\nFBgn0219630\nB4MN38\nFBgn0160221\nB4H1L7\nFBgn0180005\nB4HKP7\nFBgn0139552\nB4L993\nFBgn0155482\nB4H1Y3\nFBgn0085089\nB4KXI4\nFBgn0134843\nB4KVS2\nFBgn0150318\nB4H803\nFBgn0219570\nB4MMS7\nFBgn0134835\nB4KVU0\nFBgn0212979\nB4N496\nFBgn0135789\nB4L0L1\nFBgn0135071\nB4L097\nFBgn0280113\nA0A0Q9WZT9\nFBgn0135072\nB4L093\nFBgn0150180\nB4H3I1\nFBgn0179686\nB4HLS9\nFBgn0179682\nB4HLT4\nFBgn0226051\nB4N6T5\nFBgn0149382\nB4H3J4\nFBgn0136604\nB4KW03\nFBgn0159414\nB4H6R6\nFBgn0222334\nB4N5D8\nFBgn0136440\nB4L180\nFBgn0222339\nB4N5D1\nFBgn0160361\nB4GZM8\nFBgn0222546\nB4N5C9\nFBgn0160362\nB4GZM6\nFBgn0136445\nB4L189\nFBgn0179626\nB4HEC2\nFBgn0179622\nB4HEC8\nFBgn0160412\nB4GZI3\nFBgn0134357\nB4L1C2\nFBgn0160397\nB4GZG9\nFBgn0134344\nB4KUR6\nFBgn0153949\nB4HAI0\nFBgn0134343\nB4KUR8\nFBgn0214415\nB4N4M0\nFBgn0214411\nB4N4L8\nFBgn0153944\nB4HAH1\nFBgn0214340\nB4N6K5\nFBgn0180172\nB4HF25\nFBgn0218934\nB4MKX2\nFBgn0162702\nB4GQY1\nFBgn0219220\nB4MLI4\nFBgn0134393\nB4L160\nFBgn0179545\nB4HFI0\nFBgn0162741\nB4GR58\nFBgn0219546\nB4MMN8\nFBgn0135181\nB4KZ46\nFBgn0162599\nB4GR67\nFBgn0135657\nB4KZ42\nFBgn0281726\nA0A0Q9XE12\nFBgn0212163\nB4N3J1\nFBgn0162753\nB4GR87\nFBgn0222565\nB4MXU8\nFBgn0214532\nB4N341\nFBgn0214627\nB4N335\nFBgn0135820\nB4L0Q9\nFBgn0162529\nB4GRG5\nFBgn0162793\nB4GRI4\nFBgn0134510\nB4KZS3\nFBgn0158342\nB4H425\nFBgn0134129\nB4KX62\nFBgn0180284\nB4HH75\nFBgn0219103\nB4MNC0\nFBgn0179446\nB4HH78\nFBgn0159240\nB4H6V7\nFBgn0219097\nB4MNB1\nFBgn0179440\nB4HH86\nFBgn0144238\nB4L5J3\nFBgn0134391\nB4L166\nFBgn0136433\nB4L165\nFBgn0219137\nB4MKI6\nFBgn0219036\nB4MKK0\nFBgn0179414\nB4HHP8\nFBgn0212303\nB4N3G6\nFBgn0158583\nB4H835\nFBgn0136573\nB4KVN1\nFBgn0212545\nB4NM31\nFBgn0162083\nB4GUL2\nFBgn0163732\nB4GUK8\nFBgn0136566\nB4KVM1\nFBgn0180340\nB4HHT7\nFBgn0163622\nB4GUI7\nFBgn0162219\nB4GUI1\nFBgn0163527\nB4GUG7\nFBgn0163505\nB4GUG5\nFBgn0134125\nB4KX70\nFBgn0219766\nB4N6B2\nFBgn0136685\nB4KXL4\nFBgn0162308\nB4GUF2\nFBgn0162308\nB4GUF2\nFBgn0136687\nA0A0Q9XM07\nFBgn0163396\nB4GUE9\nFBgn0222398\nB4N519\nFBgn0162359\nB4GUE1\nFBgn0163341\nB4GUE0\nFBgn0163319\nB4GUD6\nFBgn0222435\nB4N4V6\nFBgn0162519\nB4GUA1\nFBgn0222432\nB4N4V9\nFBgn0222759\nB4MX69\nFBgn0179329\nB4HIJ3\nFBgn0217760\nB4MXW3\nFBgn0162797\nB4GRJ2\nFBgn0179322\nB4HIK7\nFBgn0134060\nB4KY82\nFBgn0218015\nB4MXV2\nFBgn0150424\nB4H7T0\nFBgn0134649\nB4KYG5\nFBgn0226084\nB4N6U6\nFBgn0225899\nB4N6V7\nFBgn0226122\nB4N6V8\nFBgn0135829\nB4L0Z1\nFBgn0155606\nB4H239\nFBgn0136124\nB4KXZ5\nFBgn0179225\nB4HK88\nFBgn0134820\nB4KW88\nFBgn0222455\nB4N4W4\nFBgn0136031\nB4KW89\nFBgn0134897\nB4KV26\nFBgn0153095\nB4H6L4\nFBgn0135649\nB4KZ25\nFBgn0220051\nB4N6G2\nFBgn0219742\nB4N6F5\nFBgn0153187\nB4H6M9\nFBgn0134885\nB4KVC2\nFBgn0219746\nB4N6F0\nFBgn0220045\nB4N6E9\nFBgn0219747\nB4N6E8\nFBgn0149486\nB4HBW1\nFBgn0135108\nB4KZX1\nFBgn0149487\nB4HBV9\nFBgn0135141\nA0A0Q9XBE5\nFBgn0179184\nB4HKU7\nFBgn0162618\nB4GR33\nFBgn0180568\nB4HKU9\nFBgn0214344\nB4N6L1\nFBgn0162812\nB4GRM1\nFBgn0135147\nB4KZI8\nFBgn0134067\nB4KY75\nFBgn0136362\nB4L0F5\nFBgn0222571\nB4N5G7\nFBgn0136337\nB4L037\nFBgn0136345\nB4L061\nFBgn0169852\nB4IFT7\nFBgn0169909\nB4IFU9\nFBgn0169911\nB4IFV3\nFBgn0162468\nB4GRS8\nFBgn0214110\nB4N4E9\nFBgn0162837\nB4GRR9\nFBgn0162835\nB4GRR2\nFBgn0169836\nB4IFX0\nFBgn0136246\nB4KZ74\nFBgn0159294\nB4H6U6\nFBgn0212406\nB4N4S2\nFBgn0159316\nB4H6U0\nFBgn0136249\nB4KZ82\nFBgn0159559\nB4H6T4\nFBgn0121893\nB4J189\nFBgn0136300\nA0A0Q9XFJ4\nFBgn0174492\nB4IIM2\nFBgn0172354\nB4IIM8\nFBgn0136264\nB4KZB5\nFBgn0227751\nB4N3L9\nFBgn0158467\nB4H9C2\nFBgn0218972\nB4MLG9\nFBgn0153344\nB4H928\nFBgn0134406\nB4L0X1\nFBgn0218701\nB4ML95\nFBgn0134409\nB4L0W5\nFBgn0218715\nB4MMI7\nFBgn0160263\nB4H025\nFBgn0134415\nB4L0V5\nFBgn0222286\nB4MXN9\nFBgn0136704\nA0A0Q9XQQ8\nFBgn0134308\nB4KV51\nFBgn0162428\nB4GRY9\nFBgn0134306\nB4KV54\nFBgn0162427\nB4GRZ0\nFBgn0162703\nB4GQY5\nFBgn0219248\nB4MKW5\nFBgn0162708\nB4GR01\nFBgn0162634\nB4GR03\nFBgn0219240\nB4MKV2\nFBgn0219237\nB4MLL5\nFBgn0177576\nB4I7C3\nFBgn0158569\nB4HDD9\nFBgn0137995\nB4L1S9\nFBgn0219333\nB4NQ70\nFBgn0155869\nB4H4Q1\nFBgn0133872\nB4L804\nFBgn0155906\nB4H4Q4\nFBgn0155866\nB4H4Q9\nFBgn0155864\nB4H4R4\nFBgn0218226\nB4N1V1\nFBgn0133879\nB4L814\nFBgn0164688\nB4HAQ1\nFBgn0177607\nB4I764\nFBgn0227066\nB4NCC6\nFBgn0139189\nB4L6X3\nFBgn0150592\nB4GVE0\nFBgn0195798\nB4NUQ4\nFBgn0150597\nB4GVD4\nFBgn0137632\nB4L4D3\nFBgn0177822\nB4I732\nFBgn0177819\nB4I727\nFBgn0137062\nB4L8Q9\nFBgn0227131\nB4NBZ2\nFBgn0150586\nB4GVF7\nFBgn0227128\nB4NBZ6\nFBgn0150626\nB4GVG0\nFBgn0227053\nB4NCE7\nFBgn0158943\nB4HB84\nFBgn0221783\nB4MT34\nFBgn0164575\nB4H7E4\nFBgn0177781\nB4I6V8\nFBgn0164597\nB4H7F8\nFBgn0212203\nB4ND91\nFBgn0177687\nB4I6S2\nFBgn0177689\nB4I6R9\nFBgn0227224\nB4NEK8\nFBgn0138347\nA0A0Q9WXK5\nFBgn0227619\nB4NEK7\nFBgn0177763\nB4I6R4\nFBgn0221871\nA0A0Q9WZS3\nFBgn0164628\nB4H7K9\nFBgn0137883\nA0A0Q9WUG4\nFBgn0227037\nB4NCH9\nFBgn0152543\nB4H070\nFBgn0137431\nB4L2A0\nFBgn0217173\nB4NPH8\nFBgn0152540\nB4H066\nFBgn0218514\nB4N2I5\nFBgn0138073\nB4L1P9\nFBgn0218207\nB4N201\nFBgn0168238\nB4IF26\nFBgn0157989\nB4GY16\nFBgn0137383\nB4L2P7\nFBgn0168428\nB4IEZ0\nFBgn0227095\nB4NC68\nFBgn0157815\nB4GXR5\nFBgn0217508\nB4NPC0\nFBgn0137549\nB4L4T5\nFBgn0168414\nB4IEW8\nFBgn0168275\nB4IEW5\nFBgn0160314\nB4HA33\nFBgn0160369\nB4HA40\nFBgn0227785\nB4NCB0\nFBgn0227782\nB4NCA6\nFBgn0138594\nB4L4X2\nFBgn0164445\nB4H2M1\nFBgn0152628\nB4H0N9\nFBgn0157569\nB4GYR0\nFBgn0168324\nB4IF88\nFBgn0218185\nB4N239\nFBgn0153491\nB4H0Z4\nFBgn0168369\nB4IF76\nFBgn0153442\nB4H0Z6\nFBgn0137214\nB4L8R9\nFBgn0196151\nB4NUI8\nFBgn0168359\nB4IF63\nFBgn0227018\nB4NCL7\nFBgn0212080\nB4NCM0\nFBgn0227016\nB4NCM1\nFBgn0227077\nB4NCA3\nFBgn0149158\nB4HCC2\nFBgn0144252\nB4L5G0\nFBgn0219822\nB4NPG6\nFBgn0154229\nB4HCB1\nFBgn0141376\nB4KPX0\nFBgn0154254\nB4HAW6\nFBgn0152103\nB4HCE3\nFBgn0281630\nA0A0Q9XRN5\nFBgn0150779\nB4HCT4\nFBgn0177400\nB4IKC0\nFBgn0150946\nB4H342\nFBgn0144169\nB4L5W5\nFBgn0177410\nB4IK99\nFBgn0177417\nB4IK85\nFBgn0174475\nB4ILU3\nFBgn0174403\nB4ILT9\nFBgn0218191\nB4N227\nFBgn0144421\nB4L5A6\nFBgn0218348\nB4N1P0\nFBgn0152778\nB4H3N3\nFBgn0164428\nB4H2I8\nFBgn0138116\nB4L249\nFBgn0166993\nB4IJ89\nFBgn0166992\nB4IJ88\nFBgn0166955\nB4IJ84\nFBgn0164657\nB4HAK4\nFBgn0193659\nB4Q9B5\nFBgn0164669\nB4HAL5\nFBgn0138127\nB4L265\nFBgn0164673\nB4HAM0\nFBgn0138132\nB4L271\nFBgn0166982\nB4IJ53\nFBgn0220455\nB4NPQ3\nFBgn0158006\nB4GY42\nFBgn0138497\nB4L4F7\nFBgn0172586\nB4IGE1\nFBgn0212334\nB4MJ31\nFBgn0280690\nA0A0Q9XNZ6\nFBgn0152531\nB4H054\nFBgn0150609\nB4GVC5\nFBgn0227713\nB4NBY3\nFBgn0150600\nB4GVC8\nFBgn0138287\nB4L3F7\nFBgn0172563\nB4IGA3\nFBgn0172562\nB4IGA2\nFBgn0157446\nB4GY82\nFBgn0137410\nB4L2D8\nFBgn0227775\nB4NC91\nFBgn0157459\nB4GY72\nFBgn0160239\nB4HA22\nFBgn0157838\nB4GXM9\nFBgn0137600\nB4L4K4\nFBgn0164584\nB4H7D5\nFBgn0137349\nB4L313\nFBgn0218505\nB4N2H1\nFBgn0153473\nB4H0V9\nFBgn0166453\nB4IGN5\nFBgn0218184\nB4N241\nFBgn0219714\nB4NPE5\nFBgn0138927\nB4L6I2\nFBgn0226978\nB4NCU6\nFBgn0154095\nB4GW97\nFBgn0139011\nB4L623\nFBgn0160565\nB4H9T0\nFBgn0160551\nB4H9S2\nFBgn0212292\nB4MJ87\nFBgn0218211\nB4N1Y9\nFBgn0152469\nB4H0F7\nFBgn0166520\nB4IGI0\nFBgn0227475\nB4NDU7\nFBgn0150745\nB4HBI2\nFBgn0138972\nB4L690\nFBgn0227391\nB4NDP3\nFBgn0138911\nB4L6K4\nFBgn0218490\nB4N2E6\nFBgn0162723\nB4GU65\nFBgn0144368\nB4L4Z8\nFBgn0144212\nB4L5P2\nFBgn0212100\nB4NCQ3\nFBgn0157868\nB4GXG8\nFBgn0144498\nB4L5P1\nFBgn0153445\nB4H0Z0\nFBgn0137514\nB4L1H8\nFBgn0153453\nB4H0Y3\nFBgn0168171\nB4IL94\nFBgn0137524\nB4L4X7\nFBgn0227457\nB4NDR4\nFBgn0137469\nB4L1X0\nFBgn0138638\nB4L1W9\nFBgn0167969\nB4IK75\nFBgn0216538\nB4NPT7\nFBgn0150502\nB4GV68\nFBgn0138873\nB4L6R5\nFBgn0138007\nB4L1R0\nFBgn0218319\nB4N1J3\nFBgn0152754\nB4H3S2\nFBgn0138078\nB4L1Q8\nFBgn0152837\nB4H3T3\nFBgn0221789\nB4MT17\nFBgn0227681\nB4NBT7\nFBgn0226982\nB4NCT8\nFBgn0138549\nB4L4N6\nFBgn0137474\nB4L1W1\nFBgn0221944\nB4MSC5\nFBgn0157420\nB4GYD5\nFBgn0137499\nB4L1K3\nFBgn0152592\nB4H0G5\nFBgn0137643\nA0A0Q9WP52\nFBgn0137825\nB4L3C3\nFBgn0166191\nB4IE06\nFBgn0157452\nB4GY67\nFBgn0138513\nB4L4H7\nFBgn0166210\nB4IDY1\nFBgn0155858\nB4H4S1\nFBgn0139216\nB4L724\nFBgn0166222\nB4IDV4\nFBgn0218604\nB4MMW6\nFBgn0135509\nB4KXC4\nFBgn0155527\nB4H1Q3\nFBgn0219594\nB4MMX3\nFBgn0135327\nB4KXB7\nFBgn0155518\nB4H1R1\nFBgn0218598\nB4MMY1\nFBgn0155514\nB4H1S0\nFBgn0135500\nB4KXA5\nFBgn0169592\nB4HU85\nFBgn0218596\nA0A0Q9WPH7\nFBgn0155512\nB4H1S7\nFBgn0155510\nB4H1T0\nFBgn0135341\nB4KX91\nFBgn0169588\nB4HU74\nFBgn0218584\nB4MN12\nFBgn0135484\nB4KX75\nFBgn0213877\nB4N4A9\nFBgn0212570\nB4NLY9\nFBgn0139339\nB4L9A7\nFBgn0139338\nB4L9A8\nFBgn0150335\nB4H7W7\nFBgn0169552\nB4HU12\nFBgn0150431\nB4H7U7\nFBgn0169526\nB4HTX3\nFBgn0153661\nB4H5Q4\nFBgn0222360\nB4N595\nFBgn0162415\nB4GS13\nFBgn0158599\nB4H818\nFBgn0168972\nB4HTT6\nFBgn0222365\nB4N579\nFBgn0168971\nB4HTT7\nFBgn0135717\nB4KZK5\nFBgn0222510\nB4N564\nFBgn0169477\nB4HTP3\nFBgn0158829\nB4HAS2\nFBgn0212527\nB4NLX4\nFBgn0158869\nB4HAS5\nFBgn0135517\nB4KXD9\nFBgn0227522\nB4N3Q3\nFBgn0162821\nB4GRP0\nFBgn0134710\nB4KXH9\nFBgn0162480\nB4GRQ5\nFBgn0136106\nB4KXG6\nFBgn0158380\nB4H415\nFBgn0135752\nA0A0Q9XPM5\nFBgn0220031\nB4N6C5\nFBgn0158346\nB4H414\nFBgn0135473\nB4KWS1\nFBgn0158352\nB4H407\nFBgn0134172\nB4KWL4\nFBgn0219619\nB4MN15\nFBgn0169428\nB4HTF2\nFBgn0135595\nB4KYF5\nFBgn0214513\nB4N392\nFBgn0135596\nB4KYM2\nFBgn0169043\nB4HTE3\nFBgn0162205\nB4H5V1\nFBgn0135925\nB4KV14\nFBgn0162208\nB4H5U2\nFBgn0214545\nB4N305\nFBgn0214605\nB4N306\nFBgn0169066\nB4HW50\nFBgn0214539\nB4N327\nFBgn0212620\nB4N4H2\nFBgn0222327\nB4N5F6\nFBgn0135277\nA0A0Q9XK47\nFBgn0153817\nB4H5R7\nFBgn0219560\nB4MMQ8\nFBgn0225610\nB4N713\nFBgn0213988\nB4N4C4\nFBgn0135226\nA0A0Q9XBN5\nFBgn0158396\nB4H441\nFBgn0214575\nA0A0Q9WRR0\nFBgn0162396\nB4GS47\nFBgn0136036\nA0A0Q9XCD9\nFBgn0214573\nB4N2V9\nFBgn0160197\nB4H1G1\nFBgn0136035\nB4KW96\nFBgn0219199\nB4MKU3\nFBgn0160077\nB4H1G0\nFBgn0136901\nB4L8V2\nFBgn0139467\nB4L8V2\nFBgn0169133\nB4HVU4\nFBgn0219200\nB4MKU6\nFBgn0139468\nA0A0Q9XT29\nFBgn0139471\nB4L8V7\nFBgn0219205\nB4MLF1\nFBgn0160178\nB4H1C0\nFBgn0169334\nB4HVT0\nFBgn0158296\nB4H4C2\nFBgn0169143\nB4HVS5\nFBgn0153769\nB4H5J9\nFBgn0135360\nB4KWR3\nFBgn0169172\nB4HVL1\nFBgn0219361\nA0A0Q9WZT2\nFBgn0154492\nB4HBN1\nFBgn0169286\nB4HVK9\nFBgn0214506\nB4N3B4\nFBgn0154482\nB4HBN3\nFBgn0134883\nA0A0Q9XQ98\nFBgn0169284\nB4HVK6\nFBgn0154448\nB4HBN7\nFBgn0218690\nB4MLB5\nFBgn0158440\nB4H4B8\nFBgn0135064\nB4L0A5\nFBgn0160094\nB4H1D5\nFBgn0218641\nB4MMQ1\nFBgn0160089\nB4H1E1\nFBgn0139408\nB4L8X2\nFBgn0153697\nB4H5G5\nFBgn0139485\nB4L8Y1\nFBgn0139494\nB4L8Z0\nFBgn0153728\nB4H5E6\nFBgn0153702\nB4H5E1\nFBgn0213319\nB4N427\nFBgn0166716\nB4IHB6\nFBgn0148502\nB4GD34\nFBgn0148513\nB4GD18\nFBgn0166841\nB4IH89\nFBgn0223641\nB4MP96\nFBgn0142761\nB4KTI3\nFBgn0223651\nB4MP86\nFBgn0223856\nB4MQG9\nFBgn0142277\nB4KTD8\nFBgn0166789\nB4IHE0\nFBgn0217785\nB4MRD2\nFBgn0212652\nB4MIY0\nFBgn0223914\nB4MQS5\nFBgn0149264\nB4GCI5\nFBgn0149254\nB4GCG5\nFBgn0217853\nB4MRM6\nFBgn0141592\nB4KMB2\nFBgn0170977\nB4I8W1\nFBgn0217716\nB4MRP2\nFBgn0148784\nB4GCY0\nFBgn0143457\nB4KMD6\nFBgn0148780\nB4GCX2\nFBgn0224182\nB4MYD5\nFBgn0143570\nB4KNM9\nFBgn0170430\nB4I8T2\nFBgn0155192\nB4GHT2\nFBgn0142507\nB4KQ11\nFBgn0170958\nB4I8S4\nFBgn0154475\nB4GHV7\nFBgn0143233\nB4KRZ1\nFBgn0141762\nB4KSF1\nFBgn0225247\nB4NNB4\nFBgn0225248\nB4NNB5\nFBgn0148256\nB4GAU4\nFBgn0143239\nB4KS01\nFBgn0170479\nB4I8J6\nFBgn0170906\nB4I8H8\nFBgn0170905\nB4I8H6\nFBgn0170495\nB4I8H5\nFBgn0170509\nB4I8F1\nFBgn0141090\nB4KM24\nFBgn0170512\nB4I8E8\nFBgn0141840\nA0A0Q9XI58\nFBgn0223457\nB4MQ90\nFBgn0170858\nB4I897\nFBgn0223831\nB4MQB9\nFBgn0223832\nB4MQC1\nFBgn0170548\nB4I871\nFBgn0149200\nB4GC18\nFBgn0142271\nB4KTF4\nFBgn0170555\nB4I852\nFBgn0224144\nB4MY52\nFBgn0143739\nB4KQG8\nFBgn0148063\nB4GC47\nFBgn0155153\nB4GHL5\nFBgn0222815\nB4MJF9\nFBgn0155148\nB4GHK7\nFBgn0155141\nB4GHJ7\nFBgn0155135\nB4GHI7\nFBgn0222828\nB4MJH8\nFBgn0154537\nB4GHI6\nFBgn0142352\nB4KS87\nFBgn0222832\nB4MJI4\nFBgn0154542\nB4GHH9\nFBgn0222832\nB4MJI4\nFBgn0154542\nB4GHH9\nFBgn0149394\nB4H6X2\nFBgn0149383\nB4H6Y7\nFBgn0221449\nB4MP52\nFBgn0155096\nB4GHB0\nFBgn0143492\nB4KMV7\nFBgn0141556\nB4KMV8\nFBgn0170791\nB4I7Y0\nFBgn0154568\nB4GHD1\nFBgn0143594\nA0A0Q9XLY6\nFBgn0217659\nB4MS10\nFBgn0155121\nB4GHF6\nFBgn0217665\nB4MS02\nFBgn0143603\nB4KP00\nFBgn0170770\nB4I7U2\nFBgn0148407\nB4G9Y5\nFBgn0148404\nB4G9Y8\nFBgn0148946\nB4GA88\nFBgn0170743\nB4I7N7\nFBgn0141741\nA0A0Q9X8P7\nFBgn0064301\nB4MP79\nFBgn0217806\nB4MRB2\nFBgn0141951\nB4KPM9\nFBgn0147788\nB4H4X3\nFBgn0147791\nB4H4X7\nFBgn0224921\nB4NN40\nFBgn0142559\nB4KQL5\nFBgn0170697\nB4I7F8\nFBgn0155026\nB4GGX2\nFBgn0212354\nB4MJ73\nFBgn0218322\nB4N1J7\nFBgn0152589\nB4H0F8\nFBgn0222101\nB4MT73\nFBgn0152586\nB4H0F4\nFBgn0152577\nB4H0D0\nFBgn0138278\nA0A0Q9WZQ0\nFBgn0166259\nB4IDQ5\nFBgn0166275\nB4IDN4\nFBgn0173733\nB4IM85\nFBgn0138746\nA0A0Q9WYY6\nFBgn0137364\nB4L2Z3\nFBgn0154204\nB4GWR5\nFBgn0154205\nB4GWR6\nFBgn0137367\nB4L2Y7\nFBgn0220847\nB4NE33\nFBgn0227536\nB4NE52\nFBgn0137509\nA0A0Q9WV61\nFBgn0138201\nB4L2V7\nFBgn0166319\nB4IDH5\nFBgn0218162\nB4N297\nFBgn0137505\nB4L1J3\nFBgn0177111\nB4ILQ6\nFBgn0154115\nB4GW81\nFBgn0154116\nB4GW83\nFBgn0227073\nB4NCB2\nFBgn0154101\nB4GW85\nFBgn0177230\nB4ILN9\nFBgn0166602\nB4INM5\nFBgn0227502\nB4NDZ1\nFBgn0168601\nB4IJS9\nFBgn0227503\nB4NDZ2\nFBgn0138285\nB4L3F5\nFBgn0168649\nB4IJR0\nFBgn0218208\nB4N1Z5\nFBgn0150516\nB4GV34\nFBgn0227347\nB4NDY7\nFBgn0164417\nB4H2G4\nFBgn0137551\nB4L4T2\nFBgn0150644\nB4GUU8\nFBgn0176072\nB4IJY9\nFBgn0216768\nB4NPP3\nFBgn0150553\nB4GUW5\nFBgn0137542\nB4L4U9\nFBgn0137823\nA0A0Q9WY41\nFBgn0176581\nB4IJY5\nFBgn0157942\nB4GXT5\nFBgn0227074\nB4NCA9\nFBgn0160270\nB4HA28\nFBgn0137525\nB4L4X5\nFBgn0138614\nB4L1L5\nFBgn0157411\nB4GYF2\nFBgn0137162\nB4L8G7\nFBgn0227600\nB4NEG9\nFBgn0164482\nB4H2U0\nFBgn0218386\nB4N1W8\nFBgn0152742\nB4H3U7\nFBgn0166900\nB4IL60\nFBgn0218220\nB4N1W7\nFBgn0212128\nB4NCV8\nFBgn0155942\nB4H4J4\nFBgn0144275\nB4L5D0\nFBgn0226973\nB4NCV6\nFBgn0155823\nB4H4J2\nFBgn0133768\nB4L819\nFBgn0166913\nB4IL39\nFBgn0164325\nB4H2R3\nFBgn0172391\nB4IHJ2\nFBgn0164404\nB4H2E3\nFBgn0164400\nB4H2D2\nFBgn0144397\nB4L563\nFBgn0154030\nB4GWJ3\nFBgn0212285\nB4MJ96\nFBgn0144380\nB4L526\nFBgn0227064\nB4NCD1\nFBgn0164333\nB4H2P7\nFBgn0144378\nB4L522\nFBgn0144338\nB4L521\nFBgn0218304\nB4N1G5\nFBgn0164462\nB4H2Q5\nFBgn0138137\nB4L276\nFBgn0144159\nB4L5Y4\nFBgn0226962\nB4NCX5\nFBgn0217465\nB4NPC6\nFBgn0144545\nB4L5X9\nFBgn0167503\nB4I084\nFBgn0139110\nB4L6F6\nFBgn0164435\nB4H2K1\nFBgn0164429\nB4H2J0\nFBgn0279374\nA0A0Q9X110\nFBgn0167407\nB4I0D6\nFBgn0167523\nB4I0D7\nFBgn0219683\nB4NPD3\nFBgn0158948\nB4HB93\nFBgn0138981\nB4L674\nFBgn0167402\nB4I0E9\nFBgn0217794\nB4NQ89\nFBgn0138932\nB4L6H2\nFBgn0217783\nB4NQ90\nFBgn0152509\nB4H097\nFBgn0138047\nB4L1D6\nFBgn0167394\nB4I0G7\nFBgn0221728\nB4MTC0\nFBgn0138017\nA0A0Q9WZC2\nFBgn0152816\nB4H3N9\nFBgn0167382\nB4I0I3\nFBgn0167379\nB4I0I6\nFBgn0152823\nB4H3Q4\nFBgn0227741\nB4NC35\nFBgn0152826\nB4H3Q7\nFBgn0139138\nB4L6L4\nFBgn0151770\nB4GU18\nFBgn0137457\nB4L1Z1\nFBgn0167368\nB4I0K7\nFBgn0212253\nB4NDH0\nFBgn0151774\nB4GU13\nFBgn0137459\nB4L1Y8\nFBgn0152065\nB4GU12\nFBgn0144510\nB4L5R1\nFBgn0167580\nB4I0N9\nFBgn0227432\nB4NDL8\nFBgn0152245\nB4GVM9\nFBgn0212305\nB4MJ67\nFBgn0151887\nB4GTF6\nFBgn0138022\nA0A0Q9WLU8\nFBgn0152633\nB4H0P8\nFBgn0152414\nB4H0P4\nFBgn0227275\nB4NED2\nFBgn0137456\nB4L1Z3\nFBgn0150710\nB4GV63\nFBgn0167305\nB4I0U7\nFBgn0167606\nB4I0W3\nFBgn0152156\nB4GW24\nFBgn0138171\nB4L2J7\nFBgn0154027\nB4GWJ7\nFBgn0139171\nB4L6T6\nFBgn0151920\nB4GTB7\nFBgn0144199\nB4L5S4\nFBgn0217761\nB4NQ93\nFBgn0151903\nB4GTB9\nFBgn0217726\nB4NP81\nFBgn0144514\nB4L5R6\nFBgn0167635\nB4I112\nFBgn0219643\nB4NPB1\nFBgn0158979\nB4HA95\nFBgn0138899\nB4L6N0\nFBgn0152149\nB4GW36\nFBgn0152151\nB4GW32\nFBgn0138795\nB4L747\nFBgn0167247\nB4I148\nFBgn0212371\nA0A0Q9WZA2\nFBgn0133938\nB4L8C2\nFBgn0157539\nB4GYK8\nFBgn0221970\nB4MSH2\nFBgn0155842\nB4H4F7\nFBgn0218329\nB4N1L1\nFBgn0173779\nB4I9W1\nFBgn0227742\nB4NC37\nFBgn0138668\nB4L221\nFBgn0227694\nB4NBW0\nFBgn0144331\nB4L532\nFBgn0173825\nB4I9N4\nFBgn0152730\nB4H3X6\nFBgn0188184\nB4R330\nFBgn0218331\nB4N1L5\nFBgn0137470\nB4L1W6\nFBgn0144220\nB4L5M9\nFBgn0144535\nB4L5W3\nFBgn0222065\nB4MT07\nFBgn0133754\nB4L843\nFBgn0151977\nB4GTK0\nFBgn0138788\nB4L761\nFBgn0174046\nB4I9F1\nFBgn0151983\nB4GTL1\nFBgn0138412\nB4L413\nFBgn0174040\nB4I9E0\nFBgn0151857\nB4GTL7\nFBgn0173893\nB4I9B6\nFBgn0227341\nB4NDZ4\nFBgn0152001\nB4GTP5\nFBgn0144513\nB4L5R5\nFBgn0226930\nB4ND58\nFBgn0173922\nB4I966\nFBgn0137761\nA0A0Q9WN17\nFBgn0173994\nB4I963\nFBgn0164339\nB4H2N6\nFBgn0133890\nB4L836\nFBgn0227812\nA0A0Q9X648\nFBgn0138546\nB4L4N2\nFBgn0227683\nB4NBU2\nFBgn0144295\nB4L589\nFBgn0181572\nB4IM52\nFBgn0194313\nB4NV16\nFBgn0177556\nB4I650\nFBgn0227553\nA0A0Q9WTY7\nFBgn0133855\nA0A0Q9XQM6\nFBgn0177881\nB4I648\nFBgn0138568\nB4L4S1\nFBgn0196195\nB4NUS6\nFBgn0189023\nB4R2V1\nFBgn0138562\nB4L4R0\nFBgn0155757\nB4H853\nFBgn0167338\nB4I0Q6\nFBgn0138491\nB4L4E7\nFBgn0189800\nB4QTT0\nFBgn0151464\nB4GPD2\nFBgn0219963\nB4N5Y4\nFBgn0149476\nB4H725\nFBgn0141651\nB4KU72\nFBgn0167704\nB4HZ64\nFBgn0161502\nB4G2H9\nFBgn0164350\nB4H2L3\nFBgn0145059\nB4K611\nFBgn0216826\nB4MWK3\nFBgn0149835\nB4GMJ8\nFBgn0220153\nB4MYY0\nFBgn0139923\nB4KJR4\nFBgn0154603\nB4GH72\nFBgn0217048\nB4MVK8\nFBgn0215381\nB4NK93\nFBgn0145642\nB4K6A5\nFBgn0147205\nB4KD69\nFBgn0160198\nB4H1G2\nFBgn0136078\nB4KWX3\nFBgn0146243\nB4KKN3\nFBgn0227449\nB4NDP9\nFBgn0219001\nB4MKS1\nFBgn0226719\nB4N020\nFBgn0136707\nB4KKI2\nFBgn0214835\nB4NJQ2\nFBgn0161232\nB4G2B3\nFBgn0147035\nB4K9R0\nFBgn0140331\nB4KH47\nFBgn0217817\nB4MRE0\nFBgn0212563\nB4NM02\nFBgn0134111\nB4KXM6\nFBgn0150357\nB4H7S5\nFBgn0161002\nB4G404\nFBgn0185033\nB4QPZ6\nFBgn0221543\nB4MXJ5\nFBgn0158495\nB4H974\nFBgn0136290\nB4KZM0\nFBgn0173059\nB4I2Y7\nFBgn0220351\nA0A0Q9X7X9\nFBgn0220169\nB4MYU0\nFBgn0140117\nA0A0Q9XFK0\nFBgn0135076\nB4L087\nFBgn0216798\nB4MUJ8\nFBgn0163134\nB4GJ74\nFBgn0157763\nB4GY00\nFBgn0140040\nB4KKY4\nFBgn0119175\nB4JD03\nFBgn0225754\nB4MTP1\nFBgn0139884\nA0A0Q9X4H1\nFBgn0172190\nB4I5H7\nFBgn0170047\nB4HX88\nFBgn0220198\nB4MYQ7\nFBgn0158691\nB4GWY5\nFBgn0142495\nA0A0Q9XJF1\nFBgn0169414\nB4HTD1\nFBgn0162251\nB4H5W8\nFBgn0225655\nA0A0Q9X311\nFBgn0135381\nB4KWM5\nFBgn0151897\nB4GTD6\nFBgn0157739\nB4GY54\nFBgn0219678\nB4NPD1\nFBgn0219221\nB4MLI7\nFBgn0155489\nB4H1W5\nFBgn0136432\nB4L164\nFBgn0185873\nB4QN72\nFBgn0177556\nB4I650\nFBgn0215648\nB4N3Z5\nFBgn0188668\nB4R414\nFBgn0166541\nB4IGL8\nFBgn0160572\nB4H9U5\nFBgn0137247\nB4KIN4\nFBgn0218182\nB4N243\nFBgn0168231\nB4IF38\nFBgn0217400\nB4NPD6\nFBgn0166358\nB4IDN3\nFBgn0138863\nA0A0Q9X360\nFBgn0221982\nB4MSJ2\nFBgn0138514\nB4L4I0\nFBgn0227049\nB4NCF2\nFBgn0144482\nA0A0Q9XR24\nFBgn0154089\nB4GWA6\nFBgn0189070\nB4R3P9\nFBgn0179569\nB4HEZ7\nFBgn0158320\nB4H469\nFBgn0214836\nB4N3J4\nFBgn0181308\nB4HER4\nFBgn0213149\nB4N7Y2\nFBgn0160836\nB4G543\n"
    }
   ],
   "source": [
    "# On cherche les correspondance de taille\n",
    "f = open(\"../../data/mismatch-analysis/CDS_filt.fasta\", \"w\")\n",
    "f.write(\"From\\tTo\\n\")\n",
    "counter=0\n",
    "for index, row in ID_file.iloc[:100, :].iterrows():\n",
    "    try:\n",
    "        CDS = df_CDS.loc[df_CDS[\"CDS_ensembl_key\"] == row[1]].iloc[0, 2]\n",
    "        prot = df_prot.loc[df_prot[\"uniprot_ID\"] == row[0]].iloc[0, 1]\n",
    "    except:\n",
    "        print(row[1])\n",
    "        print(row[0])\n",
    "        continue\n",
    "    if (math.ceil((len(CDS)-3)/3) == len(prot)) or \\\n",
    "        (math.floor((len(CDS)-3)/3) == len(prot)) or \\\n",
    "        (len(CDS)/3 == len(prot)) or \\\n",
    "            ((len(CDS)-3)/3 == len(prot)):\n",
    "        #f.write(row[0] + \"\\t\" + row[1]+\"\\n\")\n",
    "        pass\n",
    "    else:\n",
    "        f.write(row[0] + \"\\t\" + row[1]+\"\\n\")\n",
    "\n",
    "f.close()"
   ]
  }
 ],
 "metadata": {
  "language_info": {
   "codemirror_mode": {
    "name": "ipython",
    "version": 3
   },
   "file_extension": ".py",
   "mimetype": "text/x-python",
   "name": "python",
   "nbconvert_exporter": "python",
   "pygments_lexer": "ipython3",
   "version": "3.7.6-final"
  },
  "orig_nbformat": 2,
  "kernelspec": {
   "name": "python37664bitstageenvconda39052ae7dd75404f9bdb3226673ac6d7",
   "display_name": "Python 3.7.6 64-bit ('stage-env': conda)"
  }
 },
 "nbformat": 4,
 "nbformat_minor": 2
}