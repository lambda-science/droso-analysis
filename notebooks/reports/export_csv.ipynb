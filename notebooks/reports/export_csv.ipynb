{
 "nbformat": 4,
 "nbformat_minor": 2,
 "metadata": {
  "language_info": {
   "name": "python",
   "codemirror_mode": {
    "name": "ipython",
    "version": 3
   },
   "version": "3.7.6-final"
  },
  "orig_nbformat": 2,
  "file_extension": ".py",
  "mimetype": "text/x-python",
  "name": "python",
  "npconvert_exporter": "python",
  "pygments_lexer": "ipython3",
  "version": 3,
  "kernelspec": {
   "name": "python37664bitstageenvconda39052ae7dd75404f9bdb3226673ac6d7",
   "display_name": "Python 3.7.6 64-bit ('stage-env': conda)"
  }
 },
 "cells": [
  {
   "cell_type": "code",
   "execution_count": null,
   "metadata": {},
   "outputs": [],
   "source": [
    "import sqlite3\n",
    "import pandas as pd\n",
    "\n",
    "conn = sqlite3.connect('../../mismatch_db.db')"
   ]
  },
  {
   "cell_type": "code",
   "execution_count": null,
   "metadata": {},
   "outputs": [],
   "source": [
    "mismatch = pd.read_sql_query(\"\"\"\n",
    "SELECT * \n",
    "FROM mismatch\n",
    "JOIN mismatch_flag  ON mismatch.mismatch_ID = mismatch_flag.mismatch_ID\n",
    "\"\"\", conn)\n",
    "mismatch = mismatch.astype({\"exon_start_prim\": \"Int64\", \"exon_stop_prim\":\"Int64\", \"exon_start_hum\": \"Int64\", \"exon_stop_hum\":\"Int64\"})"
   ]
  },
  {
   "cell_type": "code",
   "execution_count": null,
   "metadata": {},
   "outputs": [],
   "source": [
    "mismatch = pd.read_sql_query(\"\"\"\n",
    "SELECT * \n",
    "FROM mismatch\n",
    "JOIN mismatch_flag  ON mismatch.mismatch_ID = mismatch_flag.mismatch_ID\n",
    "\"\"\", conn)\n",
    "mismatch = mismatch.astype({\"exon_start_prim\": \"Int64\", \"exon_stop_prim\":\"Int64\", \"exon_start_hum\": \"Int64\", \"exon_stop_hum\":\"Int64\"})"
   ]
  },
  {
   "cell_type": "code",
   "execution_count": null,
   "metadata": {},
   "outputs": [],
   "source": [
    "mismatch_blasta = pd.read_sql_query(\"\"\"\n",
    "SELECT mismatch.*, mismatch_flag.*, tblastn_match.mismatch_ID\n",
    "FROM mismatch\n",
    "JOIN mismatch_flag  ON mismatch.mismatch_ID = mismatch_flag.mismatch_ID\n",
    "JOIN tblastn_match ON mismatch.mismatch_ID = tblastn_match.mismatch_ID\n",
    "\"\"\", conn)"
   ]
  },
  {
   "cell_type": "code",
   "execution_count": null,
   "metadata": {},
   "outputs": [],
   "source": [
    "mismatch"
   ]
  },
  {
   "cell_type": "code",
   "execution_count": null,
   "metadata": {},
   "outputs": [],
   "source": [
    "mismatch.to_csv(\"../../temp/mismatch_and_flag_full.csv\", sep=\"\\t\", index=False)\n",
    "mismatch_blasta.to_csv(\"../../temp/mismatch_and_flag_tblastn.csv\", sep=\"\\t\", index=False)"
   ]
  },
  {
   "cell_type": "code",
   "execution_count": null,
   "metadata": {},
   "outputs": [],
   "source": [
    "tblastn = pd.read_sql_query(\"\"\"\n",
    "SELECT * FROM tblastn_match\n",
    "\"\"\", conn)\n",
    "tblastn.to_csv(\"../../temp/tblastn_results.csv\", sep=\"\\t\", index=False)"
   ]
  },
  {
   "cell_type": "code",
   "execution_count": null,
   "metadata": {},
   "outputs": [],
   "source": [
    "tblastn.to_csv(\"../../temp/flag/tblastn_results.csv\", sep=\"\\t\", index=False)"
   ]
  }
 ]
}