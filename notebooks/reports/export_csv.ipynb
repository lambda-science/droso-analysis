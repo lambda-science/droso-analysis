{
 "nbformat": 4,
 "nbformat_minor": 2,
 "metadata": {
  "language_info": {
   "name": "python",
   "codemirror_mode": {
    "name": "ipython",
    "version": 3
   },
   "version": "3.7.6-final"
  },
  "orig_nbformat": 2,
  "file_extension": ".py",
  "mimetype": "text/x-python",
  "name": "python",
  "npconvert_exporter": "python",
  "pygments_lexer": "ipython3",
  "version": 3,
  "kernelspec": {
   "name": "python37664bitstageenvconda39052ae7dd75404f9bdb3226673ac6d7",
   "display_name": "Python 3.7.6 64-bit ('stage-env': conda)"
  }
 },
 "cells": [
  {
   "cell_type": "code",
   "execution_count": 1,
   "metadata": {},
   "outputs": [],
   "source": [
    "import sqlite3\n",
    "import pandas as pd\n",
    "\n",
    "conn = sqlite3.connect('../../mismatch_db.db')"
   ]
  },
  {
   "cell_type": "code",
   "execution_count": 2,
   "metadata": {},
   "outputs": [],
   "source": [
    "mismatch = pd.read_sql_query(\"\"\"\n",
    "SELECT * \n",
    "FROM mismatch\n",
    "JOIN mismatch_flag  ON mismatch.mismatch_ID = mismatch_flag.mismatch_ID\n",
    "\"\"\", conn)\n",
    "mismatch = mismatch.astype({\"exon_start_prim\": \"Int64\", \"exon_stop_prim\":\"Int64\", \"exon_start_hum\": \"Int64\", \"exon_stop_hum\":\"Int64\"})"
   ]
  },
  {
   "cell_type": "code",
   "execution_count": 3,
   "metadata": {},
   "outputs": [],
   "source": [
    "mismatch_blasta = pd.read_sql_query(\"\"\"\n",
    "SELECT mismatch.*, mismatch_flag.*, tblastn_match.mismatch_ID\n",
    "FROM mismatch\n",
    "JOIN mismatch_flag  ON mismatch.mismatch_ID = mismatch_flag.mismatch_ID\n",
    "JOIN tblastn_match ON mismatch.mismatch_ID = tblastn_match.mismatch_ID\n",
    "\"\"\", conn)\n",
    "mismatch_blast = mismatch.astype({\"exon_start_prim\": \"Int64\", \"exon_stop_prim\":\"Int64\", \"exon_start_hum\": \"Int64\", \"exon_stop_hum\":\"Int64\"})"
   ]
  },
  {
   "cell_type": "code",
   "execution_count": 26,
   "metadata": {},
   "outputs": [],
   "source": [
    "mismatch.to_csv(\"../../temp/mismatch_and_flag_full.csv\", sep=\"\\t\", index=False)\n",
    "mismatch_blasta.to_csv(\"../../temp/mismatch_and_flag_tblastn.csv\", sep=\"\\t\", index=False)"
   ]
  },
  {
   "cell_type": "code",
   "execution_count": 3,
   "metadata": {},
   "outputs": [
    {
     "data": {
      "text/html": "<div>\n<style scoped>\n    .dataframe tbody tr th:only-of-type {\n        vertical-align: middle;\n    }\n\n    .dataframe tbody tr th {\n        vertical-align: top;\n    }\n\n    .dataframe thead th {\n        text-align: right;\n    }\n</style>\n<table border=\"1\" class=\"dataframe\">\n  <thead>\n    <tr style=\"text-align: right;\">\n      <th></th>\n      <th>mismatch_ID</th>\n      <th>prot_ID_hum</th>\n      <th>prot_ID_prim</th>\n      <th>peptide_hum</th>\n      <th>seq_in_prim</th>\n      <th>start_genom</th>\n      <th>stop_genom</th>\n      <th>e_value</th>\n    </tr>\n  </thead>\n  <tbody>\n    <tr>\n      <th>0</th>\n      <td>2</td>\n      <td>A0A044PY82</td>\n      <td>G3QIT3</td>\n      <td>PSEAQRAEVQGQHPPPGPKTSSSRS</td>\n      <td>PTEAQRAEVQGQHPPPGPKTSSSRS</td>\n      <td>633</td>\n      <td>707</td>\n      <td>8.640000e-14</td>\n    </tr>\n    <tr>\n      <th>1</th>\n      <td>3</td>\n      <td>A0A075B6I0</td>\n      <td>A0A0D9RMQ9</td>\n      <td>GVPDRFSGSILGNKAALTITGAQADDESDYYCVLY</td>\n      <td>GSLNRFSGSILGNKAALTITGAQADDESDYYCTLY</td>\n      <td>501</td>\n      <td>605</td>\n      <td>3.220000e-20</td>\n    </tr>\n    <tr>\n      <th>2</th>\n      <td>5</td>\n      <td>A0A075B6K2</td>\n      <td>H0XPV0</td>\n      <td>RITCGGNNIGSK</td>\n      <td>RITCGGNNIGRK</td>\n      <td>4121</td>\n      <td>4156</td>\n      <td>6.760000e-05</td>\n    </tr>\n    <tr>\n      <th>3</th>\n      <td>6</td>\n      <td>A0A075B6K5</td>\n      <td>H0XPV0</td>\n      <td>RITCGGNNIGSK</td>\n      <td>RITCGGNNIGRK</td>\n      <td>4121</td>\n      <td>4156</td>\n      <td>6.760000e-05</td>\n    </tr>\n    <tr>\n      <th>4</th>\n      <td>12</td>\n      <td>A0A075B6P5</td>\n      <td>F7HD17</td>\n      <td>MRLPAQLLGLLMLWV</td>\n      <td>MRLPAQVLGLLMLWV</td>\n      <td>3087</td>\n      <td>3131</td>\n      <td>3.900000e-07</td>\n    </tr>\n    <tr>\n      <th>...</th>\n      <td>...</td>\n      <td>...</td>\n      <td>...</td>\n      <td>...</td>\n      <td>...</td>\n      <td>...</td>\n      <td>...</td>\n      <td>...</td>\n    </tr>\n    <tr>\n      <th>3271</th>\n      <td>18994</td>\n      <td>Q6UXS0</td>\n      <td>A0A096N6T4</td>\n      <td>HDHRQVRKQWPLGPLGSSSQ</td>\n      <td>HDHRQVRKQWPLGPLGSSNQ</td>\n      <td>17758</td>\n      <td>17817</td>\n      <td>1.150000e-10</td>\n    </tr>\n    <tr>\n      <th>3272</th>\n      <td>18995</td>\n      <td>Q6UXS0</td>\n      <td>G3RDQ5</td>\n      <td>HDHRQVRKQWPLGPLGSSSQ</td>\n      <td>HDHRQVRKQWPLGRLGSSSQ</td>\n      <td>18296</td>\n      <td>18355</td>\n      <td>8.300000e-10</td>\n    </tr>\n    <tr>\n      <th>3273</th>\n      <td>18996</td>\n      <td>Q6UXS0</td>\n      <td>H2NQ97</td>\n      <td>HDHRQVRKQWPLGPLGSSSQ</td>\n      <td>HDHRQVRKQWPLGPLGSSNQ</td>\n      <td>18664</td>\n      <td>18723</td>\n      <td>1.180000e-10</td>\n    </tr>\n    <tr>\n      <th>3274</th>\n      <td>19003</td>\n      <td>Q6UXS9</td>\n      <td>F6W5E0</td>\n      <td>VQHSFETPNILTQLPTIERLSMTRYFYL</td>\n      <td>VQRSFETPNVVTQLPTIERLSMTRYFYL</td>\n      <td>14717</td>\n      <td>14800</td>\n      <td>8.220000e-15</td>\n    </tr>\n    <tr>\n      <th>3275</th>\n      <td>19009</td>\n      <td>Q6UXU4</td>\n      <td>F7ILG0</td>\n      <td>GLLGMVAHMMYTQVFQVTVSLGPEDWRPHSWDYGWSF</td>\n      <td>GLLGMVAHMMYSQVFQATANLGPEDWRPHVWNYGWAF</td>\n      <td>8172</td>\n      <td>8282</td>\n      <td>2.620000e-19</td>\n    </tr>\n  </tbody>\n</table>\n<p>3276 rows × 8 columns</p>\n</div>",
      "text/plain": "      mismatch_ID prot_ID_hum prot_ID_prim  \\\n0               2  A0A044PY82       G3QIT3   \n1               3  A0A075B6I0   A0A0D9RMQ9   \n2               5  A0A075B6K2       H0XPV0   \n3               6  A0A075B6K5       H0XPV0   \n4              12  A0A075B6P5       F7HD17   \n...           ...         ...          ...   \n3271        18994      Q6UXS0   A0A096N6T4   \n3272        18995      Q6UXS0       G3RDQ5   \n3273        18996      Q6UXS0       H2NQ97   \n3274        19003      Q6UXS9       F6W5E0   \n3275        19009      Q6UXU4       F7ILG0   \n\n                                peptide_hum  \\\n0                 PSEAQRAEVQGQHPPPGPKTSSSRS   \n1       GVPDRFSGSILGNKAALTITGAQADDESDYYCVLY   \n2                              RITCGGNNIGSK   \n3                              RITCGGNNIGSK   \n4                           MRLPAQLLGLLMLWV   \n...                                     ...   \n3271                   HDHRQVRKQWPLGPLGSSSQ   \n3272                   HDHRQVRKQWPLGPLGSSSQ   \n3273                   HDHRQVRKQWPLGPLGSSSQ   \n3274           VQHSFETPNILTQLPTIERLSMTRYFYL   \n3275  GLLGMVAHMMYTQVFQVTVSLGPEDWRPHSWDYGWSF   \n\n                                seq_in_prim start_genom stop_genom  \\\n0                 PTEAQRAEVQGQHPPPGPKTSSSRS         633        707   \n1       GSLNRFSGSILGNKAALTITGAQADDESDYYCTLY         501        605   \n2                              RITCGGNNIGRK        4121       4156   \n3                              RITCGGNNIGRK        4121       4156   \n4                           MRLPAQVLGLLMLWV        3087       3131   \n...                                     ...         ...        ...   \n3271                   HDHRQVRKQWPLGPLGSSNQ       17758      17817   \n3272                   HDHRQVRKQWPLGRLGSSSQ       18296      18355   \n3273                   HDHRQVRKQWPLGPLGSSNQ       18664      18723   \n3274           VQRSFETPNVVTQLPTIERLSMTRYFYL       14717      14800   \n3275  GLLGMVAHMMYSQVFQATANLGPEDWRPHVWNYGWAF        8172       8282   \n\n           e_value  \n0     8.640000e-14  \n1     3.220000e-20  \n2     6.760000e-05  \n3     6.760000e-05  \n4     3.900000e-07  \n...            ...  \n3271  1.150000e-10  \n3272  8.300000e-10  \n3273  1.180000e-10  \n3274  8.220000e-15  \n3275  2.620000e-19  \n\n[3276 rows x 8 columns]"
     },
     "execution_count": 3,
     "metadata": {},
     "output_type": "execute_result"
    }
   ],
   "source": [
    "tblastn = pd.read_sql_query(\"\"\"\n",
    "SELECT * FROM tblastn_match\n",
    "\"\"\", conn)\n",
    "tblastn"
   ]
  },
  {
   "cell_type": "code",
   "execution_count": 4,
   "metadata": {},
   "outputs": [],
   "source": [
    "tblastn.to_csv(\"../../temp/flag/tblastn_results.csv\", sep=\"\\t\", index=False)"
   ]
  }
 ]
}