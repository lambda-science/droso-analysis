{
 "nbformat": 4,
 "nbformat_minor": 2,
 "metadata": {
  "language_info": {
   "name": "python",
   "codemirror_mode": {
    "name": "ipython",
    "version": 3
   },
   "version": "3.7.6-final"
  },
  "orig_nbformat": 2,
  "file_extension": ".py",
  "mimetype": "text/x-python",
  "name": "python",
  "npconvert_exporter": "python",
  "pygments_lexer": "ipython3",
  "version": 3,
  "kernelspec": {
   "name": "python37664bitstageenvconda39052ae7dd75404f9bdb3226673ac6d7",
   "display_name": "Python 3.7.6 64-bit ('stage-env': conda)"
  }
 },
 "cells": [
  {
   "cell_type": "code",
   "execution_count": 25,
   "metadata": {},
   "outputs": [],
   "source": [
    "import pandas as pd\n",
    "import sys\n",
    "import math\n",
    "try:\n",
    "    sys.path.append('~/stage-thompson/src/')\n",
    "    from Generate_Exon_Map_4 import *\n",
    "except:\n",
    "    pass\n",
    "\n",
    "ID_file = pd.read_csv(\"../../data/mismatch-flagging/human_uniprot_ensembl.tab\", sep=\"\\t\")\n",
    "my_CDS = fasta2List(\"../../data/mismatch-flagging/human_CDS.fasta\")\n",
    "Prot_list = fasta2List(\"../../data/raw/uniprot-sequence/all_sequence.fasta\")"
   ]
  },
  {
   "cell_type": "code",
   "execution_count": 31,
   "metadata": {},
   "outputs": [],
   "source": [
    "CDS_ensembl_key = []\n",
    "CDS_uniprot_key = []\n",
    "CDS_seq = []\n",
    "for key, val in my_CDS.items():\n",
    "    myKey = key[1:].split(\" \")\n",
    "    CDS_ensembl_key.append(myKey[0])\n",
    "    CDS_uniprot_key.append(myKey[1])\n",
    "    CDS_seq.append(val)\n",
    "dict = {\"CDS_ensembl_key\": CDS_ensembl_key, \"CDS_uniprot_key\":CDS_uniprot_key, \"CDS_seq\":CDS_seq}\n",
    "df_CDS = pd.DataFrame(dict)"
   ]
  },
  {
   "cell_type": "code",
   "execution_count": 32,
   "metadata": {},
   "outputs": [],
   "source": [
    "uniprot_ID = []\n",
    "uniprot_Seq = []\n",
    "for key, val in Prot_list.items():\n",
    "    myKey = key[1:].split(\" \")\n",
    "    uniprot_ID.append(myKey[0])\n",
    "    uniprot_Seq.append(val)\n",
    "dict = {\"uniprot_ID\": uniprot_ID, \"uniprot_Seq\":uniprot_Seq}\n",
    "df_prot = pd.DataFrame(dict)"
   ]
  },
  {
   "cell_type": "code",
   "execution_count": 53,
   "metadata": {},
   "outputs": [
    {
     "name": "stdout",
     "output_type": "stream",
     "text": "A0A044PY82\tENST00000269720\n\nA0A075B6I0\tENST00000390283\n\nA0A075B6I3\tENST00000390286\n\nA0A075B6K2\tENST00000390313\n\nA0A075B6K5\tENST00000390316\n\nA0A075B6L6\tENST00000390361\n\nA0A075B6N3\tENST00000390397\n\nA0A075B6P5\tENST00000482769\n\nA0A075B6P5\tENST00000633682\n\nA0A075B6R0\tENST00000426402\n\n"
    }
   ],
   "source": [
    "f = open(\"../../data/mismatch-flagging/human_uniprot_ensembl_corrected.tab\", \"w\")\n",
    "f.write(\"From\\tTo\\n\")\n",
    "for index, row in ID_file.iloc[:,:].iterrows():\n",
    "    try:\n",
    "        CDS = df_CDS.loc[ df_CDS[\"CDS_ensembl_key\"] == row[1]].iloc[0,2]\n",
    "        prot = df_prot.loc[ df_prot[\"uniprot_ID\"] == row[0]].iloc[0,1]\n",
    "    except:\n",
    "        pass\n",
    "    if CDS == [] or prot == []:\n",
    "        continue\n",
    "\n",
    "    elif (math.ceil((len(CDS)-3)/3) == len(prot)) or (math.floor((len(CDS)-3)/3) == len(prot)) or (len(CDS)/3 == len(prot)):\n",
    "        f.write(row[0] + \"\\t\" + row[1]+\"\\n\")\n",
    "\n",
    "f.close()"
   ]
  },
  {
   "cell_type": "code",
   "execution_count": null,
   "metadata": {},
   "outputs": [],
   "source": []
  }
 ]
}