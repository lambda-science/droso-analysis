{
 "nbformat": 4,
 "nbformat_minor": 2,
 "metadata": {
  "language_info": {
   "name": "python",
   "codemirror_mode": {
    "name": "ipython",
    "version": 3
   },
   "version": "3.7.6-final"
  },
  "orig_nbformat": 2,
  "file_extension": ".py",
  "mimetype": "text/x-python",
  "name": "python",
  "npconvert_exporter": "python",
  "pygments_lexer": "ipython3",
  "version": 3,
  "kernelspec": {
   "name": "python37664bitstageenvconda39052ae7dd75404f9bdb3226673ac6d7",
   "display_name": "Python 3.7.6 64-bit ('stage-env': conda)"
  }
 },
 "cells": [
  {
   "cell_type": "code",
   "execution_count": 4,
   "metadata": {},
   "outputs": [],
   "source": [
    "import pandas as pd\n",
    "import sys\n",
    "try:\n",
    "    sys.path.append('~/stage-thompson/src/')\n",
    "    from Generate_Exon_Map_4 import *\n",
    "except:\n",
    "    pass\n",
    "\n",
    "Error_file = pd.read_csv(\"../../data/mismatch-analysis/uniprot-error-mismatch/uniprot_new_errors_filt.txt\", sep=\" \", header=None)"
   ]
  },
  {
   "cell_type": "code",
   "execution_count": 1,
   "metadata": {},
   "outputs": [
    {
     "name": "stdout",
     "output_type": "stream",
     "text": "'NoneType' object is not subscriptable\n'NoneType' object is not subscriptable\n'NoneType' object is not subscriptable\n'NoneType' object is not subscriptable\n'NoneType' object is not subscriptable\n'NoneType' object is not subscriptable\n'NoneType' object is not subscriptable\n'NoneType' object is not subscriptable\n'NoneType' object is not subscriptable\n'NoneType' object is not subscriptable\n'NoneType' object is not subscriptable\n'NoneType' object is not subscriptable\n'NoneType' object is not subscriptable\n'NoneType' object is not subscriptable\n'NoneType' object is not subscriptable\n'NoneType' object is not subscriptable\n'NoneType' object is not subscriptable\n'NoneType' object is not subscriptable\n'NoneType' object is not subscriptable\n'NoneType' object is not subscriptable\n'NoneType' object is not subscriptable\n'NoneType' object is not subscriptable\n'NoneType' object is not subscriptable\n'NoneType' object is not subscriptable\n'NoneType' object is not subscriptable\n'NoneType' object is not subscriptable\n'NoneType' object is not subscriptable\n'NoneType' object is not subscriptable\n'NoneType' object is not subscriptable\n'NoneType' object is not subscriptable\n'NoneType' object is not subscriptable\n'NoneType' object is not subscriptable\n'NoneType' object is not subscriptable\n'NoneType' object is not subscriptable\n'NoneType' object is not subscriptable\n'NoneType' object is not subscriptable\n"
    },
    {
     "data": {
      "text/plain": "'\\nf = open(\"../../data/mismatch-flagging/mismatch_exon_pos_human.tab\", \"w\")\\nf.write(\"Alignement\\tError\\tUniprotID\\tPosStartError\\tPosStopError\\tFirstExonError\\tLastExonError\\n\")\\nfor index, row in Error_file.iloc[:,:].iterrows():\\n    fasta_name = row[0][20:-6]\\n    prot_name = row[2]\\n    error_start = row[3]\\n    error_stop = row[4]\\n\\n    Prot_list = fasta2List(\"../../data/raw/uniprot-sequence/\"+fasta_name)\\n    CDS = [val for key, val in my_CDS.items() if row[0][20:-15] in key]\\n    if CDS == []:\\n        continue\\n    mismtach_CDS = CDS[0][error_start*3:error_stop*3+3]\\n    subset = exon_file.loc[exon_file[0]==prot_name]\\n    exon_number_list = subset[3].to_list()\\n    exon_seq_list = subset[6].to_list()\\n    \\n    # Interaive pop of exon list : seq. Check CDS in exon joint: TRUE = pop if False = seq important\\n    fini = False\\n    while fini != True:\\n        exon_tuple = [ (exon_number_list[i], exon_seq_list[i]) for i in range(len(exon_number_list))]\\n        for j in range(0,len(exon_tuple), 1):\\n            popped_exon = exon_tuple.pop(0)\\n            testing_condition = (\\'\\'.join(mismtach_CDS) in \\'\\'.join( [ exon_tuple[i][1] for i in range(len(exon_tuple)) ]))\\n            if testing_condition == False:\\n                start_exon = popped_exon[0]\\n                break\\n\\n        exon_tuple = [ (exon_number_list[i], exon_seq_list[i]) for i in range(len(exon_number_list))]\\n        for k in range(len(exon_tuple), 0, -1):\\n            popped_exon = exon_tuple.pop(len(exon_tuple)-1)\\n            testing_condition = (\\'\\'.join(mismtach_CDS) in \\'\\'.join( [ exon_tuple[i][1] for i in range(len(exon_tuple)) ]))\\n            if testing_condition == False:\\n                stop_exon = popped_exon[0]\\n                break\\n        f.write(row[0]+\"\\t\"+row[1]+\"\\t\"+row[2]+\"\\t\"+str(row[3])+\"\\t\"+str(row[4])+\"\\t\"+str(start_exon)+\"\\t\"+str(stop_exon)+\"\\n\")\\n        fini = True\\nf.close()\\n'"
     },
     "execution_count": 1,
     "metadata": {},
     "output_type": "execute_result"
    }
   ],
   "source": [
    "# Flagging nb exon humain vs exon primate\n",
    "\n",
    "# GENERATE EXON MAP\n",
    "ID_file = pd.read_csv(\"../../data/mismatch-flagging/human_uniprot_ensembl.tab\", sep=\"\\t\")\n",
    "jsonFile = importJson(\"../../data/mismatch-flagging/human_exon_dump.json\")\n",
    "genomicFile = fasta2List(\"../../data/mismatch-flagging/human_genomic.fasta\")\n",
    "writeExonmap(\"../../data/mismatch-flagging/Exon_map_human.tab\", ID_file, jsonFile, genomicFile)"
   ]
  },
  {
   "cell_type": "code",
   "execution_count": 6,
   "metadata": {},
   "outputs": [],
   "source": [
    "# POS EXON MISMATCH HUMAIN\n",
    "\n",
    "my_CDS = fasta2List(\"../../data/mismatch-flagging/human_CDS.fasta\")\n",
    "exon_file = pd.read_csv(\"../../data/mismatch-flagging/Exon_map_human.tab\", sep=\"\\t\", header=None)\n",
    "f = open(\"../../data/mismatch-flagging/mismatch_exon_pos_human.tab\", \"w\")\n",
    "f.write(\"Alignement\\tError\\tUniprotID\\tPosStartError\\tPosStopError\\tFirstExonError\\tLastExonError\\n\")\n",
    "\n",
    "for index, row in Error_file.iloc[:,:].iterrows():\n",
    "    fasta_name = row[0][20:-6]\n",
    "    prot_name = row[2]\n",
    "    error_start = row[3]\n",
    "    error_stop = row[4]\n",
    "\n",
    "    Prot_list = fasta2List(\"../../data/raw/uniprot-sequence/\"+fasta_name)\n",
    "    CDS = [val for key, val in my_CDS.items() if row[0][20:-15] in key]\n",
    "    if CDS == []:\n",
    "        continue\n",
    "    mismtach_CDS = CDS[0][error_start*3:error_stop*3+3]\n",
    "    subset = exon_file.loc[exon_file[0] == row[0][20:-15]]\n",
    "    exon_number_list = subset[3].to_list()\n",
    "    exon_seq_list = subset[6].to_list()\n",
    "    \n",
    "    # Interaive pop of exon list : seq. Check CDS in exon joint: TRUE = pop if False = seq important\n",
    "    fini = False\n",
    "    while fini != True:\n",
    "        exon_tuple = [ (exon_number_list[i], exon_seq_list[i]) for i in range(len(exon_number_list))]\n",
    "        for j in range(0,len(exon_tuple), 1):\n",
    "            popped_exon = exon_tuple.pop(0)\n",
    "            testing_condition = (''.join(mismtach_CDS) in ''.join( [ exon_tuple[i][1] for i in range(len(exon_tuple)) ]))\n",
    "            if testing_condition == False:\n",
    "                start_exon = popped_exon[0]\n",
    "                break\n",
    "\n",
    "        exon_tuple = [ (exon_number_list[i], exon_seq_list[i]) for i in range(len(exon_number_list))]\n",
    "        for k in range(len(exon_tuple), 0, -1):\n",
    "            popped_exon = exon_tuple.pop(len(exon_tuple)-1)\n",
    "            testing_condition = (''.join(mismtach_CDS) in ''.join( [ exon_tuple[i][1] for i in range(len(exon_tuple)) ]))\n",
    "            if testing_condition == False:\n",
    "                stop_exon = popped_exon[0]\n",
    "                break\n",
    "        f.write(row[0]+\"\\t\"+row[1]+\"\\t\"+row[2]+\"\\t\"+str(row[3])+\"\\t\"+str(row[4])+\"\\t\"+str(start_exon)+\"\\t\"+str(stop_exon)+\"\\n\")\n",
    "        fini = True\n",
    "f.close()\n"
   ]
  }
 ]
}