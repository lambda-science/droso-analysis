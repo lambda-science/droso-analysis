{
 "nbformat": 4,
 "nbformat_minor": 2,
 "metadata": {
  "language_info": {
   "name": "python",
   "codemirror_mode": {
    "name": "ipython",
    "version": 3
   },
   "version": "3.7.6-final"
  },
  "orig_nbformat": 2,
  "file_extension": ".py",
  "mimetype": "text/x-python",
  "name": "python",
  "npconvert_exporter": "python",
  "pygments_lexer": "ipython3",
  "version": 3,
  "kernelspec": {
   "name": "python37664bitstageenvconda39052ae7dd75404f9bdb3226673ac6d7",
   "display_name": "Python 3.7.6 64-bit ('stage-env': conda)"
  }
 },
 "cells": [
  {
   "cell_type": "code",
   "execution_count": 1,
   "metadata": {},
   "outputs": [],
   "source": [
    "import sqlite3\n",
    "import pandas as pd\n",
    "import os\n",
    "import sys\n",
    "from Bio.SubsMat import MatrixInfo as matlist\n",
    "from Bio import pairwise2\n",
    "from Bio.pairwise2 import format_alignment\n",
    "import math\n",
    "import numpy as np\n",
    "def fasta2List(pathFasta):\n",
    "    f = open(pathFasta, \"r\")\n",
    "    title = []\n",
    "    seq = []\n",
    "    seq_temp = []\n",
    "    for line in f:\n",
    "        if line[0] == \">\":\n",
    "            seq.append(''.join(seq_temp).replace(\"\\n\", \"\"))\n",
    "            title.append(line.replace(\"\\n\", \"\"))\n",
    "            seq_temp = []\n",
    "        else:\n",
    "            seq_temp.append(line)\n",
    "    seq.append(''.join(seq_temp).replace(\"\\n\", \"\"))\n",
    "    seq.pop(0)\n",
    "    dictionary = dict(zip(title, seq))\n",
    "    return dictionary\n",
    "\n",
    "conn = sqlite3.connect('../../mismatch_db.db')"
   ]
  },
  {
   "cell_type": "code",
   "execution_count": 2,
   "metadata": {},
   "outputs": [],
   "source": [
    "mismatch = pd.read_sql_query(\"SELECT * FROM mismatch\", conn)\n",
    "mismatch = mismatch.astype({\"exon_start_prim\": \"Int64\", \"exon_stop_prim\":\"Int64\", \"exon_start_hum\": \"Int64\", \"exon_stop_hum\":\"Int64\"})\n",
    "\n",
    "prot_seq_hum = pd.read_sql_query(\"\"\"\n",
    "SELECT mismatch.mismatch_ID, mismatch.prot_hum, protein.sequence\n",
    "FROM mismatch\n",
    "JOIN protein ON mismatch.prot_hum = protein.prot_ID\"\"\", conn)\n",
    "\n",
    "prot_seq_prim = pd.read_sql_query(\"\"\"\n",
    "SELECT mismatch.mismatch_ID, mismatch.prot_prim, protein.sequence\n",
    "FROM mismatch\n",
    "JOIN protein ON mismatch.prot_prim = protein.prot_ID\"\"\", conn)\n",
    "\n",
    "prim_exon_introns = pd.read_sql_query(\"\"\"\n",
    "SELECT mismatch_ID, mismatch.prot_prim, exon_intron_map.'type', exon_intron_map.number_elem, exon_intron_map.seq\n",
    "FROM mismatch\n",
    "JOIN protein ON mismatch.prot_prim = protein.prot_ID\n",
    "JOIN transcript ON protein.transcript_ID = transcript.transcript_ID\n",
    "JOIN exon_intron_map ON transcript.transcript_ID = exon_intron_map.transcript_ID\n",
    "\"\"\", conn)\n",
    "\n",
    "human_exon_introns = pd.read_sql_query(\"\"\"\n",
    "SELECT mismatch_ID, mismatch.prot_hum, exon_intron_map.'type', exon_intron_map.number_elem, exon_intron_map.seq\n",
    "FROM mismatch\n",
    "JOIN protein ON mismatch.prot_hum = protein.prot_ID\n",
    "JOIN transcript ON protein.transcript_ID = transcript.transcript_ID\n",
    "JOIN exon_intron_map ON transcript.transcript_ID = exon_intron_map.transcript_ID\n",
    "\"\"\", conn)\n",
    "\n",
    "prot_hum_iso = pd.read_sql_query(\n",
    "\"\"\"SELECT * FROM protein_hum_isoform\"\"\", conn)"
   ]
  },
  {
   "cell_type": "code",
   "execution_count": 4,
   "metadata": {},
   "outputs": [
    {
     "name": "stdout",
     "output_type": "stream",
     "text": "1187\n18461\n"
    }
   ],
   "source": [
    "# Flagging des mismatch conservés V\n",
    "counter = 0\n",
    "total = 0\n",
    "index_conserved = []\n",
    "for index, row in mismatch.iloc[:,:].iterrows():\n",
    "    total+=1\n",
    "    conserved = 0\n",
    "\n",
    "    mySeq = fasta2List(\"../../data/raw/uniprot-sequence/\"+row[1]+\".id.fasta\")\n",
    "    mismtaching_seq = row[11]\n",
    "\n",
    "    for i, j in mySeq.items():\n",
    "        myAlign = pairwise2.align.localms(j, mismtaching_seq, 2, 0, -.5, -.5, one_alignment_only=True, score_only=True)\n",
    "        #print(format_alignment(*myAlign[0]))\n",
    "        if myAlign/len(mismtaching_seq) > 1.6:\n",
    "            conserved +=1\n",
    "\n",
    "    if conserved >= 4:\n",
    "        index_conserved.append(index)\n",
    "        #print(str(index)+'\\t'.join([str(x) for x in row]))\n",
    "        counter +=1\n",
    "print(counter)\n",
    "print(total)"
   ]
  },
  {
   "cell_type": "code",
   "execution_count": 5,
   "metadata": {},
   "outputs": [
    {
     "name": "stdout",
     "output_type": "stream",
     "text": "208\n18378\n"
    }
   ],
   "source": [
    "# Flagging des erreurs d'alignement V\n",
    "counter = 0\n",
    "total = 0\n",
    "index_align_error = []\n",
    "for index, row in mismatch.iloc[:,:].iterrows():\n",
    "    try:\n",
    "        human_seq = prot_seq_hum.loc[prot_seq_hum[\"prot_hum\"]== row[1]].iloc[0,2]\n",
    "    except:\n",
    "        continue\n",
    "    total +=1\n",
    "    mismtaching_seq = row[11]\n",
    "    myAlign = pairwise2.align.localms(human_seq, mismtaching_seq, 2, 0, -.5, -.5, one_alignment_only=True, score_only=True)\n",
    "    if myAlign/len(mismtaching_seq) > 1.6:\n",
    "        index_align_error.append(index)\n",
    "        #print(str(index)+'\\t'.join([str(x) for x in row]))\n",
    "        counter += 1\n",
    "\n",
    "print(counter)\n",
    "print(total)"
   ]
  },
  {
   "cell_type": "code",
   "execution_count": 6,
   "metadata": {},
   "outputs": [
    {
     "name": "stdout",
     "output_type": "stream",
     "text": "331\n18378\n"
    }
   ],
   "source": [
    "# Flagging des seq à repeats proteiq V\n",
    "counter = 0\n",
    "total = 0\n",
    "index_repeats = []\n",
    "for index, row in mismatch.iloc[:,:].iterrows():\n",
    "    try:\n",
    "        human_prot_Mismatch = prot_seq_hum.loc[prot_seq_hum[\"prot_hum\"]== row[1]].iloc[0,2]\n",
    "    except:\n",
    "        continue\n",
    "\n",
    "    total+=1\n",
    "    human_seq = row[12]\n",
    "    begin_seq = human_prot_Mismatch[:row[5]+1]\n",
    "    end_seq = human_prot_Mismatch[row[6]+2:]\n",
    "    human_prot_Mismatch = begin_seq + end_seq\n",
    "    myAlign = pairwise2.align.localms(human_prot_Mismatch, human_seq, 2, 0, -.5, -.5, one_alignment_only=True, score_only=True)\n",
    "    if myAlign/len(human_seq) > 1.6:\n",
    "        index_repeats.append(index)\n",
    "        counter += 1\n",
    "\n",
    "print(counter)\n",
    "print(total)"
   ]
  },
  {
   "cell_type": "code",
   "execution_count": 7,
   "metadata": {},
   "outputs": [
    {
     "name": "stdout",
     "output_type": "stream",
     "text": "5833\n16768\n"
    }
   ],
   "source": [
    "#Flagging des seq à N \n",
    "\n",
    "counter = 0\n",
    "total = 0\n",
    "index_genom_n = []\n",
    "for index, row in mismatch.iloc[:,:].iterrows():\n",
    "    my_CDS = []\n",
    "    subset_exon_intron = prim_exon_introns.loc[prim_exon_introns[\"mismatch_ID\"] == index]\n",
    "    if isinstance(row[7], int) == False or isinstance(row[8], int) == False:\n",
    "        continue\n",
    "    try:\n",
    "        for n in range(row[7], row[8]+1):\n",
    "            my_exon = subset_exon_intron.loc[(subset_exon_intron[\"number_elem\"] == n) & (subset_exon_intron[\"type\"] == \"Exon\")]\n",
    "            my_intron = subset_exon_intron.loc[(subset_exon_intron[\"number_elem\"] == n) & (subset_exon_intron[\"type\"] == \"Intron\")]\n",
    "            try:\n",
    "                my_CDS.append(my_exon.iloc[0,4])\n",
    "                my_CDS.append(my_intron.iloc[0,4])\n",
    "            except:\n",
    "                pass\n",
    "        if \"N\" in ''.join(my_CDS):\n",
    "            index_genom_n.append(index)\n",
    "            counter +=1\n",
    "        total +=1\n",
    "    except:\n",
    "        pass\n",
    "\n",
    "print(counter)\n",
    "print(total)"
   ]
  },
  {
   "cell_type": "code",
   "execution_count": 8,
   "metadata": {},
   "outputs": [
    {
     "name": "stdout",
     "output_type": "stream",
     "text": "724\n15598\n"
    }
   ],
   "source": [
    "# Flagging des 1 exon human vs multiple primate V\n",
    "counter = 0\n",
    "total = 0\n",
    "index_multiple_exon = []\n",
    "for index, row in mismatch.iloc[:, :].iterrows():\n",
    "    if isinstance(row[7], int) == False or isinstance(row[9], int) == False:\n",
    "        continue\n",
    "    total +=1\n",
    "    if (int(row[9])-int(row[10]) == 0) and (row[8]-row[7] >= 2):\n",
    "        #print(str(index)+'\\t'.join([str(x) for x in row]))\n",
    "        index_multiple_exon.append(index)\n",
    "        counter += 1\n",
    "\n",
    "print(counter)\n",
    "print(total)"
   ]
  },
  {
   "cell_type": "code",
   "execution_count": 9,
   "metadata": {},
   "outputs": [
    {
     "name": "stdout",
     "output_type": "stream",
     "text": "Canonical (GT/AG) 99.0615601028981\nNon canonical 0.9384398971019111\n"
    }
   ],
   "source": [
    "# Stat sur les sites introniques Humains\n",
    "\n",
    "canonical = 0\n",
    "non_canonical = 0\n",
    "human_intron_seq = human_exon_introns.loc[human_exon_introns[\"type\"]==\"Intron\"]\n",
    "for index, row in human_intron_seq.iloc[:, [0,4]].iterrows():\n",
    "    if row[1][:2] == \"GT\" and row[1][-2:] == \"AG\":\n",
    "        canonical += 1\n",
    "    #elif row[6][:2] == \"GC\" and row[6][-2:] == \"AG\":\n",
    "    #    canonical += 1\n",
    "    #elif row[6][:2] == \"AT\" and row[6][-2:] == \"AC\":\n",
    "    #    canonical += 1\n",
    "    else:\n",
    "        non_canonical += 1\n",
    "print(\"Canonical (GT/AG) \" + str(canonical/(canonical+non_canonical)*100))\n",
    "print(\"Non canonical \" + str(non_canonical/(canonical+non_canonical)*100))"
   ]
  },
  {
   "cell_type": "code",
   "execution_count": 10,
   "metadata": {},
   "outputs": [
    {
     "name": "stdout",
     "output_type": "stream",
     "text": "425\n16804\nCPU times: user 1min 1s, sys: 316 ms, total: 1min 2s\nWall time: 1min 2s\n"
    }
   ],
   "source": [
    "%%time\n",
    "# Flagging des mismatch ayant un site humain de splicing non canonique V\n",
    "counter = 0\n",
    "total = 0\n",
    "index_non_canon = []\n",
    "INTRONS = human_exon_introns.loc[human_exon_introns['type'] == \"Intron\"]\n",
    "for index, row in mismatch.iloc[:, :].iterrows():\n",
    "    subset_intron = INTRONS.loc[INTRONS['mismatch_ID'] == row[0]]\n",
    "    if subset_intron.empty or row[9] == \"ERROR\":\n",
    "        continue\n",
    "    total += 1\n",
    "    for i in range(int(row[9]),int(row[10])+2):\n",
    "        intron = subset_intron.loc[subset_intron[\"number_elem\"] == (i-1)]\n",
    "        if intron.empty:\n",
    "            continue\n",
    "        intron = intron.iloc[0,:].to_list()\n",
    "        #if  (intron[6][:2] == \"GT\" and intron[6][-2:] == \"AG\") \\\n",
    "        #    or (intron[6][:2] == \"GC\" and intron[6][-2:] == \"AG\") \\\n",
    "        #    or (intron[6][:2] == \"AT\" and intron[6][-2:] == \"AC\") and (len(intron[6]) > 30):\n",
    "        if  (intron[4][:2] == \"GT\" and intron[4][-2:] == \"AG\") and (len(intron[4]) > 30):\n",
    "            pass\n",
    "        else:\n",
    "            index_non_canon.append(index)\n",
    "            counter +=1\n",
    "            #print(str(index)+'\\t'.join([str(x) for x in row]))\n",
    "            break        \n",
    "\n",
    "print(counter)\n",
    "print(total)"
   ]
  },
  {
   "cell_type": "code",
   "execution_count": 11,
   "metadata": {},
   "outputs": [
    {
     "name": "stdout",
     "output_type": "stream",
     "text": "1232\n16404\n6695\n5552\n5433\n17680\n"
    }
   ],
   "source": [
    "# Flagging mismatch with too small introns V\n",
    "# And Periodic introns\n",
    "n0 = 0\n",
    "n1 = 0\n",
    "n2 = 0\n",
    "ntot = 0\n",
    "counter = 0\n",
    "total = 0\n",
    "index_intron_small = []\n",
    "INTRONS = prim_exon_introns.loc[prim_exon_introns['type'] == \"Intron\"]\n",
    "for index, row in mismatch.iloc[:, :].iterrows():\n",
    "    subset_intron = INTRONS.loc[INTRONS['mismatch_ID'] == row[0]]\n",
    "    if subset_intron.empty or row[7] == \"ERROR\":\n",
    "        continue\n",
    "    total += 1\n",
    "    for i in range(int(row[7]),int(row[8])):\n",
    "        intron = subset_intron.loc[subset_intron[\"number_elem\"] == i]\n",
    "        intron = intron.iloc[0,:].to_list()\n",
    "        if len(intron[4]) % 3 == 0: n0+=1 \n",
    "        if len(intron[4]) % 3 == 1: n1+=1 \n",
    "        if len(intron[4]) % 3 == 2: n2+=1 \n",
    "        ntot += 1\n",
    "        if len(intron[4]) <= 29:\n",
    "            index_intron_small.append(index)\n",
    "            counter +=1\n",
    "            #print(str(index)+'\\t'.join([str(x) for x in row]))\n",
    "            break\n",
    "\n",
    "print(counter)\n",
    "print(total)\n",
    "print(n0)\n",
    "print(n1)\n",
    "print(n2)\n",
    "print(ntot)"
   ]
  },
  {
   "cell_type": "code",
   "execution_count": 12,
   "metadata": {},
   "outputs": [
    {
     "name": "stdout",
     "output_type": "stream",
     "text": "2656\n9944\n0\n"
    }
   ],
   "source": [
    "# Isoform Flagging\n",
    "ID_file = pd.read_csv(\"../../temp/isoform/uniprot_to_gene_human.tab\", sep=\"\\t\")\n",
    "ID_transcript = pd.read_csv(\"../../temp/isoform/gene_to_transcript.tab\", sep=\"\\t\")\n",
    "ID_isoform = pd.read_csv(\"../../temp/isoform/transcript_to_prot.tab\", sep=\"\\t\")\n",
    "ID_file.rename(columns={\"From\":\"prot\", \"To\":\"gene\"}, inplace=True)\n",
    "ID_isoform.rename(columns={\"From\":\"transcript\", \"To\":\"prot_isoform\"}, inplace=True)\n",
    "merged1 = ID_file.merge(ID_transcript, on=\"gene\", how=\"inner\")\n",
    "full_df = merged1.merge(ID_isoform, on=\"transcript\", how=\"inner\")\n",
    "\n",
    "counter = 0\n",
    "error = 0\n",
    "total = 0\n",
    "\n",
    "index_isoform = []\n",
    "for index, row in mismatch.iloc[:,:].iterrows():\n",
    "    # Récup de la list d'identifiant isoforme (bcp de traitement)\n",
    "    subset = full_df.loc[full_df[\"prot\"] == row[1]]\n",
    "    subset_same = subset.loc[subset[\"prot_isoform\"] == row[1]]\n",
    "    subset_dif = subset.loc[subset[\"prot_isoform\"] != row[1]]\n",
    "    rename_prot = [row[1]+\"-\"+str(x+2) for x in range(len(subset_same.index))]\n",
    "    rename_prot = [row[1]] + rename_prot[:-1]\n",
    "    subset_same.drop(\"prot_isoform\", axis=1, inplace=True)\n",
    "    subset_same[\"prot_isoform\"] = rename_prot\n",
    "    isoform_df = pd.concat([subset_same, subset_dif])\n",
    "    id_isoform_hum = isoform_df[\"prot_isoform\"].to_list()\n",
    "    \n",
    "    # Faire les alignements pour chaque mismatch\n",
    "    for i in id_isoform_hum:\n",
    "        subdf = prot_hum_iso.loc[prot_hum_iso[\"prot_ID\"]==i]\n",
    "        try:\n",
    "            human_seq_isoform = subdf.iloc[0,1]\n",
    "        except:\n",
    "            error +=1\n",
    "            continue\n",
    "        if i == row[1]:\n",
    "            continue\n",
    "        myAlign = pairwise2.align.localms(human_seq_isoform, row[11], 2, 0, -.5, -.5, one_alignment_only=True, score_only=True)\n",
    "        if myAlign/len(row[11]) > 1.6:\n",
    "            index_isoform.append(index)\n",
    "            counter += 1\n",
    "            break\n",
    "\n",
    "print(counter)\n",
    "print(error)\n",
    "print(total)\n",
    "    "
   ]
  },
  {
   "cell_type": "code",
   "execution_count": 14,
   "metadata": {},
   "outputs": [],
   "source": [
    "column_names = [\"mismatch_ID\", \"conserved\", \"one_hum_multiple_prim\", \"non_canonical_hum_spl\", \"N_in_genomic\", \"small_introns\", \"repeats_prot\", \"alignement_error\", \"human_isoform_exist\"]\n",
    "df = pd.DataFrame(columns = column_names)\n",
    "df[\"mismatch_ID\"] = mismatch[\"mismatch_ID\"]\n",
    "df['conserved'] = np.where(df[\"mismatch_ID\"].isin(index_conserved), 1, 0)\n",
    "df['one_hum_multiple_prim'] = np.where(df[\"mismatch_ID\"].isin(index_multiple_exon), 1, 0)\n",
    "df['non_canonical_hum_spl'] = np.where(df[\"mismatch_ID\"].isin(index_non_canon), 1, 0)\n",
    "df['N_in_genomic'] = np.where(df[\"mismatch_ID\"].isin(index_genom_n), 1, 0)\n",
    "df['small_introns'] = np.where(df[\"mismatch_ID\"].isin(index_intron_small), 1, 0)\n",
    "df['repeats_prot'] = np.where(df[\"mismatch_ID\"].isin(index_repeats), 1, 0)\n",
    "df['alignement_error'] = np.where(df[\"mismatch_ID\"].isin(index_align_error), 1, 0)\n",
    "df['human_isoform_exist'] = np.where(df[\"mismatch_ID\"].isin(index_isoform), 1, 0)\n",
    "df.to_sql(con=conn, name='mismatch_flag', index=False, if_exists=\"append\")\n"
   ]
  },
  {
   "cell_type": "code",
   "execution_count": 15,
   "metadata": {},
   "outputs": [
    {
     "data": {
      "text/html": "<div>\n<style scoped>\n    .dataframe tbody tr th:only-of-type {\n        vertical-align: middle;\n    }\n\n    .dataframe tbody tr th {\n        vertical-align: top;\n    }\n\n    .dataframe thead th {\n        text-align: right;\n    }\n</style>\n<table border=\"1\" class=\"dataframe\">\n  <thead>\n    <tr style=\"text-align: right;\">\n      <th></th>\n      <th>mismatch_ID</th>\n      <th>conserved</th>\n      <th>one_hum_multiple_prim</th>\n      <th>non_canonical_hum_spl</th>\n      <th>N_in_genomic</th>\n      <th>small_introns</th>\n      <th>repeats_prot</th>\n      <th>alignement_error</th>\n      <th>human_isoform_exist</th>\n    </tr>\n  </thead>\n  <tbody>\n    <tr>\n      <th>0</th>\n      <td>13</td>\n      <td>1</td>\n      <td>0</td>\n      <td>0</td>\n      <td>0</td>\n      <td>0</td>\n      <td>0</td>\n      <td>1</td>\n      <td>0</td>\n    </tr>\n    <tr>\n      <th>1</th>\n      <td>21</td>\n      <td>0</td>\n      <td>1</td>\n      <td>0</td>\n      <td>1</td>\n      <td>0</td>\n      <td>0</td>\n      <td>0</td>\n      <td>1</td>\n    </tr>\n    <tr>\n      <th>2</th>\n      <td>47</td>\n      <td>1</td>\n      <td>0</td>\n      <td>0</td>\n      <td>0</td>\n      <td>0</td>\n      <td>0</td>\n      <td>0</td>\n      <td>0</td>\n    </tr>\n    <tr>\n      <th>3</th>\n      <td>48</td>\n      <td>1</td>\n      <td>0</td>\n      <td>0</td>\n      <td>0</td>\n      <td>0</td>\n      <td>0</td>\n      <td>0</td>\n      <td>0</td>\n    </tr>\n    <tr>\n      <th>4</th>\n      <td>49</td>\n      <td>1</td>\n      <td>0</td>\n      <td>0</td>\n      <td>0</td>\n      <td>0</td>\n      <td>0</td>\n      <td>0</td>\n      <td>0</td>\n    </tr>\n    <tr>\n      <th>...</th>\n      <td>...</td>\n      <td>...</td>\n      <td>...</td>\n      <td>...</td>\n      <td>...</td>\n      <td>...</td>\n      <td>...</td>\n      <td>...</td>\n      <td>...</td>\n    </tr>\n    <tr>\n      <th>1784</th>\n      <td>18428</td>\n      <td>0</td>\n      <td>0</td>\n      <td>0</td>\n      <td>1</td>\n      <td>0</td>\n      <td>1</td>\n      <td>0</td>\n      <td>0</td>\n    </tr>\n    <tr>\n      <th>1785</th>\n      <td>18451</td>\n      <td>1</td>\n      <td>0</td>\n      <td>0</td>\n      <td>0</td>\n      <td>0</td>\n      <td>0</td>\n      <td>0</td>\n      <td>0</td>\n    </tr>\n    <tr>\n      <th>1786</th>\n      <td>18452</td>\n      <td>1</td>\n      <td>0</td>\n      <td>0</td>\n      <td>1</td>\n      <td>0</td>\n      <td>0</td>\n      <td>0</td>\n      <td>0</td>\n    </tr>\n    <tr>\n      <th>1787</th>\n      <td>18453</td>\n      <td>1</td>\n      <td>0</td>\n      <td>0</td>\n      <td>1</td>\n      <td>0</td>\n      <td>0</td>\n      <td>0</td>\n      <td>0</td>\n    </tr>\n    <tr>\n      <th>1788</th>\n      <td>18455</td>\n      <td>1</td>\n      <td>0</td>\n      <td>0</td>\n      <td>0</td>\n      <td>0</td>\n      <td>0</td>\n      <td>0</td>\n      <td>0</td>\n    </tr>\n  </tbody>\n</table>\n<p>1789 rows × 9 columns</p>\n</div>",
      "text/plain": "      mismatch_ID  conserved  one_hum_multiple_prim  non_canonical_hum_spl  \\\n0              13          1                      0                      0   \n1              21          0                      1                      0   \n2              47          1                      0                      0   \n3              48          1                      0                      0   \n4              49          1                      0                      0   \n...           ...        ...                    ...                    ...   \n1784        18428          0                      0                      0   \n1785        18451          1                      0                      0   \n1786        18452          1                      0                      0   \n1787        18453          1                      0                      0   \n1788        18455          1                      0                      0   \n\n      N_in_genomic  small_introns  repeats_prot  alignement_error  \\\n0                0              0             0                 1   \n1                1              0             0                 0   \n2                0              0             0                 0   \n3                0              0             0                 0   \n4                0              0             0                 0   \n...            ...            ...           ...               ...   \n1784             1              0             1                 0   \n1785             0              0             0                 0   \n1786             1              0             0                 0   \n1787             1              0             0                 0   \n1788             0              0             0                 0   \n\n      human_isoform_exist  \n0                       0  \n1                       1  \n2                       0  \n3                       0  \n4                       0  \n...                   ...  \n1784                    0  \n1785                    0  \n1786                    0  \n1787                    0  \n1788                    0  \n\n[1789 rows x 9 columns]"
     },
     "execution_count": 15,
     "metadata": {},
     "output_type": "execute_result"
    }
   ],
   "source": [
    "tata = pd.read_sql_query(\n",
    "\"\"\"SELECT * FROM mismatch_flag \n",
    "WHERE (one_hum_multiple_prim = 1\n",
    "OR non_canonical_hum_spl = 1\n",
    "OR N_in_genomic = 1\n",
    "OR small_introns = 1)\n",
    "AND (repeats_prot = 1\n",
    "OR alignement_error = 1\n",
    "OR human_isoform_exist = 1)\n",
    "OR conserved = 1\n",
    "\"\"\", conn)\n",
    "tata"
   ]
  },
  {
   "cell_type": "code",
   "execution_count": 15,
   "metadata": {},
   "outputs": [
    {
     "data": {
      "text/plain": "9606     20265\n9555     17827\n9483     17454\n60711    17988\n9601     17765\n9541     15951\n61853    17230\n9595     17870\n9544     17466\n30611    17278\n9598     17711\ndtype: int64"
     },
     "execution_count": 15,
     "metadata": {},
     "output_type": "execute_result"
    }
   ],
   "source": [
    "allprot = pd.read_csv(\"../../data/raw/orthoinspector-json-processed-v2/allProteineName.txt\", sep=\"\\t\")\n",
    "allprot.count()"
   ]
  }
 ]
}