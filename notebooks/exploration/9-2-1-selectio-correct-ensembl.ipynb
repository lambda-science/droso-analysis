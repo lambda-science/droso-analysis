{
 "nbformat": 4,
 "nbformat_minor": 2,
 "metadata": {
  "language_info": {
   "name": "python",
   "codemirror_mode": {
    "name": "ipython",
    "version": 3
   },
   "version": "3.7.6-final"
  },
  "orig_nbformat": 2,
  "file_extension": ".py",
  "mimetype": "text/x-python",
  "name": "python",
  "npconvert_exporter": "python",
  "pygments_lexer": "ipython3",
  "version": 3,
  "kernelspec": {
   "name": "python37664bitstageenvconda39052ae7dd75404f9bdb3226673ac6d7",
   "display_name": "Python 3.7.6 64-bit ('stage-env': conda)"
  }
 },
 "cells": [
  {
   "cell_type": "code",
   "execution_count": 1,
   "metadata": {},
   "outputs": [],
   "source": [
    "import pandas as pd\n",
    "import sys\n",
    "try:\n",
    "    sys.path.append('~/stage-thompson/src/')\n",
    "    from Generate_Exon_Map_4 import *\n",
    "except:\n",
    "    pass\n",
    "\n",
    "ID_file = pd.read_csv(\"../../data/mismatch-flagging/human_uniprot_ensembl.tab\", sep=\"\\t\")\n",
    "my_CDS = fasta2List(\"../../data/mismatch-flagging/human_CDS.fasta\")"
   ]
  },
  {
   "cell_type": "code",
   "execution_count": 18,
   "metadata": {},
   "outputs": [],
   "source": [
    "f = open(\"../../data/mismatch-flagging/human_uniprot_ensembl_corrected.tab\", \"w\")\n",
    "f.write(\"From\\tTo\\n\")\n",
    "for index, row in ID_file.iloc[:,:].iterrows():\n",
    "    Prot_list = fasta2List(\"../../data/raw/uniprot-sequence/\"+row[0]+\".id.fasta\")\n",
    "\n",
    "    CDS = [val for key, val in my_CDS.items() if row[1] in key]\n",
    "    prot = [val for key, val in Prot_list.items() if row[0] in key]\n",
    "\n",
    "    if CDS == [] or prot == []:\n",
    "        continue\n",
    "    elif len(CDS[0])-3 == len(prot[0])*3:\n",
    "        f.write(row[0] + \"\\t\" + row[1]+\"\\n\")\n",
    "\n",
    "f.close()"
   ]
  }
 ]
}