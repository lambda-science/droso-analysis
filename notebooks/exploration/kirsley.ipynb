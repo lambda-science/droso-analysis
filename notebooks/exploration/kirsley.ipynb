{
 "nbformat": 4,
 "nbformat_minor": 2,
 "metadata": {
  "language_info": {
   "name": "python",
   "codemirror_mode": {
    "name": "ipython",
    "version": 3
   },
   "version": "3.7.6-final"
  },
  "orig_nbformat": 2,
  "file_extension": ".py",
  "mimetype": "text/x-python",
  "name": "python",
  "npconvert_exporter": "python",
  "pygments_lexer": "ipython3",
  "version": 3,
  "kernelspec": {
   "name": "python37664bitstageenvconda39052ae7dd75404f9bdb3226673ac6d7",
   "display_name": "Python 3.7.6 64-bit ('stage-env': conda)"
  }
 },
 "cells": [
  {
   "cell_type": "code",
   "execution_count": null,
   "metadata": {},
   "outputs": [],
   "source": [
    "import pandas as pd\n",
    "try:\n",
    "    import sys\n",
    "    sys.path.append('~/stage-thompson/src/')\n",
    "    from Generate_Exon_Map_4 import fasta2List\n",
    "except:\n",
    "    pass\n",
    "Error_file = pd.read_csv(\"../../data/kirsley-analysis/kirsley_error_type3.txt\", sep=\" \", header=None)"
   ]
  },
  {
   "cell_type": "code",
   "execution_count": null,
   "metadata": {},
   "outputs": [],
   "source": [
    "f = open(\"../../data/kirsley-analysis/kirsley_error_type3_seq.txt\", 'w')\n",
    "f.write(\"Alignement_File Error_Type UniprotID StartPrimate StopPrimate StartHuman StopHuman SeqPrimate SeqHuman\\n\")\n",
    "for index, row in Error_file.iloc[:,:].iterrows():\n",
    "    fasta_name = row[0][44:-6]\n",
    "    Prot_list = fasta2List(\"../../data/raw/kirsley/\"+fasta_name)\n",
    "    prot_prim = [val for key, val in Prot_list.items() if row[2] in key]\n",
    "    prot_hum = [val for key, val in Prot_list.items() if row[0][44:-30] in key]\n",
    "    mismatch_prim = prot_prim[0][row[3]:row[4]+1]\n",
    "    mismatch_hum = prot_hum[0][row[5]:row[6]+1]\n",
    "\n",
    "    f.write(' '.join([str(x) for x in row])+\" \"+mismatch_prim+\" \"+mismatch_hum+\"\\n\")\n",
    "f.close()"
   ]
  }
 ]
}