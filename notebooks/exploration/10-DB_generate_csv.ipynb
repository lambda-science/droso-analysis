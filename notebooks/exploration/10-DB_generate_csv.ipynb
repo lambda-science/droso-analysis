{
 "nbformat": 4,
 "nbformat_minor": 2,
 "metadata": {
  "language_info": {
   "name": "python",
   "codemirror_mode": {
    "name": "ipython",
    "version": 3
   }
  },
  "orig_nbformat": 2,
  "file_extension": ".py",
  "mimetype": "text/x-python",
  "name": "python",
  "npconvert_exporter": "python",
  "pygments_lexer": "ipython3",
  "version": 3,
  "kernelspec": {
   "name": "python3",
   "display_name": "Python 3"
  }
 },
 "cells": [
  {
   "cell_type": "code",
   "execution_count": 58,
   "metadata": {},
   "outputs": [],
   "source": [
    "import sqlite3\n",
    "conn = sqlite3.connect('../../mismatch_db.db')"
   ]
  },
  {
   "cell_type": "code",
   "execution_count": 3,
   "metadata": {},
   "outputs": [],
   "source": [
    "import pandas as pd\n",
    "import os\n",
    "import sys\n",
    "\n",
    "def fasta2List(pathFasta):\n",
    "    f = open(pathFasta, \"r\")\n",
    "    title = []\n",
    "    seq = []\n",
    "    seq_temp = []\n",
    "    for line in f:\n",
    "        if line[0] == \">\":\n",
    "            seq.append(''.join(seq_temp).replace(\"\\n\", \"\"))\n",
    "            title.append(line.replace(\"\\n\", \"\"))\n",
    "            seq_temp = []\n",
    "        else:\n",
    "            seq_temp.append(line)\n",
    "    seq.append(''.join(seq_temp).replace(\"\\n\", \"\"))\n",
    "    seq.pop(0)\n",
    "    dictionary = dict(zip(title, seq))\n",
    "    return dictionary"
   ]
  },
  {
   "cell_type": "code",
   "execution_count": null,
   "metadata": {},
   "outputs": [],
   "source": [
    "# Table mismatch\n",
    "error_list = pd.read_csv(\"../../data/mismatch-analysis2/uniprot_errors_type3.txt\", sep=\" \", header=None)\n",
    "human_exon_pos = pd.read_csv(\"../../data/mismatch-flagging/human_mismatch_exon_pos.tab\", sep=\"\\t\")\n",
    "primate_exon_pos = pd.read_csv(\"../../data/mismatch-analysis2/mismatch_exon_pos.tab\", sep=\"\\t\")\n",
    "# Script kirsley pr seq"
   ]
  },
  {
   "cell_type": "code",
   "execution_count": 5,
   "metadata": {},
   "outputs": [],
   "source": [
    "# Table Protein\n",
    "primate_prot = fasta2List(\"../../data/raw/uniprot-sequence/all_sequence.fasta\")\n",
    "human_prot = fasta2List(\"../../data/raw/uniprot-sequence/all_sequence.fasta\")\n",
    "primate_ensembl = pd.read_csv(\"../../data/mismatch-analysis2/transcript_ensembl_corrected2.tab\", sep=\"\\t\")\n",
    "human_ensembl = pd.read_csv(\"../../data/mismatch-flagging/human_transcript_ensembl_corrected2.tab\", sep=\"\\t\")"
   ]
  },
  {
   "cell_type": "code",
   "execution_count": 52,
   "metadata": {},
   "outputs": [],
   "source": [
    "primate_prot.update(human_prot)\n",
    "ensembl_uniprot = pd.concat([human_ensembl, primate_ensembl])\n",
    "ensembl_uniprot.rename(columns={'From':\"prot_ID\", 'To':\"transcript_ID\"}, inplace=True)\n",
    "prot_name = []\n",
    "orga = []\n",
    "seq = []\n",
    "\n",
    "for key, val in primate_prot.items():\n",
    "    my_elem = key.split(\" \")\n",
    "    prot_name.append(my_elem[0][1:])\n",
    "    orga.append([x for x in my_elem if \"OX=\" in x][0][3:])\n",
    "    seq.append(val)\n",
    "my_dict = {'prot_ID': prot_name, 'sequence': seq, 'organism': orga}\n",
    "df = pd.DataFrame(my_dict)"
   ]
  },
  {
   "cell_type": "code",
   "execution_count": 60,
   "metadata": {},
   "outputs": [],
   "source": [
    "prot_table = df.merge(ensembl_uniprot, on=[\"prot_ID\"], how='left')"
   ]
  },
  {
   "cell_type": "code",
   "execution_count": 62,
   "metadata": {},
   "outputs": [],
   "source": [
    "prot_table.to_sql(con=conn, name='protein', index=False, if_exists=\"append\")"
   ]
  },
  {
   "cell_type": "code",
   "execution_count": null,
   "metadata": {},
   "outputs": [],
   "source": [
    "# Table Transcript\n",
    "primate_ensembl = pd.read_csv(\"../../data/mismatch-analysis2/transcript_ensembl_corrected2.tab\", sep=\"\\t\")\n",
    "human_ensembl = pd.read_csv(\"../../data/mismatch-flagging/transcript_ensembl_corrected2.tab\", sep=\"\\t\")\n",
    "primate_cds = fasta2List(\"../../data/mismatch-analysis2/CDS_all_filt.fasta\")\n",
    "human_cds = fasta2List(\"../../data/mismatch-flagging/human_CDS_all_corrected_filt.fasta\")\n",
    "primate_genom = fasta2List(\"../../data/mismatch-analysis2/genomic_all_filt.fasta\")\n",
    "human_genom = fasta2List(\"../../data/mismatch-flagging/human_genomic_all_corrected_filt.fasta\")"
   ]
  },
  {
   "cell_type": "code",
   "execution_count": null,
   "metadata": {},
   "outputs": [],
   "source": [
    "# Table exon_intron_map\n",
    "# stage-thompson/data$ cat mismatch-analysis2/Exon_map.tab mismatch-analysis2/Intron_map.tab mismatch-flagging/human_Exon_map.tab mismatch-flagging/human_Intron_map.tab > full_exon_intron_map.tab\n",
    "full_map = pd.read_csv(\"../../data/full_exon_intron_map.tab\", sep=\"\\t\")"
   ]
  },
  {
   "cell_type": "code",
   "execution_count": null,
   "metadata": {},
   "outputs": [],
   "source": [
    "# Table tblastn"
   ]
  },
  {
   "cell_type": "code",
   "execution_count": null,
   "metadata": {},
   "outputs": [],
   "source": [
    "# Table mismatch_flag"
   ]
  }
 ]
}